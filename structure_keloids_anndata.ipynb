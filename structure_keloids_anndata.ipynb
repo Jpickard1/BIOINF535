{
 "cells": [
  {
   "cell_type": "markdown",
   "id": "02c3008c-ad5f-4d9d-9a0f-8cbdb38316d9",
   "metadata": {},
   "source": [
    "# Structure Keolids Single Cell Data\n",
    "\n",
    "This notebook organizes the single cell RNA-seq data collected in [Single cell transcriptomics reveals the cellular heterogeneity of keloids and the mechanism of their aggressiveness](https://www.nature.com/articles/s42003-024-07311-1#data-availability) into an `AnnData` object. These data can be found at NCBI’s Gene Expression Omnibus (GSE243716)."
   ]
  },
  {
   "cell_type": "markdown",
   "id": "a009c342-baa7-4548-b196-bfaa2d9ff467",
   "metadata": {},
   "source": [
    "# Download Data\n",
    "\n",
    "**TODO:** The output paths within the below cell should be set specifically to your file system (i.e. replace any path that begins `/nfs/turbo/...`)"
   ]
  },
  {
   "cell_type": "code",
   "execution_count": 1,
   "id": "34933292-662b-4b19-ab99-13e7a600da4e",
   "metadata": {},
   "outputs": [
    {
     "name": "stdout",
     "output_type": "stream",
     "text": [
      "--2025-04-10 00:14:52--  https://www.ncbi.nlm.nih.gov/geo/download/?acc=GSE243716&format=file\n",
      "Resolving proxy1.arc-ts.umich.edu (proxy1.arc-ts.umich.edu)... 141.211.192.53\n",
      "Connecting to proxy1.arc-ts.umich.edu (proxy1.arc-ts.umich.edu)|141.211.192.53|:3128... connected.\n",
      "Proxy request sent, awaiting response... 200 OK\n",
      "Length: 245596160 (234M) [application/x-tar]\n",
      "Saving to: ‘/nfs/turbo/umms-indikar/Joshua/differentialExpression/GSE243716.tar’\n",
      "\n",
      "/nfs/turbo/umms-ind 100%[===================>] 234.22M  83.2MB/s    in 2.8s    \n",
      "\n",
      "2025-04-10 00:14:55 (83.2 MB/s) - ‘/nfs/turbo/umms-indikar/Joshua/differentialExpression/GSE243716.tar’ saved [245596160/245596160]\n",
      "\n",
      "GSM7794710_K-barcodes.tsv.gz\n",
      "GSM7794710_K-features.tsv.gz\n",
      "GSM7794710_K-matrix.mtx.gz\n",
      "GSM7794711_H-barcodes.tsv.gz\n",
      "GSM7794711_H-features.tsv.gz\n",
      "GSM7794711_H-matrix.mtx.gz\n"
     ]
    }
   ],
   "source": [
    "!wget \"https://www.ncbi.nlm.nih.gov/geo/download/?acc=GSE243716&format=file\" -O /nfs/turbo/umms-indikar/Joshua/differentialExpression/GSE243716.tar\n",
    "!mkdir /nfs/turbo/umms-indikar/Joshua/differentialExpression/GSE243716/\n",
    "!tar -xvf /nfs/turbo/umms-indikar/Joshua/differentialExpression/GSE243716.tar -C /nfs/turbo/umms-indikar/Joshua/differentialExpression/GSE243716/"
   ]
  },
  {
   "cell_type": "markdown",
   "id": "5a9220bc-61d2-4fcc-ae97-beac1d56da49",
   "metadata": {},
   "source": [
    "After running this code, the following directory structure should appear"
   ]
  },
  {
   "cell_type": "raw",
   "id": "1a3fbe15-e5e4-43f0-bf45-280d58f8f8bb",
   "metadata": {},
   "source": [
    "[jpic@gl3177 differentialExpression]$ pwd\n",
    "/nfs/turbo/umms-indikar/Joshua/differentialExpression\n",
    "[jpic@gl3177 differentialExpression]$ tree -h\n",
    ".\n",
    "├── [  272]  GSE243716\n",
    "│   ├── [  47K]  GSM7794710_K-barcodes.tsv.gz\n",
    "│   ├── [ 326K]  GSM7794710_K-features.tsv.gz\n",
    "│   ├── [  98M]  GSM7794710_K-matrix.mtx.gz\n",
    "│   ├── [  79K]  GSM7794711_H-barcodes.tsv.gz\n",
    "│   ├── [ 326K]  GSM7794711_H-features.tsv.gz\n",
    "│   └── [ 136M]  GSM7794711_H-matrix.mtx.gz\n",
    "└── [ 234M]  GSE243716.tar\n",
    "\n",
    "1 directory, 7 file"
   ]
  },
  {
   "cell_type": "markdown",
   "id": "bd83a325-a09f-4b8a-b250-841da95051b3",
   "metadata": {},
   "source": [
    "# Package as AnnData and Save to File\n",
    "\n",
    "**TODO:** replace the `DATAPATH` with a location on your computer."
   ]
  },
  {
   "cell_type": "code",
   "execution_count": 10,
   "id": "80c04d08-eef8-4188-9621-79d6d299f9fc",
   "metadata": {},
   "outputs": [
    {
     "name": "stderr",
     "output_type": "stream",
     "text": [
      "/home/jpic/.local/lib/python3.11/site-packages/anndata/_core/anndata.py:1756: UserWarning: Observation names are not unique. To make them unique, call `.obs_names_make_unique`.\n",
      "  utils.warn_names_duplicates(\"obs\")\n"
     ]
    },
    {
     "name": "stdout",
     "output_type": "stream",
     "text": [
      "[+] Merged AnnData saved to: /nfs/turbo/umms-indikar/Joshua/differentialExpression/GSE243716/keloids.h5ad\n"
     ]
    }
   ],
   "source": [
    "import os\n",
    "import anndata as ad\n",
    "import scanpy as sc\n",
    "\n",
    "# === File Paths ===\n",
    "DATAPATH = \"/nfs/turbo/umms-indikar/Joshua/differentialExpression/GSE243716/\"\n",
    "OUTFILE = os.path.join(DATAPATH, \"keloids.h5ad\")\n",
    "\n",
    "# === Load Data ===\n",
    "# K sample\n",
    "adata_K = sc.read_10x_mtx(\n",
    "    os.path.join(DATAPATH),\n",
    "    var_names='gene_ids',\n",
    "    prefix='GSM7794710_K-'\n",
    ")\n",
    "\n",
    "# H sample\n",
    "adata_H = sc.read_10x_mtx(\n",
    "    os.path.join(DATAPATH),\n",
    "    var_names='gene_ids',\n",
    "    prefix='GSM7794711_H-'\n",
    ")\n",
    "\n",
    "# Add sample identifiers\n",
    "adata_K.obs['sample'] = 'K'\n",
    "adata_H.obs['sample'] = 'H'\n",
    "\n",
    "# === Merge ===\n",
    "adata_combined = ad.concat([adata_K, adata_H], join='outer')\n",
    "\n",
    "# === Save to .h5ad ===\n",
    "adata_combined.write(OUTFILE)\n",
    "print(f\"[+] Merged AnnData saved to: {OUTFILE}\")"
   ]
  },
  {
   "cell_type": "markdown",
   "id": "df385ed5-52af-406d-8d8f-d20cfd9ed289",
   "metadata": {},
   "source": [
    "# Validation"
   ]
  },
  {
   "cell_type": "code",
   "execution_count": 11,
   "id": "9c0da2c1-202f-4110-a7bf-0c6d7084cd0a",
   "metadata": {},
   "outputs": [
    {
     "name": "stdout",
     "output_type": "stream",
     "text": [
      "[+] Reload successful!\n",
      "Shape: (25855, 36601)\n",
      "Shape: (25855, 36601)\n",
      "Sample counts:\n",
      " sample\n",
      "H    16385\n",
      "K     9470\n",
      "Name: count, dtype: int64\n"
     ]
    },
    {
     "name": "stderr",
     "output_type": "stream",
     "text": [
      "/home/jpic/.local/lib/python3.11/site-packages/anndata/_core/anndata.py:1756: UserWarning: Observation names are not unique. To make them unique, call `.obs_names_make_unique`.\n",
      "  utils.warn_names_duplicates(\"obs\")\n"
     ]
    }
   ],
   "source": [
    "adata_check = sc.read_h5ad(OUTFILE)\n",
    "\n",
    "print(\"[+] Reload successful!\")\n",
    "print(\"Shape:\", adata_combined.shape)\n",
    "print(\"Shape:\", adata_check.shape)\n",
    "print(\"Sample counts:\\n\", adata_check.obs['sample'].value_counts())\n"
   ]
  }
 ],
 "metadata": {
  "kernelspec": {
   "display_name": "Python 3 (ipykernel)",
   "language": "python",
   "name": "python3"
  },
  "language_info": {
   "codemirror_mode": {
    "name": "ipython",
    "version": 3
   },
   "file_extension": ".py",
   "mimetype": "text/x-python",
   "name": "python",
   "nbconvert_exporter": "python",
   "pygments_lexer": "ipython3",
   "version": "3.11.7"
  }
 },
 "nbformat": 4,
 "nbformat_minor": 5
}
