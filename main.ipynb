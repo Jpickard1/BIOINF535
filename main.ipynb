{
 "cells": [
  {
   "cell_type": "markdown",
   "id": "84efa989-88ef-4183-a613-502947c02de4",
   "metadata": {},
   "source": [
    "# Agent for Single Cell RNAseq Analysis"
   ]
  },
  {
   "cell_type": "markdown",
   "id": "26b43635-b9ea-41ba-b5e6-f794fdfeeb99",
   "metadata": {},
   "source": [
    "# User Inputs"
   ]
  },
  {
   "cell_type": "code",
   "execution_count": 2,
   "id": "47606d3b-2f79-40e5-ae25-7a04bab8d49e",
   "metadata": {},
   "outputs": [],
   "source": [
    "user_query = \"\"\"Analyze this single cell RNA-seq data about Keloids. Identify\n",
    "biomarkers from this dataset and discuss the relationship of these data to the\n",
    "african american community.\"\"\"\n",
    "scrna_data_path = \".../data.h5ad\""
   ]
  },
  {
   "cell_type": "markdown",
   "id": "4779222b-1df3-4e3d-8678-3f31cb6abfbf",
   "metadata": {},
   "source": [
    "# Download Papers"
   ]
  },
  {
   "cell_type": "markdown",
   "id": "5c6cf9b9-4d53-4349-b4bb-25218133538d",
   "metadata": {},
   "source": [
    "## Functions"
   ]
  },
  {
   "cell_type": "code",
   "execution_count": 3,
   "id": "5b4306e2-ae20-4e79-8790-9f1531f917d9",
   "metadata": {},
   "outputs": [],
   "source": [
    "\"\"\"\n",
    "Generate search keywords from a user query using LangChain and OpenAI.\n",
    "\"\"\"\n",
    "\n",
    "from langchain.chat_models import ChatOpenAI\n",
    "from langchain.schema import SystemMessage, HumanMessage\n",
    "import os\n",
    "\n",
    "def get_keywords_from_query(user_query: str, model_name=\"gpt-3.5-turbo\", num_keywords=5) -> list:\n",
    "    llm = ChatOpenAI(model=model_name, temperature=0.5)\n",
    "\n",
    "    system_prompt = (\n",
    "        \"You are an assistant that converts user research questions into a short list of high-quality \"\n",
    "        \"keywords for academic search (e.g., Semantic Scholar).\"\n",
    "    )\n",
    "    user_prompt = (\n",
    "        f\"User query: {user_query}\\n\\n\"\n",
    "        f\"Provide {num_keywords} short, relevant keywords or phrases separated by commas.\"\n",
    "    )\n",
    "\n",
    "    messages = [\n",
    "        SystemMessage(content=system_prompt),\n",
    "        HumanMessage(content=user_prompt)\n",
    "    ]\n",
    "\n",
    "    response = llm(messages)\n",
    "    keyword_string = response.content.strip()\n",
    "\n",
    "    # Split and clean keywords\n",
    "    keywords = [kw.strip() for kw in keyword_string.split(\",\")]\n",
    "    return keywords\n"
   ]
  },
  {
   "cell_type": "code",
   "execution_count": 4,
   "id": "113f1554-ece3-44f7-9428-8d709fdbb10d",
   "metadata": {},
   "outputs": [],
   "source": [
    "\"\"\"\n",
    "Search and download papers from Semantic Scholar.\n",
    "\n",
    "Usage:\n",
    "    python semantic_scholar_search.py \"deep learning biology\" 5 ./output/\n",
    "\"\"\"\n",
    "\n",
    "import requests\n",
    "import os\n",
    "import sys\n",
    "import json\n",
    "from tqdm import tqdm\n",
    "\n",
    "BASE_URL = \"https://api.semanticscholar.org/graph/v1/paper/search\"\n",
    "\n",
    "def search_semantic_scholar(query, limit=10):\n",
    "    params = {\n",
    "        \"query\": query,\n",
    "        \"limit\": limit,\n",
    "        \"fields\": \"title,authors,abstract,url,year,externalIds,isOpenAccess,openAccessPdf\"\n",
    "    }\n",
    "    response = requests.get(BASE_URL, params=params)\n",
    "    response.raise_for_status()\n",
    "    return response.json()[\"data\"]\n",
    "\n",
    "def save_metadata(papers, outdir):\n",
    "    metadata_path = os.path.join(outdir, \"papers_metadata.json\")\n",
    "    with open(metadata_path, \"w\") as f:\n",
    "        json.dump(papers, f, indent=2)\n",
    "    print(f\"[+] Saved metadata to {metadata_path}\")\n",
    "\n",
    "def download_pdfs(papers, outdir):\n",
    "    for i, paper in tqdm(enumerate(papers), desc=\"Downloading Papers\"):\n",
    "        pdf_url = paper.get(\"openAccessPdf\", {}).get(\"url\")\n",
    "        if pdf_url:\n",
    "            try:\n",
    "                response = requests.get(pdf_url)\n",
    "                response.raise_for_status()\n",
    "                title = papers[0]['title'].replace(' ', '_').replace('.','_').replace('-','_').replace(',','_').replace(':','_')\n",
    "                filename = f\"{title}.pdf\"\n",
    "                filepath = os.path.join(outdir, filename)\n",
    "                with open(filepath, \"wb\") as f:\n",
    "                    f.write(response.content)\n",
    "                print(f\"[+] Downloaded: {filename}\")\n",
    "            except Exception as e:\n",
    "                print(f\"[!] Failed to download paper {i+1}: {e}\")\n",
    "        else:\n",
    "            print(f\"[!] No open access PDF for paper {i+1}\")\n"
   ]
  },
  {
   "cell_type": "markdown",
   "id": "fb70dcfd-b7ec-4469-930e-193de3c83b1c",
   "metadata": {},
   "source": [
    "## Constants"
   ]
  },
  {
   "cell_type": "code",
   "execution_count": 9,
   "id": "d98c9c6c-7625-4b3c-bb9e-0b51d57496f8",
   "metadata": {},
   "outputs": [],
   "source": [
    "output_dir = \"downloads\" # Loacation where papers will be downloaded to\n",
    "num_papers = 25          # Number of papers per downlowd"
   ]
  },
  {
   "cell_type": "markdown",
   "id": "b633e8d2-15fa-432c-b4ce-984dd4eff49c",
   "metadata": {},
   "source": [
    "## Script"
   ]
  },
  {
   "cell_type": "code",
   "execution_count": 10,
   "id": "c623ae05-749d-48ad-b183-14ed5a824447",
   "metadata": {},
   "outputs": [
    {
     "data": {
      "text/plain": [
       "['Single cell RNA-seq',\n",
       " 'Keloids',\n",
       " 'Biomarkers',\n",
       " 'African American community',\n",
       " 'Relationship']"
      ]
     },
     "execution_count": 10,
     "metadata": {},
     "output_type": "execute_result"
    }
   ],
   "source": [
    "keywords"
   ]
  },
  {
   "cell_type": "code",
   "execution_count": 12,
   "id": "207189c3-3be1-4596-8745-d43aa52784b1",
   "metadata": {
    "scrolled": true
   },
   "outputs": [
    {
     "name": "stderr",
     "output_type": "stream",
     "text": [
      "Keywords:   0%|          | 0/5 [00:00<?, ?it/s]"
     ]
    },
    {
     "name": "stdout",
     "output_type": "stream",
     "text": [
      "[+] Saved metadata to downloads/papers_metadata.json\n"
     ]
    },
    {
     "name": "stderr",
     "output_type": "stream",
     "text": [
      "\n",
      "Downloading Papers: 0it [00:00, ?it/s]\u001b[A\n",
      "Downloading Papers: 1it [00:29, 29.95s/it]\u001b[A"
     ]
    },
    {
     "name": "stdout",
     "output_type": "stream",
     "text": [
      "[+] Downloaded: Normalization_and_variance_stabilization_of_single_cell_RNA_seq_data_using_regularized_negative_binomial_regression.pdf\n"
     ]
    },
    {
     "name": "stderr",
     "output_type": "stream",
     "text": [
      "\n",
      "Downloading Papers: 2it [00:31, 13.17s/it]\u001b[A"
     ]
    },
    {
     "name": "stdout",
     "output_type": "stream",
     "text": [
      "[+] Downloaded: Normalization_and_variance_stabilization_of_single_cell_RNA_seq_data_using_regularized_negative_binomial_regression.pdf\n"
     ]
    },
    {
     "name": "stderr",
     "output_type": "stream",
     "text": [
      "\n",
      "Downloading Papers: 3it [00:36,  9.72s/it]\u001b[A"
     ]
    },
    {
     "name": "stdout",
     "output_type": "stream",
     "text": [
      "[+] Downloaded: Normalization_and_variance_stabilization_of_single_cell_RNA_seq_data_using_regularized_negative_binomial_regression.pdf\n"
     ]
    },
    {
     "name": "stderr",
     "output_type": "stream",
     "text": [
      "\n",
      "Downloading Papers: 4it [00:38,  6.52s/it]\u001b[A"
     ]
    },
    {
     "name": "stdout",
     "output_type": "stream",
     "text": [
      "[+] Downloaded: Normalization_and_variance_stabilization_of_single_cell_RNA_seq_data_using_regularized_negative_binomial_regression.pdf\n"
     ]
    },
    {
     "name": "stderr",
     "output_type": "stream",
     "text": [
      "\n",
      "Downloading Papers: 5it [00:40,  4.77s/it]\u001b[A"
     ]
    },
    {
     "name": "stdout",
     "output_type": "stream",
     "text": [
      "[+] Downloaded: Normalization_and_variance_stabilization_of_single_cell_RNA_seq_data_using_regularized_negative_binomial_regression.pdf\n"
     ]
    },
    {
     "name": "stderr",
     "output_type": "stream",
     "text": [
      "\n",
      "Downloading Papers: 6it [00:56,  8.70s/it]\u001b[A"
     ]
    },
    {
     "name": "stdout",
     "output_type": "stream",
     "text": [
      "[+] Downloaded: Normalization_and_variance_stabilization_of_single_cell_RNA_seq_data_using_regularized_negative_binomial_regression.pdf\n"
     ]
    },
    {
     "name": "stderr",
     "output_type": "stream",
     "text": [
      "\n",
      "Downloading Papers: 7it [00:58,  6.49s/it]\u001b[A"
     ]
    },
    {
     "name": "stdout",
     "output_type": "stream",
     "text": [
      "[+] Downloaded: Normalization_and_variance_stabilization_of_single_cell_RNA_seq_data_using_regularized_negative_binomial_regression.pdf\n"
     ]
    },
    {
     "name": "stderr",
     "output_type": "stream",
     "text": [
      "\n",
      "Downloading Papers: 8it [00:58,  4.50s/it]\u001b[A"
     ]
    },
    {
     "name": "stdout",
     "output_type": "stream",
     "text": [
      "[+] Downloaded: Normalization_and_variance_stabilization_of_single_cell_RNA_seq_data_using_regularized_negative_binomial_regression.pdf\n"
     ]
    },
    {
     "name": "stderr",
     "output_type": "stream",
     "text": [
      "\n",
      "Downloading Papers: 9it [01:00,  3.58s/it]\u001b[A"
     ]
    },
    {
     "name": "stdout",
     "output_type": "stream",
     "text": [
      "[+] Downloaded: Normalization_and_variance_stabilization_of_single_cell_RNA_seq_data_using_regularized_negative_binomial_regression.pdf\n",
      "[!] No open access PDF for paper 10\n"
     ]
    },
    {
     "name": "stderr",
     "output_type": "stream",
     "text": [
      "\n",
      "Downloading Papers: 11it [01:01,  2.21s/it]\u001b[A"
     ]
    },
    {
     "name": "stdout",
     "output_type": "stream",
     "text": [
      "[+] Downloaded: Normalization_and_variance_stabilization_of_single_cell_RNA_seq_data_using_regularized_negative_binomial_regression.pdf\n"
     ]
    },
    {
     "name": "stderr",
     "output_type": "stream",
     "text": [
      "\n",
      "Downloading Papers: 12it [01:03,  2.15s/it]\u001b[A"
     ]
    },
    {
     "name": "stdout",
     "output_type": "stream",
     "text": [
      "[+] Downloaded: Normalization_and_variance_stabilization_of_single_cell_RNA_seq_data_using_regularized_negative_binomial_regression.pdf\n"
     ]
    },
    {
     "name": "stderr",
     "output_type": "stream",
     "text": [
      "\n",
      "Downloading Papers: 13it [01:05,  2.14s/it]\u001b[A"
     ]
    },
    {
     "name": "stdout",
     "output_type": "stream",
     "text": [
      "[+] Downloaded: Normalization_and_variance_stabilization_of_single_cell_RNA_seq_data_using_regularized_negative_binomial_regression.pdf\n"
     ]
    },
    {
     "name": "stderr",
     "output_type": "stream",
     "text": [
      "\n",
      "Downloading Papers: 14it [01:15,  4.24s/it]\u001b[A"
     ]
    },
    {
     "name": "stdout",
     "output_type": "stream",
     "text": [
      "[+] Downloaded: Normalization_and_variance_stabilization_of_single_cell_RNA_seq_data_using_regularized_negative_binomial_regression.pdf\n"
     ]
    },
    {
     "name": "stderr",
     "output_type": "stream",
     "text": [
      "\n",
      "Downloading Papers: 15it [01:27,  6.44s/it]\u001b[A"
     ]
    },
    {
     "name": "stdout",
     "output_type": "stream",
     "text": [
      "[+] Downloaded: Normalization_and_variance_stabilization_of_single_cell_RNA_seq_data_using_regularized_negative_binomial_regression.pdf\n"
     ]
    },
    {
     "name": "stderr",
     "output_type": "stream",
     "text": [
      "\n",
      "Downloading Papers: 16it [01:53, 11.93s/it]\u001b[A"
     ]
    },
    {
     "name": "stdout",
     "output_type": "stream",
     "text": [
      "[+] Downloaded: Normalization_and_variance_stabilization_of_single_cell_RNA_seq_data_using_regularized_negative_binomial_regression.pdf\n"
     ]
    },
    {
     "name": "stderr",
     "output_type": "stream",
     "text": [
      "\n",
      "Downloading Papers: 17it [01:56,  9.36s/it]\u001b[A"
     ]
    },
    {
     "name": "stdout",
     "output_type": "stream",
     "text": [
      "[+] Downloaded: Normalization_and_variance_stabilization_of_single_cell_RNA_seq_data_using_regularized_negative_binomial_regression.pdf\n",
      "[!] No open access PDF for paper 18\n"
     ]
    },
    {
     "name": "stderr",
     "output_type": "stream",
     "text": [
      "\n",
      "Downloading Papers: 19it [01:59,  5.89s/it]\u001b[A"
     ]
    },
    {
     "name": "stdout",
     "output_type": "stream",
     "text": [
      "[+] Downloaded: Normalization_and_variance_stabilization_of_single_cell_RNA_seq_data_using_regularized_negative_binomial_regression.pdf\n"
     ]
    },
    {
     "name": "stderr",
     "output_type": "stream",
     "text": [
      "\n",
      "Downloading Papers: 20it [02:05,  5.97s/it]\u001b[A"
     ]
    },
    {
     "name": "stdout",
     "output_type": "stream",
     "text": [
      "[+] Downloaded: Normalization_and_variance_stabilization_of_single_cell_RNA_seq_data_using_regularized_negative_binomial_regression.pdf\n",
      "[!] No open access PDF for paper 21\n",
      "[!] No open access PDF for paper 22\n"
     ]
    },
    {
     "name": "stderr",
     "output_type": "stream",
     "text": [
      "\n",
      "Downloading Papers: 23it [02:17,  4.91s/it]\u001b[A"
     ]
    },
    {
     "name": "stdout",
     "output_type": "stream",
     "text": [
      "[+] Downloaded: Normalization_and_variance_stabilization_of_single_cell_RNA_seq_data_using_regularized_negative_binomial_regression.pdf\n"
     ]
    },
    {
     "name": "stderr",
     "output_type": "stream",
     "text": [
      "\n",
      "Downloading Papers: 24it [02:21,  4.77s/it]\u001b[A"
     ]
    },
    {
     "name": "stdout",
     "output_type": "stream",
     "text": [
      "[+] Downloaded: Normalization_and_variance_stabilization_of_single_cell_RNA_seq_data_using_regularized_negative_binomial_regression.pdf\n"
     ]
    },
    {
     "name": "stderr",
     "output_type": "stream",
     "text": [
      "\n",
      "Downloading Papers: 25it [02:22,  5.69s/it]\u001b[A\n",
      "Keywords:  20%|██        | 1/5 [02:23<09:34, 143.55s/it]"
     ]
    },
    {
     "name": "stdout",
     "output_type": "stream",
     "text": [
      "[!] Failed to download paper 25: 403 Client Error: Forbidden for url: https://pmc.ncbi.nlm.nih.gov/articles/PMC5465819\n",
      "[+] Saved metadata to downloads/papers_metadata.json\n"
     ]
    },
    {
     "name": "stderr",
     "output_type": "stream",
     "text": [
      "\n",
      "Downloading Papers: 0it [00:00, ?it/s]\u001b[A\n",
      "Downloading Papers: 2it [00:00, 10.72it/s]\u001b[A"
     ]
    },
    {
     "name": "stdout",
     "output_type": "stream",
     "text": [
      "[!] No open access PDF for paper 1\n",
      "[!] Failed to download paper 2: 403 Client Error: Forbidden for url: https://journals.lww.com/10.1097/PRS.0000000000008667\n",
      "[!] No open access PDF for paper 3\n"
     ]
    },
    {
     "name": "stderr",
     "output_type": "stream",
     "text": [
      "\n",
      "Downloading Papers: 4it [00:00,  8.37it/s]\u001b[A"
     ]
    },
    {
     "name": "stdout",
     "output_type": "stream",
     "text": [
      "[!] Failed to download paper 4: 403 Client Error: Forbidden for url: https://pmc.ncbi.nlm.nih.gov/articles/PMC8975835\n"
     ]
    },
    {
     "name": "stderr",
     "output_type": "stream",
     "text": [
      "\n",
      "Downloading Papers: 5it [00:00,  5.54it/s]\u001b[A"
     ]
    },
    {
     "name": "stdout",
     "output_type": "stream",
     "text": [
      "[+] Downloaded: Hypertrophic_Scars_and_Keloids__Advances_in_Treatment_and_Review_of_Established_Therapies.pdf\n"
     ]
    },
    {
     "name": "stderr",
     "output_type": "stream",
     "text": [
      "\n",
      "Downloading Papers: 6it [00:01,  4.77it/s]\u001b[A"
     ]
    },
    {
     "name": "stdout",
     "output_type": "stream",
     "text": [
      "[!] Failed to download paper 6: 403 Client Error: Forbidden for url: https://pmc.ncbi.nlm.nih.gov/articles/PMC9797913\n"
     ]
    },
    {
     "name": "stderr",
     "output_type": "stream",
     "text": [
      "\n",
      "Downloading Papers: 7it [00:01,  4.55it/s]\u001b[A"
     ]
    },
    {
     "name": "stdout",
     "output_type": "stream",
     "text": [
      "[!] Failed to download paper 7: 403 Client Error: Forbidden for url: https://journals.lww.com/10.1097/CM9.0000000000002093\n",
      "[!] No open access PDF for paper 8\n",
      "[!] Failed to download paper 9: 403 Client Error: Forbidden for url: https://onlinelibrary.wiley.com/doi/pdfdirect/10.1111/exd.14121\n"
     ]
    },
    {
     "name": "stderr",
     "output_type": "stream",
     "text": [
      "\n",
      "Downloading Papers: 10it [00:02,  2.61it/s]\u001b[A"
     ]
    },
    {
     "name": "stdout",
     "output_type": "stream",
     "text": [
      "[+] Downloaded: Hypertrophic_Scars_and_Keloids__Advances_in_Treatment_and_Review_of_Established_Therapies.pdf\n"
     ]
    },
    {
     "name": "stderr",
     "output_type": "stream",
     "text": [
      "\n",
      "Downloading Papers: 11it [00:04,  1.69it/s]\u001b[A"
     ]
    },
    {
     "name": "stdout",
     "output_type": "stream",
     "text": [
      "[+] Downloaded: Hypertrophic_Scars_and_Keloids__Advances_in_Treatment_and_Review_of_Established_Therapies.pdf\n"
     ]
    },
    {
     "name": "stderr",
     "output_type": "stream",
     "text": [
      "\n",
      "Downloading Papers: 12it [00:04,  1.92it/s]\u001b[A"
     ]
    },
    {
     "name": "stdout",
     "output_type": "stream",
     "text": [
      "[!] Failed to download paper 12: 403 Client Error: Forbidden for url: https://pmc.ncbi.nlm.nih.gov/articles/PMC7940466\n"
     ]
    },
    {
     "name": "stderr",
     "output_type": "stream",
     "text": [
      "\n",
      "Downloading Papers: 13it [00:05,  1.82it/s]\u001b[A"
     ]
    },
    {
     "name": "stdout",
     "output_type": "stream",
     "text": [
      "[+] Downloaded: Hypertrophic_Scars_and_Keloids__Advances_in_Treatment_and_Review_of_Established_Therapies.pdf\n"
     ]
    },
    {
     "name": "stderr",
     "output_type": "stream",
     "text": [
      "\n",
      "Downloading Papers: 14it [00:06,  1.14it/s]\u001b[A"
     ]
    },
    {
     "name": "stdout",
     "output_type": "stream",
     "text": [
      "[+] Downloaded: Hypertrophic_Scars_and_Keloids__Advances_in_Treatment_and_Review_of_Established_Therapies.pdf\n",
      "[!] Failed to download paper 15: 403 Client Error: Forbidden for url: https://onlinelibrary.wiley.com/doi/pdfdirect/10.1111/exd.14414\n"
     ]
    },
    {
     "name": "stderr",
     "output_type": "stream",
     "text": [
      "\n",
      "Downloading Papers: 16it [00:11,  1.50s/it]\u001b[A"
     ]
    },
    {
     "name": "stdout",
     "output_type": "stream",
     "text": [
      "[+] Downloaded: Hypertrophic_Scars_and_Keloids__Advances_in_Treatment_and_Review_of_Established_Therapies.pdf\n"
     ]
    },
    {
     "name": "stderr",
     "output_type": "stream",
     "text": [
      "\n",
      "Downloading Papers: 17it [00:13,  1.57s/it]\u001b[A"
     ]
    },
    {
     "name": "stdout",
     "output_type": "stream",
     "text": [
      "[+] Downloaded: Hypertrophic_Scars_and_Keloids__Advances_in_Treatment_and_Review_of_Established_Therapies.pdf\n"
     ]
    },
    {
     "name": "stderr",
     "output_type": "stream",
     "text": [
      "\n",
      "Downloading Papers: 18it [00:15,  1.60s/it]\u001b[A"
     ]
    },
    {
     "name": "stdout",
     "output_type": "stream",
     "text": [
      "[+] Downloaded: Hypertrophic_Scars_and_Keloids__Advances_in_Treatment_and_Review_of_Established_Therapies.pdf\n"
     ]
    },
    {
     "name": "stderr",
     "output_type": "stream",
     "text": [
      "\n",
      "Downloading Papers: 19it [00:18,  2.17s/it]\u001b[A"
     ]
    },
    {
     "name": "stdout",
     "output_type": "stream",
     "text": [
      "[+] Downloaded: Hypertrophic_Scars_and_Keloids__Advances_in_Treatment_and_Review_of_Established_Therapies.pdf\n",
      "[!] No open access PDF for paper 20\n"
     ]
    },
    {
     "name": "stderr",
     "output_type": "stream",
     "text": [
      "\n",
      "Downloading Papers: 21it [00:19,  1.31s/it]\u001b[A"
     ]
    },
    {
     "name": "stdout",
     "output_type": "stream",
     "text": [
      "[+] Downloaded: Hypertrophic_Scars_and_Keloids__Advances_in_Treatment_and_Review_of_Established_Therapies.pdf\n"
     ]
    },
    {
     "name": "stderr",
     "output_type": "stream",
     "text": [
      "\n",
      "Downloading Papers: 22it [00:23,  1.94s/it]\u001b[A"
     ]
    },
    {
     "name": "stdout",
     "output_type": "stream",
     "text": [
      "[+] Downloaded: Hypertrophic_Scars_and_Keloids__Advances_in_Treatment_and_Review_of_Established_Therapies.pdf\n"
     ]
    },
    {
     "name": "stderr",
     "output_type": "stream",
     "text": [
      "\n",
      "Downloading Papers: 23it [00:23,  1.60s/it]\u001b[A"
     ]
    },
    {
     "name": "stdout",
     "output_type": "stream",
     "text": [
      "[+] Downloaded: Hypertrophic_Scars_and_Keloids__Advances_in_Treatment_and_Review_of_Established_Therapies.pdf\n"
     ]
    },
    {
     "name": "stderr",
     "output_type": "stream",
     "text": [
      "\n",
      "Downloading Papers: 24it [00:24,  1.33s/it]\u001b[A"
     ]
    },
    {
     "name": "stdout",
     "output_type": "stream",
     "text": [
      "[+] Downloaded: Hypertrophic_Scars_and_Keloids__Advances_in_Treatment_and_Review_of_Established_Therapies.pdf\n"
     ]
    },
    {
     "name": "stderr",
     "output_type": "stream",
     "text": [
      "\n",
      "Downloading Papers: 25it [00:27,  1.10s/it]\u001b[A\n",
      "Keywords:  40%|████      | 2/5 [02:52<03:47, 75.97s/it] "
     ]
    },
    {
     "name": "stdout",
     "output_type": "stream",
     "text": [
      "[+] Downloaded: Hypertrophic_Scars_and_Keloids__Advances_in_Treatment_and_Review_of_Established_Therapies.pdf\n",
      "[+] Saved metadata to downloads/papers_metadata.json\n"
     ]
    },
    {
     "name": "stderr",
     "output_type": "stream",
     "text": [
      "\n",
      "Downloading Papers: 0it [00:00, ?it/s]\u001b[A\n",
      "Downloading Papers: 1it [00:16, 16.27s/it]\u001b[A"
     ]
    },
    {
     "name": "stdout",
     "output_type": "stream",
     "text": [
      "[+] Downloaded: Tumor_biomarkers_for_diagnosis__prognosis_and_targeted_therapy.pdf\n"
     ]
    },
    {
     "name": "stderr",
     "output_type": "stream",
     "text": [
      "\n",
      "Downloading Papers: 2it [00:23, 10.76s/it]\u001b[A"
     ]
    },
    {
     "name": "stdout",
     "output_type": "stream",
     "text": [
      "[+] Downloaded: Tumor_biomarkers_for_diagnosis__prognosis_and_targeted_therapy.pdf\n"
     ]
    },
    {
     "name": "stderr",
     "output_type": "stream",
     "text": [
      "\n",
      "Downloading Papers: 3it [00:37, 12.34s/it]\u001b[A"
     ]
    },
    {
     "name": "stdout",
     "output_type": "stream",
     "text": [
      "[+] Downloaded: Tumor_biomarkers_for_diagnosis__prognosis_and_targeted_therapy.pdf\n"
     ]
    },
    {
     "name": "stderr",
     "output_type": "stream",
     "text": [
      "\n",
      "Downloading Papers: 4it [00:52, 13.25s/it]\u001b[A"
     ]
    },
    {
     "name": "stdout",
     "output_type": "stream",
     "text": [
      "[+] Downloaded: Tumor_biomarkers_for_diagnosis__prognosis_and_targeted_therapy.pdf\n"
     ]
    },
    {
     "name": "stderr",
     "output_type": "stream",
     "text": [
      "\n",
      "Downloading Papers: 5it [00:52,  8.57s/it]\u001b[A"
     ]
    },
    {
     "name": "stdout",
     "output_type": "stream",
     "text": [
      "[!] Failed to download paper 5: 403 Client Error: Forbidden for url: https://pmc.ncbi.nlm.nih.gov/articles/PMC5381938\n"
     ]
    },
    {
     "name": "stderr",
     "output_type": "stream",
     "text": [
      "\n",
      "Downloading Papers: 6it [00:53,  6.11s/it]\u001b[A"
     ]
    },
    {
     "name": "stdout",
     "output_type": "stream",
     "text": [
      "[+] Downloaded: Tumor_biomarkers_for_diagnosis__prognosis_and_targeted_therapy.pdf\n",
      "[!] No open access PDF for paper 7\n"
     ]
    },
    {
     "name": "stderr",
     "output_type": "stream",
     "text": [
      "\n",
      "Downloading Papers: 8it [00:59,  4.48s/it]\u001b[A"
     ]
    },
    {
     "name": "stdout",
     "output_type": "stream",
     "text": [
      "[+] Downloaded: Tumor_biomarkers_for_diagnosis__prognosis_and_targeted_therapy.pdf\n",
      "[!] No open access PDF for paper 9\n"
     ]
    },
    {
     "name": "stderr",
     "output_type": "stream",
     "text": [
      "\n",
      "Downloading Papers: 10it [01:00,  2.96s/it]\u001b[A"
     ]
    },
    {
     "name": "stdout",
     "output_type": "stream",
     "text": [
      "[+] Downloaded: Tumor_biomarkers_for_diagnosis__prognosis_and_targeted_therapy.pdf\n"
     ]
    },
    {
     "name": "stderr",
     "output_type": "stream",
     "text": [
      "\n",
      "Downloading Papers: 11it [01:01,  2.35s/it]\u001b[A"
     ]
    },
    {
     "name": "stdout",
     "output_type": "stream",
     "text": [
      "[!] Failed to download paper 11: 403 Client Error: Forbidden for url: https://pmc.ncbi.nlm.nih.gov/articles/PMC6705396\n"
     ]
    },
    {
     "name": "stderr",
     "output_type": "stream",
     "text": [
      "\n",
      "Downloading Papers: 12it [01:10,  4.02s/it]\u001b[A"
     ]
    },
    {
     "name": "stdout",
     "output_type": "stream",
     "text": [
      "[+] Downloaded: Tumor_biomarkers_for_diagnosis__prognosis_and_targeted_therapy.pdf\n"
     ]
    },
    {
     "name": "stderr",
     "output_type": "stream",
     "text": [
      "\n",
      "Downloading Papers: 13it [01:28,  7.73s/it]\u001b[A"
     ]
    },
    {
     "name": "stdout",
     "output_type": "stream",
     "text": [
      "[+] Downloaded: Tumor_biomarkers_for_diagnosis__prognosis_and_targeted_therapy.pdf\n"
     ]
    },
    {
     "name": "stderr",
     "output_type": "stream",
     "text": [
      "\n",
      "Downloading Papers: 14it [01:29,  5.81s/it]\u001b[A"
     ]
    },
    {
     "name": "stdout",
     "output_type": "stream",
     "text": [
      "[+] Downloaded: Tumor_biomarkers_for_diagnosis__prognosis_and_targeted_therapy.pdf\n"
     ]
    },
    {
     "name": "stderr",
     "output_type": "stream",
     "text": [
      "\n",
      "Downloading Papers: 15it [01:29,  4.27s/it]\u001b[A"
     ]
    },
    {
     "name": "stdout",
     "output_type": "stream",
     "text": [
      "[!] Failed to download paper 15: 403 Client Error: Forbidden for url: https://pmc.ncbi.nlm.nih.gov/articles/PMC8740483\n"
     ]
    },
    {
     "name": "stderr",
     "output_type": "stream",
     "text": [
      "\n",
      "Downloading Papers: 16it [01:30,  3.40s/it]\u001b[A"
     ]
    },
    {
     "name": "stdout",
     "output_type": "stream",
     "text": [
      "[+] Downloaded: Tumor_biomarkers_for_diagnosis__prognosis_and_targeted_therapy.pdf\n"
     ]
    },
    {
     "name": "stderr",
     "output_type": "stream",
     "text": [
      "\n",
      "Downloading Papers: 17it [01:35,  3.92s/it]\u001b[A"
     ]
    },
    {
     "name": "stdout",
     "output_type": "stream",
     "text": [
      "[+] Downloaded: Tumor_biomarkers_for_diagnosis__prognosis_and_targeted_therapy.pdf\n"
     ]
    },
    {
     "name": "stderr",
     "output_type": "stream",
     "text": [
      "\n",
      "Downloading Papers: 18it [01:36,  3.05s/it]\u001b[A"
     ]
    },
    {
     "name": "stdout",
     "output_type": "stream",
     "text": [
      "[+] Downloaded: Tumor_biomarkers_for_diagnosis__prognosis_and_targeted_therapy.pdf\n"
     ]
    },
    {
     "name": "stderr",
     "output_type": "stream",
     "text": [
      "\n",
      "Downloading Papers: 19it [01:37,  2.23s/it]\u001b[A"
     ]
    },
    {
     "name": "stdout",
     "output_type": "stream",
     "text": [
      "[!] Failed to download paper 19: 403 Client Error: Forbidden for url: https://pmc.ncbi.nlm.nih.gov/articles/PMC8574972\n",
      "[!] No open access PDF for paper 20\n",
      "[!] No open access PDF for paper 21\n",
      "[!] No open access PDF for paper 22\n",
      "[!] No open access PDF for paper 23\n"
     ]
    },
    {
     "name": "stderr",
     "output_type": "stream",
     "text": [
      "\n",
      "Downloading Papers: 24it [01:37,  1.32it/s]\u001b[A"
     ]
    },
    {
     "name": "stdout",
     "output_type": "stream",
     "text": [
      "[!] Failed to download paper 24: 403 Client Error: Forbidden for url: https://pmc.ncbi.nlm.nih.gov/articles/PMC5624035\n"
     ]
    },
    {
     "name": "stderr",
     "output_type": "stream",
     "text": [
      "\n",
      "Downloading Papers: 25it [01:38,  3.93s/it]\u001b[A\n",
      "Keywords:  60%|██████    | 3/5 [04:33<02:54, 87.34s/it]"
     ]
    },
    {
     "name": "stdout",
     "output_type": "stream",
     "text": [
      "[+] Downloaded: Tumor_biomarkers_for_diagnosis__prognosis_and_targeted_therapy.pdf\n",
      "[+] Saved metadata to downloads/papers_metadata.json\n"
     ]
    },
    {
     "name": "stderr",
     "output_type": "stream",
     "text": [
      "\n",
      "Downloading Papers: 0it [00:00, ?it/s]\u001b[A"
     ]
    },
    {
     "name": "stdout",
     "output_type": "stream",
     "text": [
      "[!] No open access PDF for paper 1\n"
     ]
    },
    {
     "name": "stderr",
     "output_type": "stream",
     "text": [
      "\n",
      "Downloading Papers: 2it [00:08,  4.43s/it]\u001b[A"
     ]
    },
    {
     "name": "stdout",
     "output_type": "stream",
     "text": [
      "[+] Downloaded: The_Historical__Psychosocial__and_Cultural_Context_of_Breastfeeding_in_the_African_American_Community_.pdf\n"
     ]
    },
    {
     "name": "stderr",
     "output_type": "stream",
     "text": [
      "\n",
      "Downloading Papers: 3it [00:09,  2.70s/it]\u001b[A"
     ]
    },
    {
     "name": "stdout",
     "output_type": "stream",
     "text": [
      "[!] Failed to download paper 3: 403 Client Error: Forbidden for url: https://pmc.ncbi.nlm.nih.gov/articles/PMC8224540\n",
      "[!] No open access PDF for paper 4\n"
     ]
    },
    {
     "name": "stderr",
     "output_type": "stream",
     "text": [
      "\n",
      "Downloading Papers: 5it [00:10,  1.61s/it]\u001b[A"
     ]
    },
    {
     "name": "stdout",
     "output_type": "stream",
     "text": [
      "[+] Downloaded: The_Historical__Psychosocial__and_Cultural_Context_of_Breastfeeding_in_the_African_American_Community_.pdf\n",
      "[!] No open access PDF for paper 6\n"
     ]
    },
    {
     "name": "stderr",
     "output_type": "stream",
     "text": [
      "\n",
      "Downloading Papers: 7it [00:10,  1.04it/s]\u001b[A"
     ]
    },
    {
     "name": "stdout",
     "output_type": "stream",
     "text": [
      "[!] Failed to download paper 7: 403 Client Error: Forbidden for url: https://pmc.ncbi.nlm.nih.gov/articles/PMC3910040\n"
     ]
    },
    {
     "name": "stderr",
     "output_type": "stream",
     "text": [
      "Downloading Papers: 7it [00:15,  2.16s/it]\n",
      "Keywords:  60%|██████    | 3/5 [04:49<03:12, 96.40s/it]\n",
      "\n",
      "KeyboardInterrupt\n",
      "\n"
     ]
    }
   ],
   "source": [
    "os.makedirs(output_dir, exist_ok=True)\n",
    "keywords = get_keywords_from_query(user_query)\n",
    "for keyword in tqdm(keywords, desc=\"Keywords\"):\n",
    "    papers = search_semantic_scholar(keyword, num_papers)\n",
    "    save_metadata(papers, output_dir)\n",
    "    download_pdfs(papers, output_dir)"
   ]
  },
  {
   "cell_type": "markdown",
   "id": "1a3005de-8796-46ec-9afc-a05a63d5a592",
   "metadata": {},
   "source": [
    "# Build RAG Database"
   ]
  },
  {
   "cell_type": "markdown",
   "id": "8baf9d43-af78-4f01-b6c8-8f40eb549d39",
   "metadata": {},
   "source": [
    "## Functions"
   ]
  },
  {
   "cell_type": "code",
   "execution_count": 13,
   "id": "4fbf8c2d-d3d5-4019-8683-00320af35c2f",
   "metadata": {},
   "outputs": [],
   "source": [
    "import os\n",
    "import json\n",
    "from langchain.embeddings import OpenAIEmbeddings\n",
    "from langchain.vectorstores import Chroma\n",
    "from langchain.document_loaders import PyPDFLoader\n",
    "from langchain.schema import Document\n",
    "from langchain.text_splitter import RecursiveCharacterTextSplitter"
   ]
  },
  {
   "cell_type": "code",
   "execution_count": 14,
   "id": "47354588-fc5f-4da0-9db6-6d585ebaeb6f",
   "metadata": {},
   "outputs": [],
   "source": [
    "def build_and_persist_rag_database(\n",
    "    input_dir: str = \"./papers\",\n",
    "    persist_dir: str = \"./rag_db\",\n",
    "    embedding_model=None,\n",
    "    chunk_size: int = 1000,\n",
    "    chunk_overlap: int = 200,\n",
    "    metadata_filename: str = \"papers_metadata.json\"\n",
    "):\n",
    "    \"\"\"\n",
    "    Load documents from PDFs or metadata, embed them, and persist to disk using Chroma.\n",
    "\n",
    "    Args:\n",
    "        input_dir (str): Directory containing PDFs and/or metadata JSON.\n",
    "        persist_dir (str): Directory to store the persisted vectorstore.\n",
    "        embedding_model: LangChain-compatible embedding model (defaults to OpenAIEmbeddings).\n",
    "        chunk_size (int): Size of text chunks for embedding.\n",
    "        chunk_overlap (int): Overlap between chunks.\n",
    "        metadata_filename (str): Name of the JSON file with paper metadata.\n",
    "\n",
    "    Returns:\n",
    "        vectorstore: The persisted Chroma vectorstore object.\n",
    "    \"\"\"\n",
    "    if embedding_model is None:\n",
    "        embedding_model = OpenAIEmbeddings()\n",
    "\n",
    "    documents = []\n",
    "\n",
    "    # Load PDFs\n",
    "    pdf_files = [f for f in os.listdir(input_dir) if f.endswith(\".pdf\")]\n",
    "    for pdf_file in pdf_files:\n",
    "        path = os.path.join(input_dir, pdf_file)\n",
    "        try:\n",
    "            loader = PyPDFLoader(path)\n",
    "            documents.extend(loader.load())\n",
    "        except Exception as e:\n",
    "            print(f\"[!] Failed to load {pdf_file}: {e}\")\n",
    "\n",
    "    # Load metadata JSON if PDFs not available\n",
    "    metadata_path = os.path.join(input_dir, metadata_filename)\n",
    "    if not documents and os.path.exists(metadata_path):\n",
    "        with open(metadata_path) as f:\n",
    "            paper_data = json.load(f)\n",
    "            for paper in paper_data:\n",
    "                text = f\"{paper['title']}\\n\\n{paper.get('abstract', '')}\"\n",
    "                documents.append(Document(page_content=text, metadata=paper))\n",
    "\n",
    "    if not documents:\n",
    "        raise ValueError(\"No documents found in the specified directory.\")\n",
    "\n",
    "    # Split into chunks\n",
    "    splitter = RecursiveCharacterTextSplitter(chunk_size=chunk_size, chunk_overlap=chunk_overlap)\n",
    "    chunks = splitter.split_documents(documents)\n",
    "\n",
    "    # Build and persist vectorstore\n",
    "    vectorstore = Chroma.from_documents(\n",
    "        documents=chunks,\n",
    "        embedding=embedding_model,\n",
    "        persist_directory=persist_dir\n",
    "    )\n",
    "    vectorstore.persist()\n",
    "    print(f\"[+] Vectorstore persisted to: {persist_dir}\")\n",
    "    return vectorstore"
   ]
  },
  {
   "cell_type": "markdown",
   "id": "61efcd68-ab65-4e63-bb4a-c99da7dbad23",
   "metadata": {},
   "source": [
    "## Constants"
   ]
  },
  {
   "cell_type": "code",
   "execution_count": 15,
   "id": "4967a321-5004-4056-93be-ab1951ead7a2",
   "metadata": {},
   "outputs": [],
   "source": [
    "rag_db_persist_dir = \"rag_db\"\n",
    "chunk_size = 1000\n",
    "chunk_overlap=150"
   ]
  },
  {
   "cell_type": "markdown",
   "id": "26361271-fd2c-42eb-b40c-bf080769a499",
   "metadata": {},
   "source": [
    "## Script"
   ]
  },
  {
   "cell_type": "code",
   "execution_count": 16,
   "id": "7e3ca152-3823-42ca-a448-47b4e59ba71b",
   "metadata": {},
   "outputs": [
    {
     "name": "stderr",
     "output_type": "stream",
     "text": [
      "/tmp/ipykernel_319046/3130743559.py:24: LangChainDeprecationWarning: The class `OpenAIEmbeddings` was deprecated in LangChain 0.0.9 and will be removed in 1.0. An updated version of the class exists in the :class:`~langchain-openai package and should be used instead. To use it run `pip install -U :class:`~langchain-openai` and import as `from :class:`~langchain_openai import OpenAIEmbeddings``.\n",
      "  embedding_model = OpenAIEmbeddings()\n"
     ]
    },
    {
     "name": "stdout",
     "output_type": "stream",
     "text": [
      "[+] Vectorstore persisted to: rag_db\n"
     ]
    },
    {
     "name": "stderr",
     "output_type": "stream",
     "text": [
      "/tmp/ipykernel_319046/3130743559.py:60: LangChainDeprecationWarning: Since Chroma 0.4.x the manual persistence method is no longer supported as docs are automatically persisted.\n",
      "  vectorstore.persist()\n"
     ]
    }
   ],
   "source": [
    "vectorstore = build_and_persist_rag_database(\n",
    "    input_dir=output_dir,\n",
    "    persist_dir=rag_db_persist_dir,\n",
    "    chunk_size=chunk_size,\n",
    "    chunk_overlap=chunk_overlap\n",
    ")"
   ]
  },
  {
   "cell_type": "markdown",
   "id": "c6f52e42-e8d8-4b22-a196-03183a28b73c",
   "metadata": {},
   "source": [
    "## Test it worked"
   ]
  },
  {
   "cell_type": "code",
   "execution_count": 17,
   "id": "32bdd134-fe09-4e6d-a258-95beee5e7706",
   "metadata": {},
   "outputs": [
    {
     "name": "stderr",
     "output_type": "stream",
     "text": [
      "/tmp/ipykernel_319046/609122075.py:6: LangChainDeprecationWarning: The class `Chroma` was deprecated in LangChain 0.2.9 and will be removed in 1.0. An updated version of the class exists in the :class:`~langchain-chroma package and should be used instead. To use it run `pip install -U :class:`~langchain-chroma` and import as `from :class:`~langchain_chroma import Chroma``.\n",
      "  vectorstore = Chroma(persist_directory=persist_dir, embedding_function=embedding_model)\n"
     ]
    }
   ],
   "source": [
    "# Re-initialize the embedding model (must match what was used to build the DB)\n",
    "embedding_model = OpenAIEmbeddings()\n",
    "\n",
    "# Reload from persisted directory\n",
    "persist_dir = \"./rag_db\"\n",
    "vectorstore = Chroma(persist_directory=persist_dir, embedding_function=embedding_model)\n"
   ]
  },
  {
   "cell_type": "code",
   "execution_count": 20,
   "id": "97b22c3a-6c7f-4043-b2ba-2f1c1e0d4836",
   "metadata": {},
   "outputs": [
    {
     "name": "stdout",
     "output_type": "stream",
     "text": [
      "\n",
      "--- Result 1 ---\n",
      "Hypertrophic Scars (HS) and Keloids (K) are the result of abnormal wound healing and scar formation. These \n",
      "pathological scars present as a continuous inflammation and histologically are characterized by fibroblasts pro-liferation, newly formed blood vessels and collagen deposition. HSK are distinguished clinically by the extent of tissue overgrowth with respect to the margins of the original wound. HS typically occur within a few months in areas were scars are under tension, including the stern...\n",
      "\n",
      "--- Result 2 ---\n",
      "2\n",
      "Vol:.(1234567890) Scientific Reports  |        (2020) 10:21694  | https://doi.org/10.1038/s41598-020-78738-9\n",
      "www.nature.com/scientificreports/up to several years following minor trauma, and as well develop in areas such as earlobes, shoulders and chest. \n",
      "Keloids are more often symptomatic, being associated with pain and itching, and can proliferate well beyond the original limits of the  wound\n",
      "1,2. HSK can occur following different injury mechanisms including skin injuries, \n",
      "burns, surgery, in...\n",
      "\n",
      "--- Result 3 ---\n",
      "Aesthet. Plast. Surg.  31, 468–494 (2007).\n",
      " 4. Berman, B., Maderal, A. & Raphael, B. Keloids and hypertrophic scars: pathophysiology, classification, and treatment. Dermatol. \n",
      "Surg.  43(Suppl 1), S3–S18 (2017).\n",
      " 5. Wolfram, D., Tzankov, A., Pülzl, P . & Piza-Katzer, H. Hypertrophic scars and keloids—a review of their pathophysiology, risk factors, and therapeutic management. Dermatol. Surg. 35, 171–181 (2009).\n",
      " 6. Gauglitz, G. G., Korting, H. C., Pavicic, T., Ruzicka, T. & Jeschke, M. G. Hypertr...\n"
     ]
    }
   ],
   "source": [
    "# Test query\n",
    "query = \"tell me about Keloids and community disparities\"\n",
    "results = vectorstore.similarity_search(query, k=3)\n",
    "\n",
    "# Display results\n",
    "for i, doc in enumerate(results):\n",
    "    print(f\"\\n--- Result {i+1} ---\")\n",
    "    print(doc.page_content[:500] + \"...\")\n"
   ]
  },
  {
   "cell_type": "markdown",
   "id": "40de075d-908d-48bc-957c-213971b7d8c1",
   "metadata": {},
   "source": [
    "# Build Agent"
   ]
  },
  {
   "cell_type": "code",
   "execution_count": 20,
   "id": "249b45dc-3a99-4d42-a20d-62762392b8ac",
   "metadata": {},
   "outputs": [],
   "source": [
    "from typing import TypedDict, List, Dict, Any\n",
    "from langgraph.graph import StateGraph, END\n",
    "from langchain.chat_models import ChatOpenAI\n",
    "from langchain.agents import Tool, initialize_agent\n",
    "import scanpy as sc\n",
    "import matplotlib.pyplot as plt\n",
    "from typing import TypedDict, List, Dict, Any, Optional, Literal, Union\n",
    "from langgraph.graph import StateGraph, END\n",
    "from langchain.chat_models import ChatOpenAI\n",
    "from langchain.agents import Tool, AgentExecutor, create_react_agent\n",
    "from langchain_core.prompts import ChatPromptTemplate, MessagesPlaceholder\n",
    "from langchain.schema import SystemMessage, HumanMessage\n",
    "import scanpy as sc\n",
    "import numpy as np\n",
    "import matplotlib.pyplot as plt\n",
    "import anndata\n",
    "import pandas as pd\n",
    "import os\n",
    "import seaborn as sns\n",
    "from datetime import datetime\n",
    "from typing_extensions import Annotated\n",
    "\n",
    "# --- Setup and configuration ---\n",
    "OUTPUT_DIR = \"output\"\n",
    "REPORT_FILE = f\"{OUTPUT_DIR}/single_cell_analysis_report.md\"\n",
    "\n",
    "# Create output directory if it doesn't exist\n",
    "os.makedirs(OUTPUT_DIR, exist_ok=True)\n",
    "\n",
    "# --- Report Management ---\n",
    "class ReportManager:\n",
    "    def __init__(self, file_path: str = REPORT_FILE):\n",
    "        self.file_path = file_path\n",
    "        self.sections = []\n",
    "        self.figures = []\n",
    "        self.initialize_report()\n",
    "    \n",
    "    def initialize_report(self):\n",
    "        \"\"\"Create an initial report with header.\"\"\"\n",
    "        timestamp = datetime.now().strftime(\"%Y-%m-%d %H:%M:%S\")\n",
    "        header = f\"# Single Cell Analysis Report\\n\\nGenerated: {timestamp}\\n\\n\"\n",
    "        with open(self.file_path, \"w\") as f:\n",
    "            f.write(header)\n",
    "    \n",
    "    def add_section(self, title: str, content: str, image_paths: list[str] = None):\n",
    "        \"\"\"Add a section to the report.\"\"\"\n",
    "        section = {\"title\": title, \"content\": content, \"images\": image_paths or []}\n",
    "        self.sections.append(section)\n",
    "        self._update_report_file()\n",
    "        return f\"Added section '{title}' to report\"\n",
    "    \n",
    "    def _update_report_file(self):\n",
    "        \"\"\"Update the markdown file with all sections.\"\"\"\n",
    "        with open(self.file_path, \"a\") as f:\n",
    "            # Get only the most recent section\n",
    "            section = self.sections[-1]\n",
    "            md = f\"## {section['title']}\\n\\n{section['content']}\\n\\n\"\n",
    "            if section['images']:\n",
    "                for img_path in section['images']:\n",
    "                    md += f\"![{os.path.basename(img_path)}]({img_path})\\n\\n\"\n",
    "            f.write(md)\n",
    "    \n",
    "    def get_full_report(self) -> str:\n",
    "        \"\"\"Get the full report content.\"\"\"\n",
    "        with open(self.file_path, \"r\") as f:\n",
    "            return f.read()\n",
    "            \n",
    "    def save_figure(self, fig_name: str) -> str:\n",
    "        \"\"\"Save the current matplotlib figure to the output directory.\"\"\"\n",
    "        file_path = f\"{OUTPUT_DIR}/{fig_name}\"\n",
    "        plt.savefig(file_path, dpi=300, bbox_inches=\"tight\")\n",
    "        plt.close()\n",
    "        self.figures.append(file_path)\n",
    "        return file_path\n",
    "\n",
    "# Initialize report manager\n",
    "report_manager = ReportManager()\n",
    "\n",
    "def run_basic_qc(min_genes: int = 200, min_cells: int = 3) -> str:\n",
    "    \"\"\"Run basic QC metrics calculation.\"\"\"\n",
    "    global adata\n",
    "    sc.pp.calculate_qc_metrics(adata, inplace=True)\n",
    "    \n",
    "    # Add information about dataset\n",
    "    n_cells, n_genes = adata.shape\n",
    "    stats = {\n",
    "        \"n_cells\": n_cells,\n",
    "        \"n_genes\": n_genes,\n",
    "        \"median_genes_per_cell\": np.median(adata.obs['n_genes_by_counts']),\n",
    "        \"median_umi_per_cell\": np.median(adata.obs['total_counts'])\n",
    "    }\n",
    "    \n",
    "    # Plot QC metrics\n",
    "    fig, axs = plt.subplots(1, 2, figsize=(12, 5))\n",
    "    sns.histplot(adata.obs['n_genes_by_counts'], kde=False, ax=axs[0])\n",
    "    axs[0].set_title('Genes per cell')\n",
    "    sns.histplot(adata.obs['total_counts'], kde=False, ax=axs[1])\n",
    "    axs[1].set_title('UMI counts per cell')\n",
    "    plt.tight_layout()\n",
    "    \n",
    "    qc_plot_path = report_manager.save_figure(\"qc_metrics.png\")\n",
    "    \n",
    "    return f\"Basic QC metrics computed. Dataset has {n_cells} cells and {n_genes} genes. QC plot saved.\"\n",
    "\n",
    "def filter_cells(min_genes: int = 200, max_genes: int = 6000, \n",
    "                max_percent_mito: float = 20.0) -> str:\n",
    "    \"\"\"Filter cells based on QC metrics.\"\"\"\n",
    "    global adata\n",
    "    \n",
    "    # Calculate mitochondrial gene percentage if not already done\n",
    "    if 'percent_mito' not in adata.obs.columns:\n",
    "        mito_genes = adata.var_names.str.startswith('MT-')\n",
    "        if sum(mito_genes) > 0:\n",
    "            adata.obs['percent_mito'] = np.sum(\n",
    "                adata[:, mito_genes].X, axis=1) / np.sum(adata.X, axis=1) * 100\n",
    "    \n",
    "    # Store original cell count\n",
    "    original_cells = adata.n_obs\n",
    "    \n",
    "    # Filter cells\n",
    "#    sc.pp.filter_cells(adata, min_genes=min_genes)\n",
    "    if max_genes < adata.var.shape[0]:\n",
    "        adata = adata[adata.obs['n_genes_by_counts'] < max_genes]\n",
    "    \n",
    "    # Filter cells based on mitochondrial percentage if available\n",
    "    if 'percent_mito' in adata.obs.columns:\n",
    "        adata = adata[adata.obs['percent_mito'] < max_percent_mito]\n",
    "    \n",
    "    # Plot filtering results\n",
    "    fig, axs = plt.subplots(1, 2, figsize=(12, 5))\n",
    "    sns.histplot(adata.obs['n_genes_by_counts'], kde=False, ax=axs[0])\n",
    "    axs[0].set_title('Genes per cell (after filtering)')\n",
    "    if 'percent_mito' in adata.obs.columns:\n",
    "        sns.histplot(adata.obs['percent_mito'], kde=False, ax=axs[1])\n",
    "        axs[1].set_title('Mitochondrial percentage (after filtering)')\n",
    "    plt.tight_layout()\n",
    "    \n",
    "    filter_plot_path = report_manager.save_figure(\"filtering_results.png\")\n",
    "    \n",
    "    return f\"Filtered cells: {original_cells - adata.n_obs} cells removed. Remaining: {adata.n_obs} cells. Filtering results plot saved.\"\n",
    "\n",
    "def normalize_and_scale(scale_factor: float = 1e4) -> str:\n",
    "    \"\"\"Normalize and scale the data.\"\"\"\n",
    "    global adata\n",
    "    sc.pp.normalize_total(adata, target_sum=scale_factor)\n",
    "    sc.pp.log1p(adata)\n",
    "    return \"Data normalized to counts per cell and log-transformed.\"\n",
    "\n",
    "def identify_variable_genes(n_top_genes: int = 2000) -> str:\n",
    "    \"\"\"Identify highly variable genes.\"\"\"\n",
    "    global adata\n",
    "    sc.pp.highly_variable_genes(adata, n_top_genes=n_top_genes)\n",
    "    \n",
    "    # Plot variable genes\n",
    "    sc.pl.highly_variable_genes(adata, show=False)\n",
    "    var_genes_plot = report_manager.save_figure(\"variable_genes.png\")\n",
    "    \n",
    "    return f\"Identified {sum(adata.var['highly_variable'])} highly variable genes out of {adata.n_vars} total genes. Variable genes plot saved.\"\n",
    "\n",
    "def run_pca(use_hvg: bool = True, n_comps: int = 50) -> str:\n",
    "    \"\"\"Run PCA on the data.\"\"\"\n",
    "    global adata\n",
    "    \n",
    "    # Use only HVG if specified\n",
    "    if use_hvg:\n",
    "        if 'highly_variable' not in adata.var.columns:\n",
    "            return \"Error: No highly variable genes defined. Please run identify_variable_genes first.\"\n",
    "        sc.pp.pca(adata, use_highly_variable=True, n_comps=n_comps)\n",
    "    else:\n",
    "        sc.pp.pca(adata, n_comps=n_comps)\n",
    "    \n",
    "    # Plot PCA\n",
    "    sc.pl.pca_variance_ratio(adata, n_pcs=20, show=False)\n",
    "    pca_var_plot = report_manager.save_figure(\"pca_variance.png\")\n",
    "    \n",
    "    sc.pl.pca(adata, color='total_counts', show=False)\n",
    "    pca_plot = report_manager.save_figure(\"pca.png\")\n",
    "    \n",
    "    return f\"PCA computed with {adata.obsm['X_pca'].shape[1]} components. PCA plots saved.\"\n",
    "\n",
    "def compute_neighbors(n_neighbors: int = 15, n_pcs: int = 30) -> str:\n",
    "    \"\"\"Compute neighbors graph for clustering.\"\"\"\n",
    "    global adata\n",
    "    if 'X_pca' not in adata.obsm:\n",
    "        return \"Error: PCA not found. Please run PCA first.\"\n",
    "    \n",
    "    n_pcs = min(n_pcs, adata.obsm['X_pca'].shape[1])\n",
    "    sc.pp.neighbors(adata, n_neighbors=n_neighbors, n_pcs=n_pcs)\n",
    "    return f\"Computed neighborhood graph with {n_neighbors} neighbors and {n_pcs} PCs.\"\n",
    "\n",
    "def run_umap(_: str = \"\") -> str:\n",
    "    \"\"\"Run UMAP for visualization.\"\"\"\n",
    "    global adata\n",
    "    if 'neighbors' not in adata.uns:\n",
    "        return \"Error: Neighbors graph not found. Please run compute_neighbors first.\"\n",
    "    \n",
    "    sc.tl.umap(adata)\n",
    "    sc.pl.umap(adata, show=False)\n",
    "    umap_plot = report_manager.save_figure(\"umap.png\")\n",
    "    \n",
    "    return \"UMAP computed and plot saved.\"\n",
    "\n",
    "def run_tsne(perplexity: int = 30) -> str:\n",
    "    \"\"\"Run t-SNE for visualization.\"\"\"\n",
    "    global adata\n",
    "    if 'X_pca' not in adata.obsm:\n",
    "        return \"Error: PCA not found. Please run PCA first.\"\n",
    "    \n",
    "    sc.tl.tsne(adata, perplexity=perplexity)\n",
    "    sc.pl.tsne(adata, show=False)\n",
    "    tsne_plot = report_manager.save_figure(\"tsne.png\")\n",
    "    \n",
    "    return f\"t-SNE computed with perplexity {perplexity} and plot saved.\"\n",
    "\n",
    "def run_leiden_clustering(resolution: float = 0.8) -> str:\n",
    "    \"\"\"Compute Leiden clusters.\"\"\"\n",
    "    global adata\n",
    "    if 'neighbors' not in adata.uns:\n",
    "        return \"Error: Neighbors graph not found. Please run compute_neighbors first.\"\n",
    "    \n",
    "    sc.tl.leiden(adata, resolution=resolution)\n",
    "    \n",
    "    # Plot UMAP with Leiden clusters\n",
    "    if 'X_umap' in adata.obsm:\n",
    "        sc.pl.umap(adata, color='leiden', show=False)\n",
    "        leiden_umap_plot = report_manager.save_figure(\"leiden_clusters_umap.png\")\n",
    "    \n",
    "    # Count cells per cluster\n",
    "    cluster_counts = adata.obs['leiden'].value_counts().to_dict()\n",
    "    clusters_info = \", \".join([f\"cluster {k}: {v} cells\" for k, v in cluster_counts.items()])\n",
    "    \n",
    "    return f\"Leiden clustering completed with resolution {resolution}. Identified {len(cluster_counts)} clusters. {clusters_info}\"\n",
    "\n",
    "def run_louvain_clustering(resolution: float = 0.8) -> str:\n",
    "    \"\"\"Compute Louvain clusters.\"\"\"\n",
    "    global adata\n",
    "    if 'neighbors' not in adata.uns:\n",
    "        return \"Error: Neighbors graph not found. Please run compute_neighbors first.\"\n",
    "    \n",
    "    sc.tl.louvain(adata, resolution=resolution)\n",
    "    \n",
    "    # Plot UMAP with Louvain clusters\n",
    "    if 'X_umap' in adata.obsm:\n",
    "        sc.pl.umap(adata, color='louvain', show=False)\n",
    "        louvain_umap_plot = report_manager.save_figure(\"louvain_clusters_umap.png\")\n",
    "    \n",
    "    # Count cells per cluster\n",
    "    cluster_counts = adata.obs['louvain'].value_counts().to_dict()\n",
    "    clusters_info = \", \".join([f\"cluster {k}: {v} cells\" for k, v in cluster_counts.items()])\n",
    "    \n",
    "    return f\"Louvain clustering completed with resolution {resolution}. Identified {len(cluster_counts)} clusters. {clusters_info}\"\n",
    "\n",
    "def find_marker_genes(groupby: str = 'leiden', method: str = 't-test') -> str:\n",
    "    \"\"\"Find marker genes for groups using various methods.\"\"\"\n",
    "    global adata\n",
    "    if groupby not in adata.obs:\n",
    "        return f\"Error: Column '{groupby}' not found in adata.obs. Please run clustering first.\"\n",
    "    \n",
    "    valid_methods = ['t-test', 'wilcoxon', 'logreg']\n",
    "    if method not in valid_methods:\n",
    "        return f\"Error: Method must be one of {valid_methods}\"\n",
    "    \n",
    "    sc.tl.rank_genes_groups(adata, groupby=groupby, method=method)\n",
    "    \n",
    "    # Get top markers for each group\n",
    "    markers_dict = {}\n",
    "    groups = adata.obs[groupby].cat.categories.tolist() if hasattr(adata.obs[groupby], 'cat') else sorted(adata.obs[groupby].unique())\n",
    "    \n",
    "    for group in groups:\n",
    "        genes = sc.get.rank_genes_groups_df(adata, group=group)\n",
    "        top_genes = genes.iloc[:5]['names'].tolist()\n",
    "        markers_dict[group] = top_genes\n",
    "    \n",
    "    # Create a formatted string of markers\n",
    "    markers_text = \"\\n\".join([f\"Cluster {group}: {', '.join(genes)}\" for group, genes in markers_dict.items()])\n",
    "    \n",
    "    # Plot heatmap of top markers\n",
    "    sc.pl.rank_genes_groups_heatmap(adata, n_genes=5, show=False)\n",
    "    markers_heatmap = report_manager.save_figure(\"markers_heatmap.png\")\n",
    "    \n",
    "    # Plot dotplot\n",
    "    sc.pl.rank_genes_groups_dotplot(adata, n_genes=5, show=False)\n",
    "    markers_dotplot = report_manager.save_figure(\"markers_dotplot.png\")\n",
    "    \n",
    "    return f\"Marker genes identified using {method} method, grouped by {groupby}.\\n\\nTop markers per cluster:\\n{markers_text}\"\n",
    "\n",
    "def plot_gene_expression(genes: str) -> str:\n",
    "    \"\"\"Plot expression of specific genes on UMAP/tSNE.\"\"\"\n",
    "    global adata\n",
    "    gene_list = [g.strip() for g in genes.split(',')]\n",
    "    \n",
    "    # Verify genes exist in the dataset\n",
    "    valid_genes = [g for g in gene_list if g in adata.var_names]\n",
    "    invalid_genes = [g for g in gene_list if g not in adata.var_names]\n",
    "    \n",
    "    if not valid_genes:\n",
    "        return f\"Error: None of the requested genes found in dataset. Invalid genes: {', '.join(invalid_genes)}\"\n",
    "    \n",
    "    if invalid_genes:\n",
    "        message = f\"Warning: Some genes not found in dataset: {', '.join(invalid_genes)}. \"\n",
    "    else:\n",
    "        message = \"\"\n",
    "    \n",
    "    # Plot on UMAP if available\n",
    "    if 'X_umap' in adata.obsm:\n",
    "        sc.pl.umap(adata, color=valid_genes, ncols=2, show=False)\n",
    "        gene_umap_plot = report_manager.save_figure(\"gene_expression_umap.png\")\n",
    "        message += \"Gene expression plotted on UMAP. \"\n",
    "    \n",
    "    # Plot violin plots\n",
    "    if 'leiden' in adata.obs:\n",
    "        sc.pl.violin(adata, valid_genes, groupby='leiden', rotation=90, show=False)\n",
    "        gene_violin_plot = report_manager.save_figure(\"gene_expression_violin.png\")\n",
    "        message += \"Violin plots created by cluster.\"\n",
    "    \n",
    "    return message + f\" Plotted expression for genes: {', '.join(valid_genes)}.\"\n",
    "\n",
    "def run_pathway_enrichment(cluster: str, organism: str = 'Human') -> str:\n",
    "    \"\"\"Run pathway enrichment analysis on markers from a specific cluster.\"\"\"\n",
    "    global adata\n",
    "    \n",
    "    if 'rank_genes_groups' not in adata.uns:\n",
    "        return \"Error: No ranked genes found. Please run find_marker_genes first.\"\n",
    "    \n",
    "    # Map organism to database\n",
    "    organism_map = {\n",
    "        'Human': 'hsapiens',\n",
    "        'Mouse': 'mmusculus',\n",
    "        'Rat': 'rnorvegicus'\n",
    "    }\n",
    "    \n",
    "    if organism not in organism_map:\n",
    "        return f\"Error: Organism must be one of {list(organism_map.keys())}\"\n",
    "    \n",
    "    # Get marker genes for the specified cluster\n",
    "    try:\n",
    "        markers_df = sc.get.rank_genes_groups_df(adata, group=cluster)\n",
    "        # Filter for significant genes (adjust based on your threshold)\n",
    "        sig_genes = markers_df[markers_df['pvals_adj'] < 0.05]['names'].tolist()\n",
    "        \n",
    "        if len(sig_genes) < 5:\n",
    "            return f\"Not enough significant genes found for cluster {cluster}. Found only {len(sig_genes)} genes.\"\n",
    "            \n",
    "        # Limit to top 200 genes to avoid timeouts\n",
    "        sig_genes = sig_genes[:200]\n",
    "        \n",
    "        # Run enrichment analysis\n",
    "        enr = gp.enrichr(gene_list=sig_genes,\n",
    "                       organism=organism_map[organism],\n",
    "                       description=f'Cluster_{cluster}_markers',\n",
    "                       gene_sets=['GO_Biological_Process_2021'],\n",
    "                       outdir=OUTPUT_DIR)\n",
    "        \n",
    "        # Get results\n",
    "        results = enr.results\n",
    "        \n",
    "        if results.empty:\n",
    "            return f\"No significant enrichment found for cluster {cluster}.\"\n",
    "        \n",
    "        # Generate report text\n",
    "        top_terms = results.head(10)\n",
    "        enrichment_text = \"Top enriched pathways:\\n\\n\"\n",
    "        \n",
    "        for idx, row in top_terms.iterrows():\n",
    "            enrichment_text += f\"- {row['Term']}: Adjusted p-value = {row['Adjusted P-value']:.2e}, Genes: {row['Genes']}\\n\"\n",
    "        \n",
    "        # Plot\n",
    "        gp.plot.dotplot(enr.results, column=\"Adjusted P-value\", title=f\"Pathway Enrichment - Cluster {cluster}\", \n",
    "                        show_terms=10, figsize=(12, 6))\n",
    "        enrichment_plot = report_manager.save_figure(f\"enrichment_cluster_{cluster}.png\")\n",
    "        \n",
    "        return f\"Pathway enrichment analysis completed for cluster {cluster}. {len(sig_genes)} genes analyzed.\\n\\n{enrichment_text}\"\n",
    "        \n",
    "    except Exception as e:\n",
    "        return f\"Error running enrichment analysis: {str(e)}\"\n",
    "\n",
    "def run_pseudotime_analysis(start_cluster: str = None) -> str:\n",
    "    \"\"\"Run pseudotime analysis using CellRank.\"\"\"\n",
    "    global adata\n",
    "    \n",
    "    if 'neighbors' not in adata.uns:\n",
    "        return \"Error: Neighbors graph not found. Please run compute_neighbors first.\"\n",
    "    \n",
    "    if 'leiden' not in adata.obs and 'louvain' not in adata.obs:\n",
    "        return \"Error: No clustering found. Please run clustering first.\"\n",
    "    \n",
    "    groupby = 'leiden' if 'leiden' in adata.obs else 'louvain'\n",
    "    \n",
    "    try:\n",
    "        # Compute diffusion map\n",
    "        sc.tl.diffmap(adata)\n",
    "        \n",
    "        # Run pseudotime with cellrank\n",
    "        kc = cr.tl.transition_matrix.ConnectivityKernel(adata)\n",
    "        g = cr.tl.estimators.GPCCA(kc)\n",
    "        \n",
    "        # If start cluster is provided, use it as starting state\n",
    "        if start_cluster is not None:\n",
    "            if start_cluster not in adata.obs[groupby].cat.categories:\n",
    "                return f\"Error: Start cluster '{start_cluster}' not found in {groupby} clusters\"\n",
    "            g.set_initial_states(f\"{groupby} == '{start_cluster}'\")\n",
    "        else:\n",
    "            # Otherwise infer initial states\n",
    "            g.compute_initial_states()\n",
    "        \n",
    "        # Compute terminal states\n",
    "        g.compute_terminal_states()\n",
    "        \n",
    "        # Compute pseudotime\n",
    "        g.compute_absorption_probabilities()\n",
    "        \n",
    "        # Store the pseudotime in AnnData\n",
    "        adata.obs['pseudotime'] = g.pseudotime\n",
    "        \n",
    "        # Plot pseudotime on UMAP\n",
    "        if 'X_umap' in adata.obsm:\n",
    "            sc.pl.umap(adata, color='pseudotime', show=False)\n",
    "            pseudotime_plot = report_manager.save_figure(\"pseudotime_umap.png\")\n",
    "        \n",
    "        # Plot initial and terminal states\n",
    "        fig, axs = plt.subplots(1, 2, figsize=(12, 5))\n",
    "        \n",
    "        try:\n",
    "            initial_states = g.initial_states_probabilities\n",
    "            cr.pl.initial_states(g, ax=axs[0], show=False)\n",
    "            axs[0].set_title('Initial States')\n",
    "        except Exception as e:\n",
    "            axs[0].text(0.5, 0.5, f\"Initial states plot error: {str(e)}\", \n",
    "                      ha='center', va='center', transform=axs[0].transAxes)\n",
    "        \n",
    "        try:\n",
    "            terminal_states = g.terminal_states_probabilities\n",
    "            cr.pl.terminal_states(g, ax=axs[1], show=False)\n",
    "            axs[1].set_title('Terminal States')\n",
    "        except Exception as e:\n",
    "            axs[1].text(0.5, 0.5, f\"Terminal states plot error: {str(e)}\", \n",
    "                      ha='center', va='center', transform=axs[1].transAxes)\n",
    "        \n",
    "        plt.tight_layout()\n",
    "        states_plot = report_manager.save_figure(\"cell_states.png\")\n",
    "        \n",
    "        # Get initial and terminal state info\n",
    "        n_initial = len(g.initial_states_names)\n",
    "        n_terminal = len(g.terminal_states_names)\n",
    "        \n",
    "        return (f\"Pseudotime analysis completed. Found {n_initial} initial states and {n_terminal} terminal states. \"\n",
    "                f\"Pseudotime values stored in adata.obs['pseudotime']. Plots saved.\")\n",
    "    \n",
    "    except Exception as e:\n",
    "        return f\"Error in pseudotime analysis: {str(e)}\"\n",
    "\n",
    "# --- Tools List ---\n",
    "def with_reporting(tool_func, name):\n",
    "    def wrapped(input_str):\n",
    "        result = tool_func(input_str)\n",
    "        interpretation = f\"Tool `{name}` was run. Output: {result}. What does this result mean?\"\n",
    "        report_manager.add_section(title=name, content=interpretation, image_paths=None)\n",
    "        return result\n",
    "    return wrapped\n",
    "\n",
    "tool_list = [\n",
    "    Tool(name=\"run_basic_qc\",            func=with_reporting(run_basic_qc,            \"run_basic_qc,           \"), description=\"Calculate basic QC metrics and plot distributions\"),\n",
    "    Tool(name=\"filter_cells\",            func=with_reporting(filter_cells,            \"filter_cells,           \"), description=\"Filter cells based on QC metrics (min/max genes, max % mitochondrial)\"),\n",
    "    Tool(name=\"normalize_and_scale\",     func=with_reporting(normalize_and_scale,     \"normalize_and_scale,    \"), description=\"Normalize and log-transform the data\"),\n",
    "    Tool(name=\"identify_variable_genes\", func=with_reporting(identify_variable_genes, \"identify_variable_genes,\"), description=\"Identify highly variable genes for dimension reduction\"),\n",
    "    Tool(name=\"run_pca\",                 func=with_reporting(run_pca,                 \"run_pca,                \"), description=\"Run PCA on the data, optionally using only highly variable genes\"),\n",
    "    Tool(name=\"compute_neighbors\",       func=with_reporting(compute_neighbors,       \"compute_neighbors,      \"), description=\"Compute neighborhood graph for clustering\"),\n",
    "    Tool(name=\"run_umap\",                func=with_reporting(run_umap,                \"run_umap,               \"), description=\"Generate UMAP visualization\"),\n",
    "    Tool(name=\"run_tsne\",                func=with_reporting(run_tsne,                \"run_tsne,               \"), description=\"Generate t-SNE visualization\"),\n",
    "    Tool(name=\"run_leiden_clustering\",   func=with_reporting(run_leiden_clustering,   \"run_leiden_clustering,  \"), description=\"Run Leiden clustering algorithm\"),\n",
    "    Tool(name=\"run_louvain_clustering\",  func=with_reporting(run_louvain_clustering,  \"run_louvain_clustering, \"), description=\"Run Louvain clustering algorithm\"),\n",
    "    Tool(name=\"find_marker_genes\",       func=with_reporting(find_marker_genes,       \"find_marker_genes,      \"), description=\"Find marker genes for clusters\"),\n",
    "    Tool(name=\"plot_gene_expression\",    func=with_reporting(plot_gene_expression,    \"plot_gene_expression,   \"), description=\"Plot expression of specific genes (comma-separated)\"),\n",
    "    Tool(name=\"run_pathway_enrichment\",  func=with_reporting(run_pathway_enrichment,  \"run_pathway_enrichment, \"), description=\"Run pathway enrichment analysis on markers from a specific cluster\"),\n",
    "    Tool(name=\"run_pseudotime_analysis\", func=with_reporting(run_pseudotime_analysis, \"run_pseudotime_analysis\" ), description=\"Run pseudotime analysis to identify cellular trajectories\"),\n",
    "]\n"
   ]
  },
  {
   "cell_type": "code",
   "execution_count": 18,
   "id": "3278f4b7-1bf1-4311-9647-6d635865eca4",
   "metadata": {},
   "outputs": [],
   "source": [
    "sc.pp.filter_cells(adata, min_genes=200)"
   ]
  },
  {
   "cell_type": "code",
   "execution_count": 21,
   "id": "1e95722a-a9fb-4ee9-95a8-c4a664c875ca",
   "metadata": {},
   "outputs": [
    {
     "name": "stdout",
     "output_type": "stream",
     "text": [
      "\n",
      "\n",
      "\u001b[1m> Entering new AgentExecutor chain...\u001b[0m\n",
      "\u001b[32;1m\u001b[1;3mFirst, I need to perform quality control on the data to ensure it is clean and reliable.\n",
      "Action: run_basic_qc\n",
      "Action Input: Keloids data\u001b[0m\n",
      "Observation: \u001b[36;1m\u001b[1;3mBasic QC metrics computed. Dataset has 2700 cells and 32738 genes. QC plot saved.\u001b[0m\n",
      "Thought:\u001b[32;1m\u001b[1;3mThe data seems to be in good shape. Now, I will filter out any cells that do not meet the QC metrics.\n",
      "Action: filter_cells\n",
      "Action Input: Keloids data\u001b[0m\n",
      "Observation: \u001b[33;1m\u001b[1;3mFiltered cells: 2 cells removed. Remaining: 2698 cells. Filtering results plot saved.\u001b[0m\n",
      "Thought:\u001b[32;1m\u001b[1;3mNow that the data is clean, I will normalize and scale the data to prepare it for downstream analysis.\n",
      "Action: normalize_and_scale\n",
      "Action Input: Keloids data\u001b[0m"
     ]
    },
    {
     "name": "stderr",
     "output_type": "stream",
     "text": [
      "/home/jpic/.local/lib/python3.11/site-packages/scanpy/preprocessing/_normalization.py:207: UserWarning: Received a view of an AnnData. Making a copy.\n",
      "  view_to_actual(adata)\n"
     ]
    },
    {
     "ename": "TypeError",
     "evalue": "ufunc 'divide' not supported for the input types, and the inputs could not be safely coerced to any supported types according to the casting rule ''safe''",
     "output_type": "error",
     "traceback": [
      "\u001b[0;31m---------------------------------------------------------------------------\u001b[0m",
      "\u001b[0;31mTypeError\u001b[0m                                 Traceback (most recent call last)",
      "Cell \u001b[0;32mIn[21], line 28\u001b[0m\n\u001b[1;32m     26\u001b[0m query \u001b[38;5;241m=\u001b[39m \u001b[38;5;124m\"\u001b[39m\u001b[38;5;124mIdentify biomarkers and DGEs in these data about Keloids\u001b[39m\u001b[38;5;124m\"\u001b[39m\n\u001b[1;32m     27\u001b[0m initial_state \u001b[38;5;241m=\u001b[39m {\u001b[38;5;124m\"\u001b[39m\u001b[38;5;124mmessages\u001b[39m\u001b[38;5;124m\"\u001b[39m: [{\u001b[38;5;124m\"\u001b[39m\u001b[38;5;124mrole\u001b[39m\u001b[38;5;124m\"\u001b[39m: \u001b[38;5;124m\"\u001b[39m\u001b[38;5;124muser\u001b[39m\u001b[38;5;124m\"\u001b[39m, \u001b[38;5;124m\"\u001b[39m\u001b[38;5;124mcontent\u001b[39m\u001b[38;5;124m\"\u001b[39m: query}]}\n\u001b[0;32m---> 28\u001b[0m final_state \u001b[38;5;241m=\u001b[39m \u001b[43mgraph\u001b[49m\u001b[38;5;241;43m.\u001b[39;49m\u001b[43minvoke\u001b[49m\u001b[43m(\u001b[49m\u001b[43minitial_state\u001b[49m\u001b[43m)\u001b[49m\n\u001b[1;32m     30\u001b[0m \u001b[38;5;66;03m# --- View Result ---\u001b[39;00m\n\u001b[1;32m     31\u001b[0m final_state[\u001b[38;5;124m\"\u001b[39m\u001b[38;5;124mmessages\u001b[39m\u001b[38;5;124m\"\u001b[39m][\u001b[38;5;241m-\u001b[39m\u001b[38;5;241m1\u001b[39m][\u001b[38;5;124m\"\u001b[39m\u001b[38;5;124mcontent\u001b[39m\u001b[38;5;124m\"\u001b[39m]\n",
      "File \u001b[0;32m~/.local/lib/python3.11/site-packages/langgraph/pregel/__init__.py:1554\u001b[0m, in \u001b[0;36mPregel.invoke\u001b[0;34m(self, input, config, stream_mode, output_keys, input_keys, interrupt_before, interrupt_after, debug, **kwargs)\u001b[0m\n\u001b[1;32m   1552\u001b[0m \u001b[38;5;28;01melse\u001b[39;00m:\n\u001b[1;32m   1553\u001b[0m     chunks \u001b[38;5;241m=\u001b[39m []\n\u001b[0;32m-> 1554\u001b[0m \u001b[43m\u001b[49m\u001b[38;5;28;43;01mfor\u001b[39;49;00m\u001b[43m \u001b[49m\u001b[43mchunk\u001b[49m\u001b[43m \u001b[49m\u001b[38;5;129;43;01min\u001b[39;49;00m\u001b[43m \u001b[49m\u001b[38;5;28;43mself\u001b[39;49m\u001b[38;5;241;43m.\u001b[39;49m\u001b[43mstream\u001b[49m\u001b[43m(\u001b[49m\n\u001b[1;32m   1555\u001b[0m \u001b[43m    \u001b[49m\u001b[38;5;28;43minput\u001b[39;49m\u001b[43m,\u001b[49m\n\u001b[1;32m   1556\u001b[0m \u001b[43m    \u001b[49m\u001b[43mconfig\u001b[49m\u001b[43m,\u001b[49m\n\u001b[1;32m   1557\u001b[0m \u001b[43m    \u001b[49m\u001b[43mstream_mode\u001b[49m\u001b[38;5;241;43m=\u001b[39;49m\u001b[43mstream_mode\u001b[49m\u001b[43m,\u001b[49m\n\u001b[1;32m   1558\u001b[0m \u001b[43m    \u001b[49m\u001b[43moutput_keys\u001b[49m\u001b[38;5;241;43m=\u001b[39;49m\u001b[43moutput_keys\u001b[49m\u001b[43m,\u001b[49m\n\u001b[1;32m   1559\u001b[0m \u001b[43m    \u001b[49m\u001b[43minput_keys\u001b[49m\u001b[38;5;241;43m=\u001b[39;49m\u001b[43minput_keys\u001b[49m\u001b[43m,\u001b[49m\n\u001b[1;32m   1560\u001b[0m \u001b[43m    \u001b[49m\u001b[43minterrupt_before\u001b[49m\u001b[38;5;241;43m=\u001b[39;49m\u001b[43minterrupt_before\u001b[49m\u001b[43m,\u001b[49m\n\u001b[1;32m   1561\u001b[0m \u001b[43m    \u001b[49m\u001b[43minterrupt_after\u001b[49m\u001b[38;5;241;43m=\u001b[39;49m\u001b[43minterrupt_after\u001b[49m\u001b[43m,\u001b[49m\n\u001b[1;32m   1562\u001b[0m \u001b[43m    \u001b[49m\u001b[43mdebug\u001b[49m\u001b[38;5;241;43m=\u001b[39;49m\u001b[43mdebug\u001b[49m\u001b[43m,\u001b[49m\n\u001b[1;32m   1563\u001b[0m \u001b[43m    \u001b[49m\u001b[38;5;241;43m*\u001b[39;49m\u001b[38;5;241;43m*\u001b[39;49m\u001b[43mkwargs\u001b[49m\u001b[43m,\u001b[49m\n\u001b[1;32m   1564\u001b[0m \u001b[43m\u001b[49m\u001b[43m)\u001b[49m\u001b[43m:\u001b[49m\n\u001b[1;32m   1565\u001b[0m \u001b[43m    \u001b[49m\u001b[38;5;28;43;01mif\u001b[39;49;00m\u001b[43m \u001b[49m\u001b[43mstream_mode\u001b[49m\u001b[43m \u001b[49m\u001b[38;5;241;43m==\u001b[39;49m\u001b[43m \u001b[49m\u001b[38;5;124;43m\"\u001b[39;49m\u001b[38;5;124;43mvalues\u001b[39;49m\u001b[38;5;124;43m\"\u001b[39;49m\u001b[43m:\u001b[49m\n\u001b[1;32m   1566\u001b[0m \u001b[43m        \u001b[49m\u001b[43mlatest\u001b[49m\u001b[43m \u001b[49m\u001b[38;5;241;43m=\u001b[39;49m\u001b[43m \u001b[49m\u001b[43mchunk\u001b[49m\n",
      "File \u001b[0;32m~/.local/lib/python3.11/site-packages/langgraph/pregel/__init__.py:1073\u001b[0m, in \u001b[0;36mPregel.stream\u001b[0;34m(self, input, config, stream_mode, output_keys, input_keys, interrupt_before, interrupt_after, debug)\u001b[0m\n\u001b[1;32m   1070\u001b[0m         \u001b[38;5;28;01mdel\u001b[39;00m fut, task\n\u001b[1;32m   1072\u001b[0m \u001b[38;5;66;03m# panic on failure or timeout\u001b[39;00m\n\u001b[0;32m-> 1073\u001b[0m \u001b[43m_panic_or_proceed\u001b[49m\u001b[43m(\u001b[49m\u001b[43mdone\u001b[49m\u001b[43m,\u001b[49m\u001b[43m \u001b[49m\u001b[43minflight\u001b[49m\u001b[43m,\u001b[49m\u001b[43m \u001b[49m\u001b[43mstep\u001b[49m\u001b[43m)\u001b[49m\n\u001b[1;32m   1074\u001b[0m \u001b[38;5;66;03m# don't keep futures around in memory longer than needed\u001b[39;00m\n\u001b[1;32m   1075\u001b[0m \u001b[38;5;28;01mdel\u001b[39;00m done, inflight, futures\n",
      "File \u001b[0;32m~/.local/lib/python3.11/site-packages/langgraph/pregel/__init__.py:1643\u001b[0m, in \u001b[0;36m_panic_or_proceed\u001b[0;34m(done, inflight, step)\u001b[0m\n\u001b[1;32m   1641\u001b[0m             inflight\u001b[38;5;241m.\u001b[39mpop()\u001b[38;5;241m.\u001b[39mcancel()\n\u001b[1;32m   1642\u001b[0m         \u001b[38;5;66;03m# raise the exception\u001b[39;00m\n\u001b[0;32m-> 1643\u001b[0m         \u001b[38;5;28;01mraise\u001b[39;00m exc\n\u001b[1;32m   1645\u001b[0m \u001b[38;5;28;01mif\u001b[39;00m inflight:\n\u001b[1;32m   1646\u001b[0m     \u001b[38;5;66;03m# if we got here means we timed out\u001b[39;00m\n\u001b[1;32m   1647\u001b[0m     \u001b[38;5;28;01mwhile\u001b[39;00m inflight:\n\u001b[1;32m   1648\u001b[0m         \u001b[38;5;66;03m# cancel all pending tasks\u001b[39;00m\n",
      "File \u001b[0;32m/sw/pkgs/arc/python3.11-anaconda/2024.02-1/lib/python3.11/concurrent/futures/thread.py:58\u001b[0m, in \u001b[0;36m_WorkItem.run\u001b[0;34m(self)\u001b[0m\n\u001b[1;32m     55\u001b[0m     \u001b[38;5;28;01mreturn\u001b[39;00m\n\u001b[1;32m     57\u001b[0m \u001b[38;5;28;01mtry\u001b[39;00m:\n\u001b[0;32m---> 58\u001b[0m     result \u001b[38;5;241m=\u001b[39m \u001b[38;5;28;43mself\u001b[39;49m\u001b[38;5;241;43m.\u001b[39;49m\u001b[43mfn\u001b[49m\u001b[43m(\u001b[49m\u001b[38;5;241;43m*\u001b[39;49m\u001b[38;5;28;43mself\u001b[39;49m\u001b[38;5;241;43m.\u001b[39;49m\u001b[43margs\u001b[49m\u001b[43m,\u001b[49m\u001b[43m \u001b[49m\u001b[38;5;241;43m*\u001b[39;49m\u001b[38;5;241;43m*\u001b[39;49m\u001b[38;5;28;43mself\u001b[39;49m\u001b[38;5;241;43m.\u001b[39;49m\u001b[43mkwargs\u001b[49m\u001b[43m)\u001b[49m\n\u001b[1;32m     59\u001b[0m \u001b[38;5;28;01mexcept\u001b[39;00m \u001b[38;5;167;01mBaseException\u001b[39;00m \u001b[38;5;28;01mas\u001b[39;00m exc:\n\u001b[1;32m     60\u001b[0m     \u001b[38;5;28mself\u001b[39m\u001b[38;5;241m.\u001b[39mfuture\u001b[38;5;241m.\u001b[39mset_exception(exc)\n",
      "File \u001b[0;32m~/.local/lib/python3.11/site-packages/langgraph/pregel/retry.py:72\u001b[0m, in \u001b[0;36mrun_with_retry\u001b[0;34m(task, retry_policy)\u001b[0m\n\u001b[1;32m     70\u001b[0m task\u001b[38;5;241m.\u001b[39mwrites\u001b[38;5;241m.\u001b[39mclear()\n\u001b[1;32m     71\u001b[0m \u001b[38;5;66;03m# run the task\u001b[39;00m\n\u001b[0;32m---> 72\u001b[0m \u001b[43mtask\u001b[49m\u001b[38;5;241;43m.\u001b[39;49m\u001b[43mproc\u001b[49m\u001b[38;5;241;43m.\u001b[39;49m\u001b[43minvoke\u001b[49m\u001b[43m(\u001b[49m\u001b[43mtask\u001b[49m\u001b[38;5;241;43m.\u001b[39;49m\u001b[43minput\u001b[49m\u001b[43m,\u001b[49m\u001b[43m \u001b[49m\u001b[43mtask\u001b[49m\u001b[38;5;241;43m.\u001b[39;49m\u001b[43mconfig\u001b[49m\u001b[43m)\u001b[49m\n\u001b[1;32m     73\u001b[0m \u001b[38;5;66;03m# if successful, end\u001b[39;00m\n\u001b[1;32m     74\u001b[0m \u001b[38;5;28;01mbreak\u001b[39;00m\n",
      "File \u001b[0;32m~/.local/lib/python3.11/site-packages/langchain_core/runnables/base.py:3022\u001b[0m, in \u001b[0;36mRunnableSequence.invoke\u001b[0;34m(self, input, config, **kwargs)\u001b[0m\n\u001b[1;32m   3020\u001b[0m context\u001b[38;5;241m.\u001b[39mrun(_set_config_context, config)\n\u001b[1;32m   3021\u001b[0m \u001b[38;5;28;01mif\u001b[39;00m i \u001b[38;5;241m==\u001b[39m \u001b[38;5;241m0\u001b[39m:\n\u001b[0;32m-> 3022\u001b[0m     \u001b[38;5;28minput\u001b[39m \u001b[38;5;241m=\u001b[39m \u001b[43mcontext\u001b[49m\u001b[38;5;241;43m.\u001b[39;49m\u001b[43mrun\u001b[49m\u001b[43m(\u001b[49m\u001b[43mstep\u001b[49m\u001b[38;5;241;43m.\u001b[39;49m\u001b[43minvoke\u001b[49m\u001b[43m,\u001b[49m\u001b[43m \u001b[49m\u001b[38;5;28;43minput\u001b[39;49m\u001b[43m,\u001b[49m\u001b[43m \u001b[49m\u001b[43mconfig\u001b[49m\u001b[43m,\u001b[49m\u001b[43m \u001b[49m\u001b[38;5;241;43m*\u001b[39;49m\u001b[38;5;241;43m*\u001b[39;49m\u001b[43mkwargs\u001b[49m\u001b[43m)\u001b[49m\n\u001b[1;32m   3023\u001b[0m \u001b[38;5;28;01melse\u001b[39;00m:\n\u001b[1;32m   3024\u001b[0m     \u001b[38;5;28minput\u001b[39m \u001b[38;5;241m=\u001b[39m context\u001b[38;5;241m.\u001b[39mrun(step\u001b[38;5;241m.\u001b[39minvoke, \u001b[38;5;28minput\u001b[39m, config)\n",
      "File \u001b[0;32m~/.local/lib/python3.11/site-packages/langgraph/utils.py:95\u001b[0m, in \u001b[0;36mRunnableCallable.invoke\u001b[0;34m(self, input, config, **kwargs)\u001b[0m\n\u001b[1;32m     93\u001b[0m     \u001b[38;5;28;01mif\u001b[39;00m accepts_config(\u001b[38;5;28mself\u001b[39m\u001b[38;5;241m.\u001b[39mfunc):\n\u001b[1;32m     94\u001b[0m         kwargs[\u001b[38;5;124m\"\u001b[39m\u001b[38;5;124mconfig\u001b[39m\u001b[38;5;124m\"\u001b[39m] \u001b[38;5;241m=\u001b[39m config\n\u001b[0;32m---> 95\u001b[0m     ret \u001b[38;5;241m=\u001b[39m \u001b[43mcontext\u001b[49m\u001b[38;5;241;43m.\u001b[39;49m\u001b[43mrun\u001b[49m\u001b[43m(\u001b[49m\u001b[38;5;28;43mself\u001b[39;49m\u001b[38;5;241;43m.\u001b[39;49m\u001b[43mfunc\u001b[49m\u001b[43m,\u001b[49m\u001b[43m \u001b[49m\u001b[38;5;28;43minput\u001b[39;49m\u001b[43m,\u001b[49m\u001b[43m \u001b[49m\u001b[38;5;241;43m*\u001b[39;49m\u001b[38;5;241;43m*\u001b[39;49m\u001b[43mkwargs\u001b[49m\u001b[43m)\u001b[49m\n\u001b[1;32m     96\u001b[0m \u001b[38;5;28;01mif\u001b[39;00m \u001b[38;5;28misinstance\u001b[39m(ret, Runnable) \u001b[38;5;129;01mand\u001b[39;00m \u001b[38;5;28mself\u001b[39m\u001b[38;5;241m.\u001b[39mrecurse:\n\u001b[1;32m     97\u001b[0m     \u001b[38;5;28;01mreturn\u001b[39;00m ret\u001b[38;5;241m.\u001b[39minvoke(\u001b[38;5;28minput\u001b[39m, config)\n",
      "Cell \u001b[0;32mIn[21], line 13\u001b[0m, in \u001b[0;36magent_node\u001b[0;34m(state)\u001b[0m\n\u001b[1;32m     10\u001b[0m task \u001b[38;5;241m=\u001b[39m history[\u001b[38;5;241m-\u001b[39m\u001b[38;5;241m1\u001b[39m][\u001b[38;5;124m'\u001b[39m\u001b[38;5;124mcontent\u001b[39m\u001b[38;5;124m'\u001b[39m]\n\u001b[1;32m     12\u001b[0m agent \u001b[38;5;241m=\u001b[39m initialize_agent(tool_list, llm, agent_type\u001b[38;5;241m=\u001b[39m\u001b[38;5;124m\"\u001b[39m\u001b[38;5;124mzero-shot-react-description\u001b[39m\u001b[38;5;124m\"\u001b[39m, verbose\u001b[38;5;241m=\u001b[39m\u001b[38;5;28;01mTrue\u001b[39;00m)\n\u001b[0;32m---> 13\u001b[0m result \u001b[38;5;241m=\u001b[39m \u001b[43magent\u001b[49m\u001b[38;5;241;43m.\u001b[39;49m\u001b[43mrun\u001b[49m\u001b[43m(\u001b[49m\u001b[43mtask\u001b[49m\u001b[43m)\u001b[49m\n\u001b[1;32m     15\u001b[0m \u001b[38;5;28;01mreturn\u001b[39;00m {\u001b[38;5;124m\"\u001b[39m\u001b[38;5;124mmessages\u001b[39m\u001b[38;5;124m\"\u001b[39m: history \u001b[38;5;241m+\u001b[39m [{\u001b[38;5;124m\"\u001b[39m\u001b[38;5;124mrole\u001b[39m\u001b[38;5;124m\"\u001b[39m: \u001b[38;5;124m\"\u001b[39m\u001b[38;5;124magent\u001b[39m\u001b[38;5;124m\"\u001b[39m, \u001b[38;5;124m\"\u001b[39m\u001b[38;5;124mcontent\u001b[39m\u001b[38;5;124m\"\u001b[39m: result}]}\n",
      "File \u001b[0;32m~/.local/lib/python3.11/site-packages/langchain_core/_api/deprecation.py:182\u001b[0m, in \u001b[0;36mdeprecated.<locals>.deprecate.<locals>.warning_emitting_wrapper\u001b[0;34m(*args, **kwargs)\u001b[0m\n\u001b[1;32m    180\u001b[0m     warned \u001b[38;5;241m=\u001b[39m \u001b[38;5;28;01mTrue\u001b[39;00m\n\u001b[1;32m    181\u001b[0m     emit_warning()\n\u001b[0;32m--> 182\u001b[0m \u001b[38;5;28;01mreturn\u001b[39;00m \u001b[43mwrapped\u001b[49m\u001b[43m(\u001b[49m\u001b[38;5;241;43m*\u001b[39;49m\u001b[43margs\u001b[49m\u001b[43m,\u001b[49m\u001b[43m \u001b[49m\u001b[38;5;241;43m*\u001b[39;49m\u001b[38;5;241;43m*\u001b[39;49m\u001b[43mkwargs\u001b[49m\u001b[43m)\u001b[49m\n",
      "File \u001b[0;32m~/.local/lib/python3.11/site-packages/langchain/chains/base.py:606\u001b[0m, in \u001b[0;36mChain.run\u001b[0;34m(self, callbacks, tags, metadata, *args, **kwargs)\u001b[0m\n\u001b[1;32m    604\u001b[0m     \u001b[38;5;28;01mif\u001b[39;00m \u001b[38;5;28mlen\u001b[39m(args) \u001b[38;5;241m!=\u001b[39m \u001b[38;5;241m1\u001b[39m:\n\u001b[1;32m    605\u001b[0m         \u001b[38;5;28;01mraise\u001b[39;00m \u001b[38;5;167;01mValueError\u001b[39;00m(\u001b[38;5;124m\"\u001b[39m\u001b[38;5;124m`run` supports only one positional argument.\u001b[39m\u001b[38;5;124m\"\u001b[39m)\n\u001b[0;32m--> 606\u001b[0m     \u001b[38;5;28;01mreturn\u001b[39;00m \u001b[38;5;28;43mself\u001b[39;49m\u001b[43m(\u001b[49m\u001b[43margs\u001b[49m\u001b[43m[\u001b[49m\u001b[38;5;241;43m0\u001b[39;49m\u001b[43m]\u001b[49m\u001b[43m,\u001b[49m\u001b[43m \u001b[49m\u001b[43mcallbacks\u001b[49m\u001b[38;5;241;43m=\u001b[39;49m\u001b[43mcallbacks\u001b[49m\u001b[43m,\u001b[49m\u001b[43m \u001b[49m\u001b[43mtags\u001b[49m\u001b[38;5;241;43m=\u001b[39;49m\u001b[43mtags\u001b[49m\u001b[43m,\u001b[49m\u001b[43m \u001b[49m\u001b[43mmetadata\u001b[49m\u001b[38;5;241;43m=\u001b[39;49m\u001b[43mmetadata\u001b[49m\u001b[43m)\u001b[49m[\n\u001b[1;32m    607\u001b[0m         _output_key\n\u001b[1;32m    608\u001b[0m     ]\n\u001b[1;32m    610\u001b[0m \u001b[38;5;28;01mif\u001b[39;00m kwargs \u001b[38;5;129;01mand\u001b[39;00m \u001b[38;5;129;01mnot\u001b[39;00m args:\n\u001b[1;32m    611\u001b[0m     \u001b[38;5;28;01mreturn\u001b[39;00m \u001b[38;5;28mself\u001b[39m(kwargs, callbacks\u001b[38;5;241m=\u001b[39mcallbacks, tags\u001b[38;5;241m=\u001b[39mtags, metadata\u001b[38;5;241m=\u001b[39mmetadata)[\n\u001b[1;32m    612\u001b[0m         _output_key\n\u001b[1;32m    613\u001b[0m     ]\n",
      "File \u001b[0;32m~/.local/lib/python3.11/site-packages/langchain_core/_api/deprecation.py:182\u001b[0m, in \u001b[0;36mdeprecated.<locals>.deprecate.<locals>.warning_emitting_wrapper\u001b[0;34m(*args, **kwargs)\u001b[0m\n\u001b[1;32m    180\u001b[0m     warned \u001b[38;5;241m=\u001b[39m \u001b[38;5;28;01mTrue\u001b[39;00m\n\u001b[1;32m    181\u001b[0m     emit_warning()\n\u001b[0;32m--> 182\u001b[0m \u001b[38;5;28;01mreturn\u001b[39;00m \u001b[43mwrapped\u001b[49m\u001b[43m(\u001b[49m\u001b[38;5;241;43m*\u001b[39;49m\u001b[43margs\u001b[49m\u001b[43m,\u001b[49m\u001b[43m \u001b[49m\u001b[38;5;241;43m*\u001b[39;49m\u001b[38;5;241;43m*\u001b[39;49m\u001b[43mkwargs\u001b[49m\u001b[43m)\u001b[49m\n",
      "File \u001b[0;32m~/.local/lib/python3.11/site-packages/langchain/chains/base.py:389\u001b[0m, in \u001b[0;36mChain.__call__\u001b[0;34m(self, inputs, return_only_outputs, callbacks, tags, metadata, run_name, include_run_info)\u001b[0m\n\u001b[1;32m    357\u001b[0m \u001b[38;5;250m\u001b[39m\u001b[38;5;124;03m\"\"\"Execute the chain.\u001b[39;00m\n\u001b[1;32m    358\u001b[0m \n\u001b[1;32m    359\u001b[0m \u001b[38;5;124;03mArgs:\u001b[39;00m\n\u001b[0;32m   (...)\u001b[0m\n\u001b[1;32m    380\u001b[0m \u001b[38;5;124;03m        `Chain.output_keys`.\u001b[39;00m\n\u001b[1;32m    381\u001b[0m \u001b[38;5;124;03m\"\"\"\u001b[39;00m\n\u001b[1;32m    382\u001b[0m config \u001b[38;5;241m=\u001b[39m {\n\u001b[1;32m    383\u001b[0m     \u001b[38;5;124m\"\u001b[39m\u001b[38;5;124mcallbacks\u001b[39m\u001b[38;5;124m\"\u001b[39m: callbacks,\n\u001b[1;32m    384\u001b[0m     \u001b[38;5;124m\"\u001b[39m\u001b[38;5;124mtags\u001b[39m\u001b[38;5;124m\"\u001b[39m: tags,\n\u001b[1;32m    385\u001b[0m     \u001b[38;5;124m\"\u001b[39m\u001b[38;5;124mmetadata\u001b[39m\u001b[38;5;124m\"\u001b[39m: metadata,\n\u001b[1;32m    386\u001b[0m     \u001b[38;5;124m\"\u001b[39m\u001b[38;5;124mrun_name\u001b[39m\u001b[38;5;124m\"\u001b[39m: run_name,\n\u001b[1;32m    387\u001b[0m }\n\u001b[0;32m--> 389\u001b[0m \u001b[38;5;28;01mreturn\u001b[39;00m \u001b[38;5;28;43mself\u001b[39;49m\u001b[38;5;241;43m.\u001b[39;49m\u001b[43minvoke\u001b[49m\u001b[43m(\u001b[49m\n\u001b[1;32m    390\u001b[0m \u001b[43m    \u001b[49m\u001b[43minputs\u001b[49m\u001b[43m,\u001b[49m\n\u001b[1;32m    391\u001b[0m \u001b[43m    \u001b[49m\u001b[43mcast\u001b[49m\u001b[43m(\u001b[49m\u001b[43mRunnableConfig\u001b[49m\u001b[43m,\u001b[49m\u001b[43m \u001b[49m\u001b[43m{\u001b[49m\u001b[43mk\u001b[49m\u001b[43m:\u001b[49m\u001b[43m \u001b[49m\u001b[43mv\u001b[49m\u001b[43m \u001b[49m\u001b[38;5;28;43;01mfor\u001b[39;49;00m\u001b[43m \u001b[49m\u001b[43mk\u001b[49m\u001b[43m,\u001b[49m\u001b[43m \u001b[49m\u001b[43mv\u001b[49m\u001b[43m \u001b[49m\u001b[38;5;129;43;01min\u001b[39;49;00m\u001b[43m \u001b[49m\u001b[43mconfig\u001b[49m\u001b[38;5;241;43m.\u001b[39;49m\u001b[43mitems\u001b[49m\u001b[43m(\u001b[49m\u001b[43m)\u001b[49m\u001b[43m \u001b[49m\u001b[38;5;28;43;01mif\u001b[39;49;00m\u001b[43m \u001b[49m\u001b[43mv\u001b[49m\u001b[43m \u001b[49m\u001b[38;5;129;43;01mis\u001b[39;49;00m\u001b[43m \u001b[49m\u001b[38;5;129;43;01mnot\u001b[39;49;00m\u001b[43m \u001b[49m\u001b[38;5;28;43;01mNone\u001b[39;49;00m\u001b[43m}\u001b[49m\u001b[43m)\u001b[49m\u001b[43m,\u001b[49m\n\u001b[1;32m    392\u001b[0m \u001b[43m    \u001b[49m\u001b[43mreturn_only_outputs\u001b[49m\u001b[38;5;241;43m=\u001b[39;49m\u001b[43mreturn_only_outputs\u001b[49m\u001b[43m,\u001b[49m\n\u001b[1;32m    393\u001b[0m \u001b[43m    \u001b[49m\u001b[43minclude_run_info\u001b[49m\u001b[38;5;241;43m=\u001b[39;49m\u001b[43minclude_run_info\u001b[49m\u001b[43m,\u001b[49m\n\u001b[1;32m    394\u001b[0m \u001b[43m\u001b[49m\u001b[43m)\u001b[49m\n",
      "File \u001b[0;32m~/.local/lib/python3.11/site-packages/langchain/chains/base.py:170\u001b[0m, in \u001b[0;36mChain.invoke\u001b[0;34m(self, input, config, **kwargs)\u001b[0m\n\u001b[1;32m    168\u001b[0m \u001b[38;5;28;01mexcept\u001b[39;00m \u001b[38;5;167;01mBaseException\u001b[39;00m \u001b[38;5;28;01mas\u001b[39;00m e:\n\u001b[1;32m    169\u001b[0m     run_manager\u001b[38;5;241m.\u001b[39mon_chain_error(e)\n\u001b[0;32m--> 170\u001b[0m     \u001b[38;5;28;01mraise\u001b[39;00m e\n\u001b[1;32m    171\u001b[0m run_manager\u001b[38;5;241m.\u001b[39mon_chain_end(outputs)\n\u001b[1;32m    173\u001b[0m \u001b[38;5;28;01mif\u001b[39;00m include_run_info:\n",
      "File \u001b[0;32m~/.local/lib/python3.11/site-packages/langchain/chains/base.py:160\u001b[0m, in \u001b[0;36mChain.invoke\u001b[0;34m(self, input, config, **kwargs)\u001b[0m\n\u001b[1;32m    157\u001b[0m \u001b[38;5;28;01mtry\u001b[39;00m:\n\u001b[1;32m    158\u001b[0m     \u001b[38;5;28mself\u001b[39m\u001b[38;5;241m.\u001b[39m_validate_inputs(inputs)\n\u001b[1;32m    159\u001b[0m     outputs \u001b[38;5;241m=\u001b[39m (\n\u001b[0;32m--> 160\u001b[0m         \u001b[38;5;28;43mself\u001b[39;49m\u001b[38;5;241;43m.\u001b[39;49m\u001b[43m_call\u001b[49m\u001b[43m(\u001b[49m\u001b[43minputs\u001b[49m\u001b[43m,\u001b[49m\u001b[43m \u001b[49m\u001b[43mrun_manager\u001b[49m\u001b[38;5;241;43m=\u001b[39;49m\u001b[43mrun_manager\u001b[49m\u001b[43m)\u001b[49m\n\u001b[1;32m    161\u001b[0m         \u001b[38;5;28;01mif\u001b[39;00m new_arg_supported\n\u001b[1;32m    162\u001b[0m         \u001b[38;5;28;01melse\u001b[39;00m \u001b[38;5;28mself\u001b[39m\u001b[38;5;241m.\u001b[39m_call(inputs)\n\u001b[1;32m    163\u001b[0m     )\n\u001b[1;32m    165\u001b[0m     final_outputs: Dict[\u001b[38;5;28mstr\u001b[39m, Any] \u001b[38;5;241m=\u001b[39m \u001b[38;5;28mself\u001b[39m\u001b[38;5;241m.\u001b[39mprep_outputs(\n\u001b[1;32m    166\u001b[0m         inputs, outputs, return_only_outputs\n\u001b[1;32m    167\u001b[0m     )\n\u001b[1;32m    168\u001b[0m \u001b[38;5;28;01mexcept\u001b[39;00m \u001b[38;5;167;01mBaseException\u001b[39;00m \u001b[38;5;28;01mas\u001b[39;00m e:\n",
      "File \u001b[0;32m~/.local/lib/python3.11/site-packages/langchain/agents/agent.py:1629\u001b[0m, in \u001b[0;36mAgentExecutor._call\u001b[0;34m(self, inputs, run_manager)\u001b[0m\n\u001b[1;32m   1627\u001b[0m \u001b[38;5;66;03m# We now enter the agent loop (until it returns something).\u001b[39;00m\n\u001b[1;32m   1628\u001b[0m \u001b[38;5;28;01mwhile\u001b[39;00m \u001b[38;5;28mself\u001b[39m\u001b[38;5;241m.\u001b[39m_should_continue(iterations, time_elapsed):\n\u001b[0;32m-> 1629\u001b[0m     next_step_output \u001b[38;5;241m=\u001b[39m \u001b[38;5;28;43mself\u001b[39;49m\u001b[38;5;241;43m.\u001b[39;49m\u001b[43m_take_next_step\u001b[49m\u001b[43m(\u001b[49m\n\u001b[1;32m   1630\u001b[0m \u001b[43m        \u001b[49m\u001b[43mname_to_tool_map\u001b[49m\u001b[43m,\u001b[49m\n\u001b[1;32m   1631\u001b[0m \u001b[43m        \u001b[49m\u001b[43mcolor_mapping\u001b[49m\u001b[43m,\u001b[49m\n\u001b[1;32m   1632\u001b[0m \u001b[43m        \u001b[49m\u001b[43minputs\u001b[49m\u001b[43m,\u001b[49m\n\u001b[1;32m   1633\u001b[0m \u001b[43m        \u001b[49m\u001b[43mintermediate_steps\u001b[49m\u001b[43m,\u001b[49m\n\u001b[1;32m   1634\u001b[0m \u001b[43m        \u001b[49m\u001b[43mrun_manager\u001b[49m\u001b[38;5;241;43m=\u001b[39;49m\u001b[43mrun_manager\u001b[49m\u001b[43m,\u001b[49m\n\u001b[1;32m   1635\u001b[0m \u001b[43m    \u001b[49m\u001b[43m)\u001b[49m\n\u001b[1;32m   1636\u001b[0m     \u001b[38;5;28;01mif\u001b[39;00m \u001b[38;5;28misinstance\u001b[39m(next_step_output, AgentFinish):\n\u001b[1;32m   1637\u001b[0m         \u001b[38;5;28;01mreturn\u001b[39;00m \u001b[38;5;28mself\u001b[39m\u001b[38;5;241m.\u001b[39m_return(\n\u001b[1;32m   1638\u001b[0m             next_step_output, intermediate_steps, run_manager\u001b[38;5;241m=\u001b[39mrun_manager\n\u001b[1;32m   1639\u001b[0m         )\n",
      "File \u001b[0;32m~/.local/lib/python3.11/site-packages/langchain/agents/agent.py:1335\u001b[0m, in \u001b[0;36mAgentExecutor._take_next_step\u001b[0;34m(self, name_to_tool_map, color_mapping, inputs, intermediate_steps, run_manager)\u001b[0m\n\u001b[1;32m   1326\u001b[0m \u001b[38;5;28;01mdef\u001b[39;00m \u001b[38;5;21m_take_next_step\u001b[39m(\n\u001b[1;32m   1327\u001b[0m     \u001b[38;5;28mself\u001b[39m,\n\u001b[1;32m   1328\u001b[0m     name_to_tool_map: Dict[\u001b[38;5;28mstr\u001b[39m, BaseTool],\n\u001b[0;32m   (...)\u001b[0m\n\u001b[1;32m   1332\u001b[0m     run_manager: Optional[CallbackManagerForChainRun] \u001b[38;5;241m=\u001b[39m \u001b[38;5;28;01mNone\u001b[39;00m,\n\u001b[1;32m   1333\u001b[0m ) \u001b[38;5;241m-\u001b[39m\u001b[38;5;241m>\u001b[39m Union[AgentFinish, List[Tuple[AgentAction, \u001b[38;5;28mstr\u001b[39m]]]:\n\u001b[1;32m   1334\u001b[0m     \u001b[38;5;28;01mreturn\u001b[39;00m \u001b[38;5;28mself\u001b[39m\u001b[38;5;241m.\u001b[39m_consume_next_step(\n\u001b[0;32m-> 1335\u001b[0m         \u001b[43m[\u001b[49m\n\u001b[1;32m   1336\u001b[0m \u001b[43m            \u001b[49m\u001b[43ma\u001b[49m\n\u001b[1;32m   1337\u001b[0m \u001b[43m            \u001b[49m\u001b[38;5;28;43;01mfor\u001b[39;49;00m\u001b[43m \u001b[49m\u001b[43ma\u001b[49m\u001b[43m \u001b[49m\u001b[38;5;129;43;01min\u001b[39;49;00m\u001b[43m \u001b[49m\u001b[38;5;28;43mself\u001b[39;49m\u001b[38;5;241;43m.\u001b[39;49m\u001b[43m_iter_next_step\u001b[49m\u001b[43m(\u001b[49m\n\u001b[1;32m   1338\u001b[0m \u001b[43m                \u001b[49m\u001b[43mname_to_tool_map\u001b[49m\u001b[43m,\u001b[49m\n\u001b[1;32m   1339\u001b[0m \u001b[43m                \u001b[49m\u001b[43mcolor_mapping\u001b[49m\u001b[43m,\u001b[49m\n\u001b[1;32m   1340\u001b[0m \u001b[43m                \u001b[49m\u001b[43minputs\u001b[49m\u001b[43m,\u001b[49m\n\u001b[1;32m   1341\u001b[0m \u001b[43m                \u001b[49m\u001b[43mintermediate_steps\u001b[49m\u001b[43m,\u001b[49m\n\u001b[1;32m   1342\u001b[0m \u001b[43m                \u001b[49m\u001b[43mrun_manager\u001b[49m\u001b[43m,\u001b[49m\n\u001b[1;32m   1343\u001b[0m \u001b[43m            \u001b[49m\u001b[43m)\u001b[49m\n\u001b[1;32m   1344\u001b[0m \u001b[43m        \u001b[49m\u001b[43m]\u001b[49m\n\u001b[1;32m   1345\u001b[0m     )\n",
      "File \u001b[0;32m~/.local/lib/python3.11/site-packages/langchain/agents/agent.py:1335\u001b[0m, in \u001b[0;36m<listcomp>\u001b[0;34m(.0)\u001b[0m\n\u001b[1;32m   1326\u001b[0m \u001b[38;5;28;01mdef\u001b[39;00m \u001b[38;5;21m_take_next_step\u001b[39m(\n\u001b[1;32m   1327\u001b[0m     \u001b[38;5;28mself\u001b[39m,\n\u001b[1;32m   1328\u001b[0m     name_to_tool_map: Dict[\u001b[38;5;28mstr\u001b[39m, BaseTool],\n\u001b[0;32m   (...)\u001b[0m\n\u001b[1;32m   1332\u001b[0m     run_manager: Optional[CallbackManagerForChainRun] \u001b[38;5;241m=\u001b[39m \u001b[38;5;28;01mNone\u001b[39;00m,\n\u001b[1;32m   1333\u001b[0m ) \u001b[38;5;241m-\u001b[39m\u001b[38;5;241m>\u001b[39m Union[AgentFinish, List[Tuple[AgentAction, \u001b[38;5;28mstr\u001b[39m]]]:\n\u001b[1;32m   1334\u001b[0m     \u001b[38;5;28;01mreturn\u001b[39;00m \u001b[38;5;28mself\u001b[39m\u001b[38;5;241m.\u001b[39m_consume_next_step(\n\u001b[0;32m-> 1335\u001b[0m         \u001b[43m[\u001b[49m\n\u001b[1;32m   1336\u001b[0m \u001b[43m            \u001b[49m\u001b[43ma\u001b[49m\n\u001b[1;32m   1337\u001b[0m \u001b[43m            \u001b[49m\u001b[38;5;28;43;01mfor\u001b[39;49;00m\u001b[43m \u001b[49m\u001b[43ma\u001b[49m\u001b[43m \u001b[49m\u001b[38;5;129;43;01min\u001b[39;49;00m\u001b[43m \u001b[49m\u001b[38;5;28;43mself\u001b[39;49m\u001b[38;5;241;43m.\u001b[39;49m\u001b[43m_iter_next_step\u001b[49m\u001b[43m(\u001b[49m\n\u001b[1;32m   1338\u001b[0m \u001b[43m                \u001b[49m\u001b[43mname_to_tool_map\u001b[49m\u001b[43m,\u001b[49m\n\u001b[1;32m   1339\u001b[0m \u001b[43m                \u001b[49m\u001b[43mcolor_mapping\u001b[49m\u001b[43m,\u001b[49m\n\u001b[1;32m   1340\u001b[0m \u001b[43m                \u001b[49m\u001b[43minputs\u001b[49m\u001b[43m,\u001b[49m\n\u001b[1;32m   1341\u001b[0m \u001b[43m                \u001b[49m\u001b[43mintermediate_steps\u001b[49m\u001b[43m,\u001b[49m\n\u001b[1;32m   1342\u001b[0m \u001b[43m                \u001b[49m\u001b[43mrun_manager\u001b[49m\u001b[43m,\u001b[49m\n\u001b[1;32m   1343\u001b[0m \u001b[43m            \u001b[49m\u001b[43m)\u001b[49m\n\u001b[1;32m   1344\u001b[0m \u001b[43m        \u001b[49m\u001b[43m]\u001b[49m\n\u001b[1;32m   1345\u001b[0m     )\n",
      "File \u001b[0;32m~/.local/lib/python3.11/site-packages/langchain/agents/agent.py:1420\u001b[0m, in \u001b[0;36mAgentExecutor._iter_next_step\u001b[0;34m(self, name_to_tool_map, color_mapping, inputs, intermediate_steps, run_manager)\u001b[0m\n\u001b[1;32m   1418\u001b[0m     \u001b[38;5;28;01myield\u001b[39;00m agent_action\n\u001b[1;32m   1419\u001b[0m \u001b[38;5;28;01mfor\u001b[39;00m agent_action \u001b[38;5;129;01min\u001b[39;00m actions:\n\u001b[0;32m-> 1420\u001b[0m     \u001b[38;5;28;01myield\u001b[39;00m \u001b[38;5;28;43mself\u001b[39;49m\u001b[38;5;241;43m.\u001b[39;49m\u001b[43m_perform_agent_action\u001b[49m\u001b[43m(\u001b[49m\n\u001b[1;32m   1421\u001b[0m \u001b[43m        \u001b[49m\u001b[43mname_to_tool_map\u001b[49m\u001b[43m,\u001b[49m\u001b[43m \u001b[49m\u001b[43mcolor_mapping\u001b[49m\u001b[43m,\u001b[49m\u001b[43m \u001b[49m\u001b[43magent_action\u001b[49m\u001b[43m,\u001b[49m\u001b[43m \u001b[49m\u001b[43mrun_manager\u001b[49m\n\u001b[1;32m   1422\u001b[0m \u001b[43m    \u001b[49m\u001b[43m)\u001b[49m\n",
      "File \u001b[0;32m~/.local/lib/python3.11/site-packages/langchain/agents/agent.py:1442\u001b[0m, in \u001b[0;36mAgentExecutor._perform_agent_action\u001b[0;34m(self, name_to_tool_map, color_mapping, agent_action, run_manager)\u001b[0m\n\u001b[1;32m   1440\u001b[0m         tool_run_kwargs[\u001b[38;5;124m\"\u001b[39m\u001b[38;5;124mllm_prefix\u001b[39m\u001b[38;5;124m\"\u001b[39m] \u001b[38;5;241m=\u001b[39m \u001b[38;5;124m\"\u001b[39m\u001b[38;5;124m\"\u001b[39m\n\u001b[1;32m   1441\u001b[0m     \u001b[38;5;66;03m# We then call the tool on the tool input to get an observation\u001b[39;00m\n\u001b[0;32m-> 1442\u001b[0m     observation \u001b[38;5;241m=\u001b[39m \u001b[43mtool\u001b[49m\u001b[38;5;241;43m.\u001b[39;49m\u001b[43mrun\u001b[49m\u001b[43m(\u001b[49m\n\u001b[1;32m   1443\u001b[0m \u001b[43m        \u001b[49m\u001b[43magent_action\u001b[49m\u001b[38;5;241;43m.\u001b[39;49m\u001b[43mtool_input\u001b[49m\u001b[43m,\u001b[49m\n\u001b[1;32m   1444\u001b[0m \u001b[43m        \u001b[49m\u001b[43mverbose\u001b[49m\u001b[38;5;241;43m=\u001b[39;49m\u001b[38;5;28;43mself\u001b[39;49m\u001b[38;5;241;43m.\u001b[39;49m\u001b[43mverbose\u001b[49m\u001b[43m,\u001b[49m\n\u001b[1;32m   1445\u001b[0m \u001b[43m        \u001b[49m\u001b[43mcolor\u001b[49m\u001b[38;5;241;43m=\u001b[39;49m\u001b[43mcolor\u001b[49m\u001b[43m,\u001b[49m\n\u001b[1;32m   1446\u001b[0m \u001b[43m        \u001b[49m\u001b[43mcallbacks\u001b[49m\u001b[38;5;241;43m=\u001b[39;49m\u001b[43mrun_manager\u001b[49m\u001b[38;5;241;43m.\u001b[39;49m\u001b[43mget_child\u001b[49m\u001b[43m(\u001b[49m\u001b[43m)\u001b[49m\u001b[43m \u001b[49m\u001b[38;5;28;43;01mif\u001b[39;49;00m\u001b[43m \u001b[49m\u001b[43mrun_manager\u001b[49m\u001b[43m \u001b[49m\u001b[38;5;28;43;01melse\u001b[39;49;00m\u001b[43m \u001b[49m\u001b[38;5;28;43;01mNone\u001b[39;49;00m\u001b[43m,\u001b[49m\n\u001b[1;32m   1447\u001b[0m \u001b[43m        \u001b[49m\u001b[38;5;241;43m*\u001b[39;49m\u001b[38;5;241;43m*\u001b[39;49m\u001b[43mtool_run_kwargs\u001b[49m\u001b[43m,\u001b[49m\n\u001b[1;32m   1448\u001b[0m \u001b[43m    \u001b[49m\u001b[43m)\u001b[49m\n\u001b[1;32m   1449\u001b[0m \u001b[38;5;28;01melse\u001b[39;00m:\n\u001b[1;32m   1450\u001b[0m     tool_run_kwargs \u001b[38;5;241m=\u001b[39m \u001b[38;5;28mself\u001b[39m\u001b[38;5;241m.\u001b[39m_action_agent\u001b[38;5;241m.\u001b[39mtool_run_logging_kwargs()\n",
      "File \u001b[0;32m~/.local/lib/python3.11/site-packages/langchain_core/tools/base.py:689\u001b[0m, in \u001b[0;36mBaseTool.run\u001b[0;34m(self, tool_input, verbose, start_color, color, callbacks, tags, metadata, run_name, run_id, config, tool_call_id, **kwargs)\u001b[0m\n\u001b[1;32m    687\u001b[0m \u001b[38;5;28;01mif\u001b[39;00m error_to_raise:\n\u001b[1;32m    688\u001b[0m     run_manager\u001b[38;5;241m.\u001b[39mon_tool_error(error_to_raise)\n\u001b[0;32m--> 689\u001b[0m     \u001b[38;5;28;01mraise\u001b[39;00m error_to_raise\n\u001b[1;32m    690\u001b[0m output \u001b[38;5;241m=\u001b[39m _format_output(content, artifact, tool_call_id, \u001b[38;5;28mself\u001b[39m\u001b[38;5;241m.\u001b[39mname, status)\n\u001b[1;32m    691\u001b[0m run_manager\u001b[38;5;241m.\u001b[39mon_tool_end(output, color\u001b[38;5;241m=\u001b[39mcolor, name\u001b[38;5;241m=\u001b[39m\u001b[38;5;28mself\u001b[39m\u001b[38;5;241m.\u001b[39mname, \u001b[38;5;241m*\u001b[39m\u001b[38;5;241m*\u001b[39mkwargs)\n",
      "File \u001b[0;32m~/.local/lib/python3.11/site-packages/langchain_core/tools/base.py:657\u001b[0m, in \u001b[0;36mBaseTool.run\u001b[0;34m(self, tool_input, verbose, start_color, color, callbacks, tags, metadata, run_name, run_id, config, tool_call_id, **kwargs)\u001b[0m\n\u001b[1;32m    655\u001b[0m \u001b[38;5;28;01mif\u001b[39;00m config_param \u001b[38;5;241m:=\u001b[39m _get_runnable_config_param(\u001b[38;5;28mself\u001b[39m\u001b[38;5;241m.\u001b[39m_run):\n\u001b[1;32m    656\u001b[0m     tool_kwargs[config_param] \u001b[38;5;241m=\u001b[39m config\n\u001b[0;32m--> 657\u001b[0m response \u001b[38;5;241m=\u001b[39m \u001b[43mcontext\u001b[49m\u001b[38;5;241;43m.\u001b[39;49m\u001b[43mrun\u001b[49m\u001b[43m(\u001b[49m\u001b[38;5;28;43mself\u001b[39;49m\u001b[38;5;241;43m.\u001b[39;49m\u001b[43m_run\u001b[49m\u001b[43m,\u001b[49m\u001b[43m \u001b[49m\u001b[38;5;241;43m*\u001b[39;49m\u001b[43mtool_args\u001b[49m\u001b[43m,\u001b[49m\u001b[43m \u001b[49m\u001b[38;5;241;43m*\u001b[39;49m\u001b[38;5;241;43m*\u001b[39;49m\u001b[43mtool_kwargs\u001b[49m\u001b[43m)\u001b[49m\n\u001b[1;32m    658\u001b[0m \u001b[38;5;28;01mif\u001b[39;00m \u001b[38;5;28mself\u001b[39m\u001b[38;5;241m.\u001b[39mresponse_format \u001b[38;5;241m==\u001b[39m \u001b[38;5;124m\"\u001b[39m\u001b[38;5;124mcontent_and_artifact\u001b[39m\u001b[38;5;124m\"\u001b[39m:\n\u001b[1;32m    659\u001b[0m     \u001b[38;5;28;01mif\u001b[39;00m \u001b[38;5;129;01mnot\u001b[39;00m \u001b[38;5;28misinstance\u001b[39m(response, \u001b[38;5;28mtuple\u001b[39m) \u001b[38;5;129;01mor\u001b[39;00m \u001b[38;5;28mlen\u001b[39m(response) \u001b[38;5;241m!=\u001b[39m \u001b[38;5;241m2\u001b[39m:\n",
      "File \u001b[0;32m~/.local/lib/python3.11/site-packages/langchain_core/tools/simple.py:92\u001b[0m, in \u001b[0;36mTool._run\u001b[0;34m(self, config, run_manager, *args, **kwargs)\u001b[0m\n\u001b[1;32m     90\u001b[0m     \u001b[38;5;28;01mif\u001b[39;00m config_param \u001b[38;5;241m:=\u001b[39m _get_runnable_config_param(\u001b[38;5;28mself\u001b[39m\u001b[38;5;241m.\u001b[39mfunc):\n\u001b[1;32m     91\u001b[0m         kwargs[config_param] \u001b[38;5;241m=\u001b[39m config\n\u001b[0;32m---> 92\u001b[0m     \u001b[38;5;28;01mreturn\u001b[39;00m \u001b[38;5;28;43mself\u001b[39;49m\u001b[38;5;241;43m.\u001b[39;49m\u001b[43mfunc\u001b[49m\u001b[43m(\u001b[49m\u001b[38;5;241;43m*\u001b[39;49m\u001b[43margs\u001b[49m\u001b[43m,\u001b[49m\u001b[43m \u001b[49m\u001b[38;5;241;43m*\u001b[39;49m\u001b[38;5;241;43m*\u001b[39;49m\u001b[43mkwargs\u001b[49m\u001b[43m)\u001b[49m\n\u001b[1;32m     93\u001b[0m msg \u001b[38;5;241m=\u001b[39m \u001b[38;5;124m\"\u001b[39m\u001b[38;5;124mTool does not support sync invocation.\u001b[39m\u001b[38;5;124m\"\u001b[39m\n\u001b[1;32m     94\u001b[0m \u001b[38;5;28;01mraise\u001b[39;00m \u001b[38;5;167;01mNotImplementedError\u001b[39;00m(msg)\n",
      "Cell \u001b[0;32mIn[20], line 455\u001b[0m, in \u001b[0;36mwith_reporting.<locals>.wrapped\u001b[0;34m(input_str)\u001b[0m\n\u001b[1;32m    454\u001b[0m \u001b[38;5;28;01mdef\u001b[39;00m \u001b[38;5;21mwrapped\u001b[39m(input_str):\n\u001b[0;32m--> 455\u001b[0m     result \u001b[38;5;241m=\u001b[39m \u001b[43mtool_func\u001b[49m\u001b[43m(\u001b[49m\u001b[43minput_str\u001b[49m\u001b[43m)\u001b[49m\n\u001b[1;32m    456\u001b[0m     interpretation \u001b[38;5;241m=\u001b[39m \u001b[38;5;124mf\u001b[39m\u001b[38;5;124m\"\u001b[39m\u001b[38;5;124mTool `\u001b[39m\u001b[38;5;132;01m{\u001b[39;00mname\u001b[38;5;132;01m}\u001b[39;00m\u001b[38;5;124m` was run. Output: \u001b[39m\u001b[38;5;132;01m{\u001b[39;00mresult\u001b[38;5;132;01m}\u001b[39;00m\u001b[38;5;124m. What does this result mean?\u001b[39m\u001b[38;5;124m\"\u001b[39m\n\u001b[1;32m    457\u001b[0m     report_manager\u001b[38;5;241m.\u001b[39madd_section(title\u001b[38;5;241m=\u001b[39mname, content\u001b[38;5;241m=\u001b[39minterpretation, image_paths\u001b[38;5;241m=\u001b[39m\u001b[38;5;28;01mNone\u001b[39;00m)\n",
      "Cell \u001b[0;32mIn[20], line 145\u001b[0m, in \u001b[0;36mnormalize_and_scale\u001b[0;34m(scale_factor)\u001b[0m\n\u001b[1;32m    143\u001b[0m \u001b[38;5;250m\u001b[39m\u001b[38;5;124;03m\"\"\"Normalize and scale the data.\"\"\"\u001b[39;00m\n\u001b[1;32m    144\u001b[0m \u001b[38;5;28;01mglobal\u001b[39;00m adata\n\u001b[0;32m--> 145\u001b[0m \u001b[43msc\u001b[49m\u001b[38;5;241;43m.\u001b[39;49m\u001b[43mpp\u001b[49m\u001b[38;5;241;43m.\u001b[39;49m\u001b[43mnormalize_total\u001b[49m\u001b[43m(\u001b[49m\u001b[43madata\u001b[49m\u001b[43m,\u001b[49m\u001b[43m \u001b[49m\u001b[43mtarget_sum\u001b[49m\u001b[38;5;241;43m=\u001b[39;49m\u001b[43mscale_factor\u001b[49m\u001b[43m)\u001b[49m\n\u001b[1;32m    146\u001b[0m sc\u001b[38;5;241m.\u001b[39mpp\u001b[38;5;241m.\u001b[39mlog1p(adata)\n\u001b[1;32m    147\u001b[0m \u001b[38;5;28;01mreturn\u001b[39;00m \u001b[38;5;124m\"\u001b[39m\u001b[38;5;124mData normalized to counts per cell and log-transformed.\u001b[39m\u001b[38;5;124m\"\u001b[39m\n",
      "File \u001b[0;32m~/.local/lib/python3.11/site-packages/legacy_api_wrap/__init__.py:80\u001b[0m, in \u001b[0;36mlegacy_api.<locals>.wrapper.<locals>.fn_compatible\u001b[0;34m(*args_all, **kw)\u001b[0m\n\u001b[1;32m     77\u001b[0m \u001b[38;5;129m@wraps\u001b[39m(fn)\n\u001b[1;32m     78\u001b[0m \u001b[38;5;28;01mdef\u001b[39;00m \u001b[38;5;21mfn_compatible\u001b[39m(\u001b[38;5;241m*\u001b[39margs_all: P\u001b[38;5;241m.\u001b[39margs, \u001b[38;5;241m*\u001b[39m\u001b[38;5;241m*\u001b[39mkw: P\u001b[38;5;241m.\u001b[39mkwargs) \u001b[38;5;241m-\u001b[39m\u001b[38;5;241m>\u001b[39m R:\n\u001b[1;32m     79\u001b[0m     \u001b[38;5;28;01mif\u001b[39;00m \u001b[38;5;28mlen\u001b[39m(args_all) \u001b[38;5;241m<\u001b[39m\u001b[38;5;241m=\u001b[39m n_positional:\n\u001b[0;32m---> 80\u001b[0m         \u001b[38;5;28;01mreturn\u001b[39;00m \u001b[43mfn\u001b[49m\u001b[43m(\u001b[49m\u001b[38;5;241;43m*\u001b[39;49m\u001b[43margs_all\u001b[49m\u001b[43m,\u001b[49m\u001b[43m \u001b[49m\u001b[38;5;241;43m*\u001b[39;49m\u001b[38;5;241;43m*\u001b[39;49m\u001b[43mkw\u001b[49m\u001b[43m)\u001b[49m\n\u001b[1;32m     82\u001b[0m     args_pos: P\u001b[38;5;241m.\u001b[39margs\n\u001b[1;32m     83\u001b[0m     args_pos, args_rest \u001b[38;5;241m=\u001b[39m args_all[:n_positional], args_all[n_positional:]\n",
      "File \u001b[0;32m~/.local/lib/python3.11/site-packages/scanpy/preprocessing/_normalization.py:240\u001b[0m, in \u001b[0;36mnormalize_total\u001b[0;34m(adata, target_sum, exclude_highly_expressed, max_fraction, key_added, layer, layers, layer_norm, inplace, copy)\u001b[0m\n\u001b[1;32m    237\u001b[0m     \u001b[38;5;28;01mif\u001b[39;00m key_added \u001b[38;5;129;01mis\u001b[39;00m \u001b[38;5;129;01mnot\u001b[39;00m \u001b[38;5;28;01mNone\u001b[39;00m:\n\u001b[1;32m    238\u001b[0m         adata\u001b[38;5;241m.\u001b[39mobs[key_added] \u001b[38;5;241m=\u001b[39m counts_per_cell\n\u001b[1;32m    239\u001b[0m     _set_obs_rep(\n\u001b[0;32m--> 240\u001b[0m         adata, \u001b[43m_normalize_data\u001b[49m\u001b[43m(\u001b[49m\u001b[43mx\u001b[49m\u001b[43m,\u001b[49m\u001b[43m \u001b[49m\u001b[43mcounts_per_cell\u001b[49m\u001b[43m,\u001b[49m\u001b[43m \u001b[49m\u001b[43mtarget_sum\u001b[49m\u001b[43m)\u001b[49m, layer\u001b[38;5;241m=\u001b[39mlayer\n\u001b[1;32m    241\u001b[0m     )\n\u001b[1;32m    242\u001b[0m \u001b[38;5;28;01melse\u001b[39;00m:\n\u001b[1;32m    243\u001b[0m     \u001b[38;5;66;03m# not recarray because need to support sparse\u001b[39;00m\n\u001b[1;32m    244\u001b[0m     dat \u001b[38;5;241m=\u001b[39m \u001b[38;5;28mdict\u001b[39m(\n\u001b[1;32m    245\u001b[0m         X\u001b[38;5;241m=\u001b[39m_normalize_data(x, counts_per_cell, target_sum, copy\u001b[38;5;241m=\u001b[39m\u001b[38;5;28;01mTrue\u001b[39;00m),\n\u001b[1;32m    246\u001b[0m         norm_factor\u001b[38;5;241m=\u001b[39mcounts_per_cell,\n\u001b[1;32m    247\u001b[0m     )\n",
      "File \u001b[0;32m~/.local/lib/python3.11/site-packages/scanpy/preprocessing/_normalization.py:48\u001b[0m, in \u001b[0;36m_normalize_data\u001b[0;34m(X, counts, after, copy)\u001b[0m\n\u001b[1;32m     46\u001b[0m         counts_greater_than_zero \u001b[38;5;241m=\u001b[39m counts[counts \u001b[38;5;241m>\u001b[39m \u001b[38;5;241m0\u001b[39m]\n\u001b[1;32m     47\u001b[0m         after \u001b[38;5;241m=\u001b[39m np\u001b[38;5;241m.\u001b[39mmedian(counts_greater_than_zero, axis\u001b[38;5;241m=\u001b[39m\u001b[38;5;241m0\u001b[39m)\n\u001b[0;32m---> 48\u001b[0m counts \u001b[38;5;241m=\u001b[39m \u001b[43mcounts\u001b[49m\u001b[43m \u001b[49m\u001b[38;5;241;43m/\u001b[39;49m\u001b[43m \u001b[49m\u001b[43mafter\u001b[49m\n\u001b[1;32m     49\u001b[0m \u001b[38;5;28;01mreturn\u001b[39;00m axis_mul_or_truediv(\n\u001b[1;32m     50\u001b[0m     X,\n\u001b[1;32m     51\u001b[0m     counts,\n\u001b[0;32m   (...)\u001b[0m\n\u001b[1;32m     55\u001b[0m     axis\u001b[38;5;241m=\u001b[39m\u001b[38;5;241m0\u001b[39m,\n\u001b[1;32m     56\u001b[0m )\n",
      "\u001b[0;31mTypeError\u001b[0m: ufunc 'divide' not supported for the input types, and the inputs could not be safely coerced to any supported types according to the casting rule ''safe''"
     ]
    }
   ],
   "source": [
    "# --- Define State Schema ---\n",
    "class AgentState(TypedDict):\n",
    "    messages: List[Dict[str, Any]]\n",
    "\n",
    "# --- LLM Agent Node ---\n",
    "llm = ChatOpenAI(model=\"gpt-4\", temperature=0)\n",
    "\n",
    "def agent_node(state: AgentState) -> AgentState:\n",
    "    history = state.get(\"messages\", [])\n",
    "    task = history[-1]['content']\n",
    "\n",
    "    agent = initialize_agent(tool_list, llm, agent_type=\"zero-shot-react-description\", verbose=True)\n",
    "    result = agent.run(task)\n",
    "\n",
    "    return {\"messages\": history + [{\"role\": \"agent\", \"content\": result}]}\n",
    "\n",
    "# --- Build Graph ---\n",
    "builder = StateGraph(AgentState)\n",
    "builder.add_node(\"Agent\", agent_node)\n",
    "builder.set_entry_point(\"Agent\")\n",
    "builder.set_finish_point(\"Agent\")\n",
    "graph = builder.compile()\n",
    "\n",
    "# --- Run Agent ---\n",
    "adata = sc.datasets.pbmc3k()  # Or sc.read(\"path_to_file.h5ad\")\n",
    "query = \"Identify biomarkers and DGEs in these data about Keloids\"\n",
    "initial_state = {\"messages\": [{\"role\": \"user\", \"content\": query}]}\n",
    "final_state = graph.invoke(initial_state)\n",
    "\n",
    "# --- View Result ---\n",
    "final_state[\"messages\"][-1][\"content\"]\n"
   ]
  },
  {
   "cell_type": "code",
   "execution_count": 19,
   "id": "89e17cd7-fde0-4a19-aaff-f559f2c5733b",
   "metadata": {},
   "outputs": [
    {
     "data": {
      "text/plain": [
       "AnnData object with n_obs × n_vars = 2700 × 32738\n",
       "    obs: 'n_genes_by_counts', 'log1p_n_genes_by_counts', 'total_counts', 'log1p_total_counts', 'pct_counts_in_top_50_genes', 'pct_counts_in_top_100_genes', 'pct_counts_in_top_200_genes', 'pct_counts_in_top_500_genes', 'percent_mito', 'n_genes'\n",
       "    var: 'gene_ids', 'n_cells_by_counts', 'mean_counts', 'log1p_mean_counts', 'pct_dropout_by_counts', 'total_counts', 'log1p_total_counts'"
      ]
     },
     "execution_count": 19,
     "metadata": {},
     "output_type": "execute_result"
    }
   ],
   "source": [
    "adata"
   ]
  },
  {
   "cell_type": "code",
   "execution_count": null,
   "id": "be16df92-dfda-42db-8e3d-7b67b5e3c2c8",
   "metadata": {},
   "outputs": [],
   "source": []
  },
  {
   "cell_type": "code",
   "execution_count": 7,
   "id": "4f9bd79e-c331-48ed-832e-80af54db0d62",
   "metadata": {},
   "outputs": [],
   "source": [
    "from typing import TypedDict, List, Dict, Any, Optional, Literal, Union\n",
    "from langgraph.graph import StateGraph, END\n",
    "from langchain.chat_models import ChatOpenAI\n",
    "from langchain.agents import Tool, AgentExecutor, create_react_agent\n",
    "from langchain_core.prompts import ChatPromptTemplate, MessagesPlaceholder\n",
    "from langchain.schema import SystemMessage, HumanMessage\n",
    "import scanpy as sc\n",
    "import numpy as np\n",
    "import matplotlib.pyplot as plt\n",
    "import anndata\n",
    "import pandas as pd\n",
    "import os\n",
    "import seaborn as sns\n",
    "from datetime import datetime\n",
    "from typing_extensions import Annotated\n"
   ]
  },
  {
   "cell_type": "code",
   "execution_count": 24,
   "id": "1b420ede-65f4-4b8c-9ca3-685306e3bb03",
   "metadata": {},
   "outputs": [
    {
     "name": "stdout",
     "output_type": "stream",
     "text": [
      "\n",
      "\n",
      "\u001b[1m> Entering new AgentExecutor chain...\u001b[0m\n",
      "\u001b[32;1m\u001b[1;3mFirst, I need to run a basic quality control on the data to ensure it's clean and ready for analysis.\n",
      "Action: run_basic_qc\n",
      "Action Input: \"Keloids data\"\u001b[0m\n",
      "Observation: \u001b[36;1m\u001b[1;3mBasic QC metrics computed.\u001b[0m\n",
      "Thought:\u001b[32;1m\u001b[1;3mNow that the data has passed quality control, I can proceed to the next step which is to compute PCA, neighbors, and Leiden clusters.\n",
      "Action: run_leiden_clustering\n",
      "Action Input: \"Keloids data\"\u001b[0m\n",
      "Observation: \u001b[33;1m\u001b[1;3mLeiden clustering completed and stored in adata.obs['leiden'].\u001b[0m\n",
      "Thought:\u001b[32;1m\u001b[1;3mNow that I have the Leiden clusters, I can compute the differentially expressed genes grouped by these clusters.\n",
      "Action: find_differentially_expressed_genes\n",
      "Action Input: \"Keloids data\"\u001b[0mWARNING: It seems you use rank_genes_groups on the raw count data. Please logarithmize your data before calling rank_genes_groups.\n",
      "\n",
      "Observation: \u001b[38;5;200m\u001b[1;3mDGE computed using t-test, grouped by leiden clusters.\u001b[0m\n",
      "Thought:\u001b[32;1m\u001b[1;3mNow that I have the differentially expressed genes, I can identify the biomarkers by plotting the expression of marker genes from the DGE results.\n",
      "Action: plot_marker_expression\n",
      "Action Input: \"Keloids data\"\u001b[0m\n",
      "Observation: \u001b[36;1m\u001b[1;3mMarker expression plot saved.\u001b[0m\n",
      "Thought:\u001b[32;1m\u001b[1;3mI now have the biomarkers and differentially expressed genes in the Keloids data.\n",
      "Final Answer: The biomarkers and differentially expressed genes in the Keloids data have been identified and visualized. Please refer to the marker expression plot for details.\u001b[0m\n",
      "\n",
      "\u001b[1m> Finished chain.\u001b[0m\n"
     ]
    },
    {
     "data": {
      "text/plain": [
       "'The biomarkers and differentially expressed genes in the Keloids data have been identified and visualized. Please refer to the marker expression plot for details.'"
      ]
     },
     "execution_count": 24,
     "metadata": {},
     "output_type": "execute_result"
    },
    {
     "data": {
      "image/png": "[encoded data removed]",
      "text/plain": [
       "<Figure size 4023x480 with 5 Axes>"
      ]
     },
     "metadata": {},
     "output_type": "display_data"
    }
   ],
   "source": [
    "from typing import TypedDict, List, Dict, Any\n",
    "from langgraph.graph import StateGraph, END\n",
    "from langchain.chat_models import ChatOpenAI\n",
    "from langchain.agents import Tool, initialize_agent\n",
    "import scanpy as sc\n",
    "import matplotlib.pyplot as plt\n",
    "\n",
    "# --- Dummy report structure ---\n",
    "report_log = []\n",
    "def add_to_report(title: str, description: str, image_paths: list[str] = None):\n",
    "    md = f\"## {title}\\n\\n{description}\\n\"\n",
    "    if image_paths:\n",
    "        for path in image_paths:\n",
    "            md += f\"![{path}]({path})\\n\"\n",
    "    report_log.append(md)\n",
    "\n",
    "# --- Dummy AnnData setup (replace with your real file) ---\n",
    "adata = sc.datasets.pbmc3k()  # Or sc.read(\"path_to_file.h5ad\")\n",
    "\n",
    "# --- Tools ---\n",
    "def run_basic_qc(_: str) -> str:\n",
    "    sc.pp.calculate_qc_metrics(adata, inplace=True)\n",
    "    return \"Basic QC metrics computed.\"\n",
    "\n",
    "def run_louvain_clustering(_: str) -> str:\n",
    "    sc.pp.pca(adata)\n",
    "    sc.pp.neighbors(adata)\n",
    "    sc.tl.louvain(adata)\n",
    "    return \"Louvain clustering completed and stored in adata.obs['louvain'].\"\n",
    "\n",
    "def run_leiden_clustering(_: str) -> str:\n",
    "    sc.pp.pca(adata)\n",
    "    sc.pp.neighbors(adata)\n",
    "    sc.tl.leiden(adata)\n",
    "    return \"Leiden clustering completed and stored in adata.obs['leiden'].\"\n",
    "\n",
    "def find_differentially_expressed_genes(_: str) -> str:\n",
    "    if \"leiden\" not in adata.obs:\n",
    "        return \"Error: 'leiden' clusters not found. Please run Leiden clustering first.\"\n",
    "    sc.tl.rank_genes_groups(adata, groupby=\"leiden\", method=\"t-test\")\n",
    "    return \"DGE computed using t-test, grouped by leiden clusters.\"\n",
    "\n",
    "def plot_marker_expression(_: str) -> str:\n",
    "    if \"rank_genes_groups\" not in adata.uns:\n",
    "        return \"Error: No ranked genes found. Please run DGE first.\"\n",
    "    top_genes = adata.uns['rank_genes_groups']['names']['0'][:5]\n",
    "    sc.pl.violin(adata, keys=top_genes, groupby=\"leiden\", show=False)\n",
    "    plt.savefig(\"marker_expression.png\")\n",
    "    return \"Marker expression plot saved.\"\n",
    "\n",
    "# --- Tools as LangChain Tools ---\n",
    "def with_reporting(tool_func, name):\n",
    "    def wrapped(input_str):\n",
    "        result = tool_func(input_str)\n",
    "        interpretation = f\"Tool `{name}` was run. Output: {result}. What does this result mean?\"\n",
    "        add_to_report(name, interpretation)\n",
    "        return result\n",
    "    return wrapped\n",
    "\n",
    "tool_list = [\n",
    "    Tool(name=\"run_basic_qc\", func=with_reporting(run_basic_qc, \"run_basic_qc\"), description=\"Run basic QC on the data\"),\n",
    "    Tool(name=\"run_leiden_clustering\", func=with_reporting(run_leiden_clustering, \"run_leiden_clustering\"), description=\"Compute PCA, neighbors, and Leiden clusters\"),\n",
    "    Tool(name=\"find_differentially_expressed_genes\", func=with_reporting(find_differentially_expressed_genes, \"find_differentially_expressed_genes\"), description=\"Compute differentially expressed genes grouped by Leiden cluster\"),\n",
    "    Tool(name=\"plot_marker_expression\", func=with_reporting(plot_marker_expression, \"plot_marker_expression\"), description=\"Plot expression of marker genes from DGE results\"),\n",
    "]\n",
    "\n",
    "# --- Define State Schema ---\n",
    "class AgentState(TypedDict):\n",
    "    messages: List[Dict[str, Any]]\n",
    "\n",
    "# --- LLM Agent Node ---\n",
    "llm = ChatOpenAI(model=\"gpt-4\", temperature=0)\n",
    "\n",
    "def agent_node(state: AgentState) -> AgentState:\n",
    "    history = state.get(\"messages\", [])\n",
    "    task = history[-1]['content']\n",
    "\n",
    "    agent = initialize_agent(tool_list, llm, agent_type=\"zero-shot-react-description\", verbose=True)\n",
    "    result = agent.run(task)\n",
    "\n",
    "    return {\"messages\": history + [{\"role\": \"agent\", \"content\": result}]}\n",
    "\n",
    "# --- Build Graph ---\n",
    "builder = StateGraph(AgentState)\n",
    "builder.add_node(\"Agent\", agent_node)\n",
    "builder.set_entry_point(\"Agent\")\n",
    "builder.set_finish_point(\"Agent\")\n",
    "graph = builder.compile()\n",
    "\n",
    "# --- Run Agent ---\n",
    "query = \"Identify biomarkers and DGEs in these data about Keloids\"\n",
    "initial_state = {\"messages\": [{\"role\": \"user\", \"content\": query}]}\n",
    "final_state = graph.invoke(initial_state)\n",
    "\n",
    "# --- View Result ---\n",
    "final_state[\"messages\"][-1][\"content\"]\n"
   ]
  },
  {
   "cell_type": "code",
   "execution_count": 25,
   "id": "7c866282-2c02-434b-bb13-cd9d991fcdec",
   "metadata": {},
   "outputs": [
    {
     "data": {
      "text/plain": [
       "['## run_basic_qc\\n\\nTool `run_basic_qc` was run. Output: Basic QC metrics computed.. What does this result mean?\\n',\n",
       " \"## run_leiden_clustering\\n\\nTool `run_leiden_clustering` was run. Output: Leiden clustering completed and stored in adata.obs['leiden'].. What does this result mean?\\n\",\n",
       " '## find_differentially_expressed_genes\\n\\nTool `find_differentially_expressed_genes` was run. Output: DGE computed using t-test, grouped by leiden clusters.. What does this result mean?\\n',\n",
       " '## plot_marker_expression\\n\\nTool `plot_marker_expression` was run. Output: Marker expression plot saved.. What does this result mean?\\n']"
      ]
     },
     "execution_count": 25,
     "metadata": {},
     "output_type": "execute_result"
    }
   ],
   "source": [
    "report_log"
   ]
  },
  {
   "cell_type": "code",
   "execution_count": 18,
   "id": "6336ee6a-5a89-41ee-8ace-b28cf31320f3",
   "metadata": {},
   "outputs": [
    {
     "ename": "ModuleNotFoundError",
     "evalue": "No module named 'louvain'",
     "output_type": "error",
     "traceback": [
      "\u001b[0;31m---------------------------------------------------------------------------\u001b[0m",
      "\u001b[0;31mModuleNotFoundError\u001b[0m                       Traceback (most recent call last)",
      "Cell \u001b[0;32mIn[18], line 3\u001b[0m\n\u001b[1;32m      1\u001b[0m sc\u001b[38;5;241m.\u001b[39mpp\u001b[38;5;241m.\u001b[39mpca(adata)\n\u001b[1;32m      2\u001b[0m sc\u001b[38;5;241m.\u001b[39mpp\u001b[38;5;241m.\u001b[39mneighbors(adata)\n\u001b[0;32m----> 3\u001b[0m \u001b[43msc\u001b[49m\u001b[38;5;241;43m.\u001b[39;49m\u001b[43mtl\u001b[49m\u001b[38;5;241;43m.\u001b[39;49m\u001b[43mlouvain\u001b[49m\u001b[43m(\u001b[49m\u001b[43madata\u001b[49m\u001b[43m)\u001b[49m\n",
      "File \u001b[0;32m~/.local/lib/python3.11/site-packages/legacy_api_wrap/__init__.py:80\u001b[0m, in \u001b[0;36mlegacy_api.<locals>.wrapper.<locals>.fn_compatible\u001b[0;34m(*args_all, **kw)\u001b[0m\n\u001b[1;32m     77\u001b[0m \u001b[38;5;129m@wraps\u001b[39m(fn)\n\u001b[1;32m     78\u001b[0m \u001b[38;5;28;01mdef\u001b[39;00m \u001b[38;5;21mfn_compatible\u001b[39m(\u001b[38;5;241m*\u001b[39margs_all: P\u001b[38;5;241m.\u001b[39margs, \u001b[38;5;241m*\u001b[39m\u001b[38;5;241m*\u001b[39mkw: P\u001b[38;5;241m.\u001b[39mkwargs) \u001b[38;5;241m-\u001b[39m\u001b[38;5;241m>\u001b[39m R:\n\u001b[1;32m     79\u001b[0m     \u001b[38;5;28;01mif\u001b[39;00m \u001b[38;5;28mlen\u001b[39m(args_all) \u001b[38;5;241m<\u001b[39m\u001b[38;5;241m=\u001b[39m n_positional:\n\u001b[0;32m---> 80\u001b[0m         \u001b[38;5;28;01mreturn\u001b[39;00m \u001b[43mfn\u001b[49m\u001b[43m(\u001b[49m\u001b[38;5;241;43m*\u001b[39;49m\u001b[43margs_all\u001b[49m\u001b[43m,\u001b[49m\u001b[43m \u001b[49m\u001b[38;5;241;43m*\u001b[39;49m\u001b[38;5;241;43m*\u001b[39;49m\u001b[43mkw\u001b[49m\u001b[43m)\u001b[49m\n\u001b[1;32m     82\u001b[0m     args_pos: P\u001b[38;5;241m.\u001b[39margs\n\u001b[1;32m     83\u001b[0m     args_pos, args_rest \u001b[38;5;241m=\u001b[39m args_all[:n_positional], args_all[n_positional:]\n",
      "File \u001b[0;32m~/.local/lib/python3.11/site-packages/scanpy/tools/_louvain.py:168\u001b[0m, in \u001b[0;36mlouvain\u001b[0;34m(adata, resolution, random_state, restrict_to, key_added, adjacency, flavor, directed, use_weights, partition_type, partition_kwargs, neighbors_key, obsp, copy)\u001b[0m\n\u001b[1;32m    166\u001b[0m weights \u001b[38;5;241m=\u001b[39m np\u001b[38;5;241m.\u001b[39marray(g\u001b[38;5;241m.\u001b[39mes[\u001b[38;5;124m\"\u001b[39m\u001b[38;5;124mweight\u001b[39m\u001b[38;5;124m\"\u001b[39m])\u001b[38;5;241m.\u001b[39mastype(np\u001b[38;5;241m.\u001b[39mfloat64) \u001b[38;5;28;01mif\u001b[39;00m use_weights \u001b[38;5;28;01melse\u001b[39;00m \u001b[38;5;28;01mNone\u001b[39;00m\n\u001b[1;32m    167\u001b[0m \u001b[38;5;28;01mif\u001b[39;00m flavor \u001b[38;5;241m==\u001b[39m \u001b[38;5;124m\"\u001b[39m\u001b[38;5;124mvtraag\u001b[39m\u001b[38;5;124m\"\u001b[39m:\n\u001b[0;32m--> 168\u001b[0m     \u001b[38;5;28;01mimport\u001b[39;00m \u001b[38;5;21;01mlouvain\u001b[39;00m\n\u001b[1;32m    170\u001b[0m     \u001b[38;5;28;01mif\u001b[39;00m partition_type \u001b[38;5;129;01mis\u001b[39;00m \u001b[38;5;28;01mNone\u001b[39;00m:\n\u001b[1;32m    171\u001b[0m         partition_type \u001b[38;5;241m=\u001b[39m louvain\u001b[38;5;241m.\u001b[39mRBConfigurationVertexPartition\n",
      "\u001b[0;31mModuleNotFoundError\u001b[0m: No module named 'louvain'"
     ]
    }
   ],
   "source": [
    "sc.pp.pca(adata)\n",
    "sc.pp.neighbors(adata)\n",
    "sc.tl.louvain(adata)"
   ]
  },
  {
   "cell_type": "code",
   "execution_count": 17,
   "id": "8b27b24b-e735-494b-866a-b10c3e1148a4",
   "metadata": {},
   "outputs": [
    {
     "data": {
      "text/html": [
       "<div>\n",
       "<style scoped>\n",
       "    .dataframe tbody tr th:only-of-type {\n",
       "        vertical-align: middle;\n",
       "    }\n",
       "\n",
       "    .dataframe tbody tr th {\n",
       "        vertical-align: top;\n",
       "    }\n",
       "\n",
       "    .dataframe thead th {\n",
       "        text-align: right;\n",
       "    }\n",
       "</style>\n",
       "<table border=\"1\" class=\"dataframe\">\n",
       "  <thead>\n",
       "    <tr style=\"text-align: right;\">\n",
       "      <th></th>\n",
       "      <th>n_genes_by_counts</th>\n",
       "      <th>log1p_n_genes_by_counts</th>\n",
       "      <th>total_counts</th>\n",
       "      <th>log1p_total_counts</th>\n",
       "      <th>pct_counts_in_top_50_genes</th>\n",
       "      <th>pct_counts_in_top_100_genes</th>\n",
       "      <th>pct_counts_in_top_200_genes</th>\n",
       "      <th>pct_counts_in_top_500_genes</th>\n",
       "    </tr>\n",
       "    <tr>\n",
       "      <th>index</th>\n",
       "      <th></th>\n",
       "      <th></th>\n",
       "      <th></th>\n",
       "      <th></th>\n",
       "      <th></th>\n",
       "      <th></th>\n",
       "      <th></th>\n",
       "      <th></th>\n",
       "    </tr>\n",
       "  </thead>\n",
       "  <tbody>\n",
       "    <tr>\n",
       "      <th>AAACATACAACCAC-1</th>\n",
       "      <td>781</td>\n",
       "      <td>6.661855</td>\n",
       "      <td>2421.0</td>\n",
       "      <td>7.792349</td>\n",
       "      <td>47.748864</td>\n",
       "      <td>63.279637</td>\n",
       "      <td>74.969021</td>\n",
       "      <td>88.393226</td>\n",
       "    </tr>\n",
       "    <tr>\n",
       "      <th>AAACATTGAGCTAC-1</th>\n",
       "      <td>1352</td>\n",
       "      <td>7.210080</td>\n",
       "      <td>4903.0</td>\n",
       "      <td>8.497807</td>\n",
       "      <td>45.502753</td>\n",
       "      <td>61.023863</td>\n",
       "      <td>71.813176</td>\n",
       "      <td>82.622884</td>\n",
       "    </tr>\n",
       "    <tr>\n",
       "      <th>AAACATTGATCAGC-1</th>\n",
       "      <td>1131</td>\n",
       "      <td>7.031741</td>\n",
       "      <td>3149.0</td>\n",
       "      <td>8.055158</td>\n",
       "      <td>41.314703</td>\n",
       "      <td>53.794856</td>\n",
       "      <td>65.449349</td>\n",
       "      <td>79.961893</td>\n",
       "    </tr>\n",
       "    <tr>\n",
       "      <th>AAACCGTGCTTCCG-1</th>\n",
       "      <td>960</td>\n",
       "      <td>6.867974</td>\n",
       "      <td>2639.0</td>\n",
       "      <td>7.878534</td>\n",
       "      <td>39.029936</td>\n",
       "      <td>52.898825</td>\n",
       "      <td>66.691929</td>\n",
       "      <td>82.569155</td>\n",
       "    </tr>\n",
       "    <tr>\n",
       "      <th>AAACCGTGTATGCG-1</th>\n",
       "      <td>522</td>\n",
       "      <td>6.259581</td>\n",
       "      <td>981.0</td>\n",
       "      <td>6.889591</td>\n",
       "      <td>44.852192</td>\n",
       "      <td>55.657492</td>\n",
       "      <td>67.176351</td>\n",
       "      <td>97.757390</td>\n",
       "    </tr>\n",
       "    <tr>\n",
       "      <th>...</th>\n",
       "      <td>...</td>\n",
       "      <td>...</td>\n",
       "      <td>...</td>\n",
       "      <td>...</td>\n",
       "      <td>...</td>\n",
       "      <td>...</td>\n",
       "      <td>...</td>\n",
       "      <td>...</td>\n",
       "    </tr>\n",
       "    <tr>\n",
       "      <th>TTTCGAACTCTCAT-1</th>\n",
       "      <td>1155</td>\n",
       "      <td>7.052721</td>\n",
       "      <td>3461.0</td>\n",
       "      <td>8.149602</td>\n",
       "      <td>39.237215</td>\n",
       "      <td>52.528171</td>\n",
       "      <td>65.761341</td>\n",
       "      <td>81.074834</td>\n",
       "    </tr>\n",
       "    <tr>\n",
       "      <th>TTTCTACTGAGGCA-1</th>\n",
       "      <td>1227</td>\n",
       "      <td>7.113142</td>\n",
       "      <td>3447.0</td>\n",
       "      <td>8.145550</td>\n",
       "      <td>37.278793</td>\n",
       "      <td>51.900203</td>\n",
       "      <td>63.881636</td>\n",
       "      <td>78.909196</td>\n",
       "    </tr>\n",
       "    <tr>\n",
       "      <th>TTTCTACTTCCTCG-1</th>\n",
       "      <td>622</td>\n",
       "      <td>6.434547</td>\n",
       "      <td>1684.0</td>\n",
       "      <td>7.429521</td>\n",
       "      <td>45.783848</td>\n",
       "      <td>61.638955</td>\n",
       "      <td>74.940618</td>\n",
       "      <td>92.755344</td>\n",
       "    </tr>\n",
       "    <tr>\n",
       "      <th>TTTGCATGAGAGGC-1</th>\n",
       "      <td>454</td>\n",
       "      <td>6.120297</td>\n",
       "      <td>1024.0</td>\n",
       "      <td>6.932448</td>\n",
       "      <td>48.046875</td>\n",
       "      <td>62.402344</td>\n",
       "      <td>75.195312</td>\n",
       "      <td>100.000000</td>\n",
       "    </tr>\n",
       "    <tr>\n",
       "      <th>TTTGCATGCCTCAC-1</th>\n",
       "      <td>724</td>\n",
       "      <td>6.586172</td>\n",
       "      <td>1985.0</td>\n",
       "      <td>7.593878</td>\n",
       "      <td>46.549118</td>\n",
       "      <td>61.964736</td>\n",
       "      <td>73.602015</td>\n",
       "      <td>88.715365</td>\n",
       "    </tr>\n",
       "  </tbody>\n",
       "</table>\n",
       "<p>2700 rows × 8 columns</p>\n",
       "</div>"
      ],
      "text/plain": [
       "                  n_genes_by_counts  log1p_n_genes_by_counts  total_counts  \\\n",
       "index                                                                        \n",
       "AAACATACAACCAC-1                781                 6.661855        2421.0   \n",
       "AAACATTGAGCTAC-1               1352                 7.210080        4903.0   \n",
       "AAACATTGATCAGC-1               1131                 7.031741        3149.0   \n",
       "AAACCGTGCTTCCG-1                960                 6.867974        2639.0   \n",
       "AAACCGTGTATGCG-1                522                 6.259581         981.0   \n",
       "...                             ...                      ...           ...   \n",
       "TTTCGAACTCTCAT-1               1155                 7.052721        3461.0   \n",
       "TTTCTACTGAGGCA-1               1227                 7.113142        3447.0   \n",
       "TTTCTACTTCCTCG-1                622                 6.434547        1684.0   \n",
       "TTTGCATGAGAGGC-1                454                 6.120297        1024.0   \n",
       "TTTGCATGCCTCAC-1                724                 6.586172        1985.0   \n",
       "\n",
       "                  log1p_total_counts  pct_counts_in_top_50_genes  \\\n",
       "index                                                              \n",
       "AAACATACAACCAC-1            7.792349                   47.748864   \n",
       "AAACATTGAGCTAC-1            8.497807                   45.502753   \n",
       "AAACATTGATCAGC-1            8.055158                   41.314703   \n",
       "AAACCGTGCTTCCG-1            7.878534                   39.029936   \n",
       "AAACCGTGTATGCG-1            6.889591                   44.852192   \n",
       "...                              ...                         ...   \n",
       "TTTCGAACTCTCAT-1            8.149602                   39.237215   \n",
       "TTTCTACTGAGGCA-1            8.145550                   37.278793   \n",
       "TTTCTACTTCCTCG-1            7.429521                   45.783848   \n",
       "TTTGCATGAGAGGC-1            6.932448                   48.046875   \n",
       "TTTGCATGCCTCAC-1            7.593878                   46.549118   \n",
       "\n",
       "                  pct_counts_in_top_100_genes  pct_counts_in_top_200_genes  \\\n",
       "index                                                                        \n",
       "AAACATACAACCAC-1                    63.279637                    74.969021   \n",
       "AAACATTGAGCTAC-1                    61.023863                    71.813176   \n",
       "AAACATTGATCAGC-1                    53.794856                    65.449349   \n",
       "AAACCGTGCTTCCG-1                    52.898825                    66.691929   \n",
       "AAACCGTGTATGCG-1                    55.657492                    67.176351   \n",
       "...                                       ...                          ...   \n",
       "TTTCGAACTCTCAT-1                    52.528171                    65.761341   \n",
       "TTTCTACTGAGGCA-1                    51.900203                    63.881636   \n",
       "TTTCTACTTCCTCG-1                    61.638955                    74.940618   \n",
       "TTTGCATGAGAGGC-1                    62.402344                    75.195312   \n",
       "TTTGCATGCCTCAC-1                    61.964736                    73.602015   \n",
       "\n",
       "                  pct_counts_in_top_500_genes  \n",
       "index                                          \n",
       "AAACATACAACCAC-1                    88.393226  \n",
       "AAACATTGAGCTAC-1                    82.622884  \n",
       "AAACATTGATCAGC-1                    79.961893  \n",
       "AAACCGTGCTTCCG-1                    82.569155  \n",
       "AAACCGTGTATGCG-1                    97.757390  \n",
       "...                                       ...  \n",
       "TTTCGAACTCTCAT-1                    81.074834  \n",
       "TTTCTACTGAGGCA-1                    78.909196  \n",
       "TTTCTACTTCCTCG-1                    92.755344  \n",
       "TTTGCATGAGAGGC-1                   100.000000  \n",
       "TTTGCATGCCTCAC-1                    88.715365  \n",
       "\n",
       "[2700 rows x 8 columns]"
      ]
     },
     "execution_count": 17,
     "metadata": {},
     "output_type": "execute_result"
    }
   ],
   "source": [
    "adata.obs"
   ]
  },
  {
   "cell_type": "code",
   "execution_count": 14,
   "id": "6767860e-0996-4085-b66c-2c58191354d0",
   "metadata": {},
   "outputs": [
    {
     "data": {
      "text/plain": [
       "AnnData object with n_obs × n_vars = 2700 × 32738\n",
       "    obs: 'n_genes_by_counts', 'log1p_n_genes_by_counts', 'total_counts', 'log1p_total_counts', 'pct_counts_in_top_50_genes', 'pct_counts_in_top_100_genes', 'pct_counts_in_top_200_genes', 'pct_counts_in_top_500_genes'\n",
       "    var: 'gene_ids', 'n_cells_by_counts', 'mean_counts', 'log1p_mean_counts', 'pct_dropout_by_counts', 'total_counts', 'log1p_total_counts'\n",
       "    uns: 'pca', 'neighbors'\n",
       "    obsm: 'X_pca'\n",
       "    varm: 'PCs'\n",
       "    obsp: 'distances', 'connectivities'"
      ]
     },
     "execution_count": 14,
     "metadata": {},
     "output_type": "execute_result"
    }
   ],
   "source": [
    "adata"
   ]
  },
  {
   "cell_type": "code",
   "execution_count": 12,
   "id": "eadba5b1-92ec-406a-ba64-3adcb4d00d7a",
   "metadata": {},
   "outputs": [
    {
     "name": "stderr",
     "output_type": "stream",
     "text": [
      "/home/jpic/.local/lib/python3.11/site-packages/anndata/_core/anndata.py:1756: UserWarning: Observation names are not unique. To make them unique, call `.obs_names_make_unique`.\n",
      "  utils.warn_names_duplicates(\"obs\")\n"
     ]
    },
    {
     "data": {
      "text/plain": [
       "AnnData object with n_obs × n_vars = 25855 × 36601\n",
       "    obs: 'sample'"
      ]
     },
     "execution_count": 12,
     "metadata": {},
     "output_type": "execute_result"
    }
   ],
   "source": [
    "DATAPATH = \"/nfs/turbo/umms-indikar/Joshua/differentialExpression/GSE243716/\"\n",
    "data_file = os.path.join(DATAPATH, \"keloids.h5ad\")\n",
    "adata = sc.read(data_file)\n",
    "adata"
   ]
  },
  {
   "cell_type": "code",
   "execution_count": 4,
   "id": "4f98383b-0a65-47cc-aad0-24bb5277a03e",
   "metadata": {},
   "outputs": [],
   "source": [
    "import scanpy as sc\n",
    "import matplotlib.pyplot as plt\n",
    "\n",
    "def run_basic_qc(adata):\n",
    "    sc.pp.calculate_qc_metrics(adata, inplace=True)\n",
    "    return \"Basic QC metrics computed.\"\n",
    "\n",
    "def find_differentially_expressed_genes(adata, groupby_key='cell_type'):\n",
    "    sc.tl.rank_genes_groups(adata, groupby=groupby_key, method='t-test')\n",
    "    return \"DGE computed using t-test.\"\n",
    "\n",
    "def plot_marker_expression(adata, n_genes=5, groupby_key='cell_type'):\n",
    "    top_genes = adata.uns['rank_genes_groups']['names'][groupby_key][:n_genes]\n",
    "    sc.pl.violin(adata, keys=top_genes, groupby=groupby_key, show=False)\n",
    "    plt.savefig(\"marker_expression.png\")\n",
    "    return \"Marker expression plot saved.\"\n"
   ]
  },
  {
   "cell_type": "code",
   "execution_count": 7,
   "id": "fa8f51da-28b4-477d-bc2c-b16c843ad2da",
   "metadata": {},
   "outputs": [
    {
     "name": "stderr",
     "output_type": "stream",
     "text": [
      "/home/jpic/.local/lib/python3.11/site-packages/anndata/_core/anndata.py:1756: UserWarning: Observation names are not unique. To make them unique, call `.obs_names_make_unique`.\n",
      "  utils.warn_names_duplicates(\"obs\")\n",
      "/tmp/ipykernel_430551/4216333534.py:21: LangChainDeprecationWarning: The class `ChatOpenAI` was deprecated in LangChain 0.0.10 and will be removed in 1.0. An updated version of the class exists in the :class:`~langchain-openai package and should be used instead. To use it run `pip install -U :class:`~langchain-openai` and import as `from :class:`~langchain_openai import ChatOpenAI``.\n",
      "  llm = ChatOpenAI(temperature=0, model=\"gpt-4\")\n"
     ]
    }
   ],
   "source": [
    "import os\n",
    "from langchain.chat_models import ChatOpenAI\n",
    "from langchain.agents import Tool\n",
    "from langgraph.graph import StateGraph, END\n",
    "# from tools import run_basic_qc, find_differentially_expressed_genes, plot_marker_expression\n",
    "import scanpy as sc\n",
    "\n",
    "# Load AnnData\n",
    "DATAPATH = \"/nfs/turbo/umms-indikar/Joshua/differentialExpression/GSE243716/\"\n",
    "data_file = os.path.join(DATAPATH, \"keloids.h5ad\")\n",
    "adata = sc.read(data_file)\n",
    "\n",
    "# Wrap tools\n",
    "tool_list = [\n",
    "    Tool(name=\"run_basic_qc\", func=lambda x: run_basic_qc(adata), description=\"Basic QC\"),\n",
    "    Tool(name=\"find_differentially_expressed_genes\", func=lambda x: find_differentially_expressed_genes(adata), description=\"Find DGEs grouped by cell type\"),\n",
    "    Tool(name=\"plot_marker_expression\", func=lambda x: plot_marker_expression(adata), description=\"Plot top marker gene expression\")\n",
    "]\n",
    "\n",
    "# LLM\n",
    "llm = ChatOpenAI(temperature=0, model=\"gpt-4\")\n",
    "\n",
    "# Agent Node\n",
    "def agent_node(state):\n",
    "    history = state.get(\"messages\", [])\n",
    "    task = history[-1]['content']\n",
    "\n",
    "    # You can change this to use langchain.agents.initialize_agent() if you want\n",
    "    from langchain.agents import initialize_agent\n",
    "    agent = initialize_agent(tool_list, llm, agent_type=\"zero-shot-react-description\", verbose=True)\n",
    "    \n",
    "    result = agent.run(task)\n",
    "    return {\"messages\": history + [{\"role\": \"agent\", \"content\": result}]}\n",
    "\n",
    "# Graph\n",
    "def build_graph():\n",
    "    builder = StateGraph()\n",
    "    builder.add_node(\"Agent\", agent_node)\n",
    "    builder.set_entry_point(\"Agent\")\n",
    "    builder.set_finish_point(\"Agent\", END)\n",
    "    return builder.compile()\n"
   ]
  },
  {
   "cell_type": "code",
   "execution_count": 8,
   "id": "4c5d0037-6daf-4497-bb94-5df260cf2246",
   "metadata": {},
   "outputs": [
    {
     "ename": "TypeError",
     "evalue": "StateGraph.__init__() missing 1 required positional argument: 'state_schema'",
     "output_type": "error",
     "traceback": [
      "\u001b[0;31m---------------------------------------------------------------------------\u001b[0m",
      "\u001b[0;31mTypeError\u001b[0m                                 Traceback (most recent call last)",
      "Cell \u001b[0;32mIn[8], line 1\u001b[0m\n\u001b[0;32m----> 1\u001b[0m graph \u001b[38;5;241m=\u001b[39m \u001b[43mbuild_graph\u001b[49m\u001b[43m(\u001b[49m\u001b[43m)\u001b[49m\n\u001b[1;32m      3\u001b[0m query \u001b[38;5;241m=\u001b[39m \u001b[38;5;124m\"\u001b[39m\u001b[38;5;124mIdentify biomarkers and DGEs in these data about Keloids\u001b[39m\u001b[38;5;124m\"\u001b[39m\n\u001b[1;32m      4\u001b[0m state \u001b[38;5;241m=\u001b[39m {\u001b[38;5;124m\"\u001b[39m\u001b[38;5;124mmessages\u001b[39m\u001b[38;5;124m\"\u001b[39m: [{\u001b[38;5;124m\"\u001b[39m\u001b[38;5;124mrole\u001b[39m\u001b[38;5;124m\"\u001b[39m: \u001b[38;5;124m\"\u001b[39m\u001b[38;5;124muser\u001b[39m\u001b[38;5;124m\"\u001b[39m, \u001b[38;5;124m\"\u001b[39m\u001b[38;5;124mcontent\u001b[39m\u001b[38;5;124m\"\u001b[39m: query}]}\n",
      "Cell \u001b[0;32mIn[7], line 37\u001b[0m, in \u001b[0;36mbuild_graph\u001b[0;34m()\u001b[0m\n\u001b[1;32m     36\u001b[0m \u001b[38;5;28;01mdef\u001b[39;00m \u001b[38;5;21mbuild_graph\u001b[39m():\n\u001b[0;32m---> 37\u001b[0m     builder \u001b[38;5;241m=\u001b[39m \u001b[43mStateGraph\u001b[49m\u001b[43m(\u001b[49m\u001b[43m)\u001b[49m\n\u001b[1;32m     38\u001b[0m     builder\u001b[38;5;241m.\u001b[39madd_node(\u001b[38;5;124m\"\u001b[39m\u001b[38;5;124mAgent\u001b[39m\u001b[38;5;124m\"\u001b[39m, agent_node)\n\u001b[1;32m     39\u001b[0m     builder\u001b[38;5;241m.\u001b[39mset_entry_point(\u001b[38;5;124m\"\u001b[39m\u001b[38;5;124mAgent\u001b[39m\u001b[38;5;124m\"\u001b[39m)\n",
      "\u001b[0;31mTypeError\u001b[0m: StateGraph.__init__() missing 1 required positional argument: 'state_schema'"
     ]
    }
   ],
   "source": [
    "graph = build_graph()\n",
    "\n",
    "query = \"Identify biomarkers and DGEs in these data about Keloids\"\n",
    "state = {\"messages\": [{\"role\": \"user\", \"content\": query}]}\n",
    "\n",
    "final_state = graph.invoke(state)\n",
    "print(\"\\n=== Final Result ===\")\n",
    "print(final_state[\"messages\"][-1][\"content\"])\n"
   ]
  },
  {
   "cell_type": "code",
   "execution_count": 1,
   "id": "c39c7fa8-0668-4ca9-b5d1-c28cf2da771a",
   "metadata": {},
   "outputs": [],
   "source": [
    "import langgraph"
   ]
  },
  {
   "cell_type": "code",
   "execution_count": 3,
   "id": "b5331dc7-3e24-45aa-96ce-fe0da82dfe22",
   "metadata": {},
   "outputs": [
    {
     "ename": "AttributeError",
     "evalue": "'str' object has no attribute 'bind_tools'",
     "output_type": "error",
     "traceback": [
      "\u001b[0;31m---------------------------------------------------------------------------\u001b[0m",
      "\u001b[0;31mAttributeError\u001b[0m                            Traceback (most recent call last)",
      "Cell \u001b[0;32mIn[3], line 9\u001b[0m\n\u001b[1;32m      6\u001b[0m         \u001b[38;5;28;01mreturn\u001b[39;00m \u001b[38;5;124m\"\u001b[39m\u001b[38;5;124mIt\u001b[39m\u001b[38;5;124m'\u001b[39m\u001b[38;5;124ms 60 degrees and foggy.\u001b[39m\u001b[38;5;124m\"\u001b[39m\n\u001b[1;32m      7\u001b[0m     \u001b[38;5;28;01mreturn\u001b[39;00m \u001b[38;5;124m\"\u001b[39m\u001b[38;5;124mIt\u001b[39m\u001b[38;5;124m'\u001b[39m\u001b[38;5;124ms 90 degrees and sunny.\u001b[39m\u001b[38;5;124m\"\u001b[39m\n\u001b[0;32m----> 9\u001b[0m agent \u001b[38;5;241m=\u001b[39m \u001b[43mcreate_react_agent\u001b[49m\u001b[43m(\u001b[49m\u001b[38;5;124;43m\"\u001b[39;49m\u001b[38;5;124;43manthropic:claude-3-7-sonnet-latest\u001b[39;49m\u001b[38;5;124;43m\"\u001b[39;49m\u001b[43m,\u001b[49m\u001b[43m \u001b[49m\u001b[43mtools\u001b[49m\u001b[38;5;241;43m=\u001b[39;49m\u001b[43m[\u001b[49m\u001b[43msearch\u001b[49m\u001b[43m]\u001b[49m\u001b[43m)\u001b[49m\n\u001b[1;32m     10\u001b[0m agent\u001b[38;5;241m.\u001b[39minvoke(\n\u001b[1;32m     11\u001b[0m     {\u001b[38;5;124m\"\u001b[39m\u001b[38;5;124mmessages\u001b[39m\u001b[38;5;124m\"\u001b[39m: [{\u001b[38;5;124m\"\u001b[39m\u001b[38;5;124mrole\u001b[39m\u001b[38;5;124m\"\u001b[39m: \u001b[38;5;124m\"\u001b[39m\u001b[38;5;124muser\u001b[39m\u001b[38;5;124m\"\u001b[39m, \u001b[38;5;124m\"\u001b[39m\u001b[38;5;124mcontent\u001b[39m\u001b[38;5;124m\"\u001b[39m: \u001b[38;5;124m\"\u001b[39m\u001b[38;5;124mwhat is the weather in sf\u001b[39m\u001b[38;5;124m\"\u001b[39m}]}\n\u001b[1;32m     12\u001b[0m )\n",
      "File \u001b[0;32m~/.local/lib/python3.11/site-packages/langgraph/prebuilt/chat_agent_executor.py:368\u001b[0m, in \u001b[0;36mcreate_react_agent\u001b[0;34m(model, tools, messages_modifier, checkpointer, interrupt_before, interrupt_after, debug)\u001b[0m\n\u001b[1;32m    366\u001b[0m \u001b[38;5;28;01melse\u001b[39;00m:\n\u001b[1;32m    367\u001b[0m     tool_classes \u001b[38;5;241m=\u001b[39m tools\n\u001b[0;32m--> 368\u001b[0m model \u001b[38;5;241m=\u001b[39m \u001b[43mmodel\u001b[49m\u001b[38;5;241;43m.\u001b[39;49m\u001b[43mbind_tools\u001b[49m(tool_classes)\n\u001b[1;32m    370\u001b[0m \u001b[38;5;66;03m# Define the function that determines whether to continue or not\u001b[39;00m\n\u001b[1;32m    371\u001b[0m \u001b[38;5;28;01mdef\u001b[39;00m \u001b[38;5;21mshould_continue\u001b[39m(state: AgentState):\n",
      "\u001b[0;31mAttributeError\u001b[0m: 'str' object has no attribute 'bind_tools'"
     ]
    }
   ],
   "source": [
    "from langgraph.prebuilt import create_react_agent\n",
    "\n",
    "def search(query: str):\n",
    "    \"\"\"Call to surf the web.\"\"\"\n",
    "    if \"sf\" in query.lower() or \"san francisco\" in query.lower():\n",
    "        return \"It's 60 degrees and foggy.\"\n",
    "    return \"It's 90 degrees and sunny.\"\n",
    "\n",
    "agent = create_react_agent(\"anthropic:claude-3-7-sonnet-latest\", tools=[search])\n",
    "agent.invoke(\n",
    "    {\"messages\": [{\"role\": \"user\", \"content\": \"what is the weather in sf\"}]}\n",
    ")\n"
   ]
  },
  {
   "cell_type": "markdown",
   "id": "5bee61d8-2c12-4b44-8bfe-277b23f6bcb2",
   "metadata": {},
   "source": [
    "# Single Cell Analysis"
   ]
  },
  {
   "cell_type": "code",
   "execution_count": null,
   "id": "6c6544d5-1f20-4f79-8778-21289f174674",
   "metadata": {},
   "outputs": [],
   "source": []
  }
 ],
 "metadata": {
  "kernelspec": {
   "display_name": "Python 3 (ipykernel)",
   "language": "python",
   "name": "python3"
  },
  "language_info": {
   "codemirror_mode": {
    "name": "ipython",
    "version": 3
   },
   "file_extension": ".py",
   "mimetype": "text/x-python",
   "name": "python",
   "nbconvert_exporter": "python",
   "pygments_lexer": "ipython3",
   "version": "3.11.7"
  }
 },
 "nbformat": 4,
 "nbformat_minor": 5
}
