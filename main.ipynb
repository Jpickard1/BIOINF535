{
 "cells": [
  {
   "cell_type": "markdown",
   "id": "84efa989-88ef-4183-a613-502947c02de4",
   "metadata": {},
   "source": [
    "# Agent for Single Cell RNAseq Analysis"
   ]
  },
  {
   "cell_type": "markdown",
   "id": "26b43635-b9ea-41ba-b5e6-f794fdfeeb99",
   "metadata": {},
   "source": [
    "# User Inputs"
   ]
  },
  {
   "cell_type": "code",
   "execution_count": 2,
   "id": "47606d3b-2f79-40e5-ae25-7a04bab8d49e",
   "metadata": {},
   "outputs": [],
   "source": [
    "user_query = \"\"\"Analyze this single cell RNA-seq data about Keloids. Identify\n",
    "biomarkers from this dataset and discuss the relationship of these data to the\n",
    "african american community.\"\"\"\n",
    "scrna_data_path = \".../data.h5ad\""
   ]
  },
  {
   "cell_type": "markdown",
   "id": "4779222b-1df3-4e3d-8678-3f31cb6abfbf",
   "metadata": {},
   "source": [
    "# Download Papers"
   ]
  },
  {
   "cell_type": "markdown",
   "id": "5c6cf9b9-4d53-4349-b4bb-25218133538d",
   "metadata": {},
   "source": [
    "## Functions"
   ]
  },
  {
   "cell_type": "code",
   "execution_count": 3,
   "id": "5b4306e2-ae20-4e79-8790-9f1531f917d9",
   "metadata": {},
   "outputs": [],
   "source": [
    "\"\"\"\n",
    "Generate search keywords from a user query using LangChain and OpenAI.\n",
    "\"\"\"\n",
    "\n",
    "from langchain.chat_models import ChatOpenAI\n",
    "from langchain.schema import SystemMessage, HumanMessage\n",
    "import os\n",
    "\n",
    "def get_keywords_from_query(user_query: str, model_name=\"gpt-3.5-turbo\", num_keywords=5) -> list:\n",
    "    llm = ChatOpenAI(model=model_name, temperature=0.5)\n",
    "\n",
    "    system_prompt = (\n",
    "        \"You are an assistant that converts user research questions into a short list of high-quality \"\n",
    "        \"keywords for academic search (e.g., Semantic Scholar).\"\n",
    "    )\n",
    "    user_prompt = (\n",
    "        f\"User query: {user_query}\\n\\n\"\n",
    "        f\"Provide {num_keywords} short, relevant keywords or phrases separated by commas.\"\n",
    "    )\n",
    "\n",
    "    messages = [\n",
    "        SystemMessage(content=system_prompt),\n",
    "        HumanMessage(content=user_prompt)\n",
    "    ]\n",
    "\n",
    "    response = llm(messages)\n",
    "    keyword_string = response.content.strip()\n",
    "\n",
    "    # Split and clean keywords\n",
    "    keywords = [kw.strip() for kw in keyword_string.split(\",\")]\n",
    "    return keywords\n"
   ]
  },
  {
   "cell_type": "code",
   "execution_count": 4,
   "id": "113f1554-ece3-44f7-9428-8d709fdbb10d",
   "metadata": {},
   "outputs": [],
   "source": [
    "\"\"\"\n",
    "Search and download papers from Semantic Scholar.\n",
    "\n",
    "Usage:\n",
    "    python semantic_scholar_search.py \"deep learning biology\" 5 ./output/\n",
    "\"\"\"\n",
    "\n",
    "import requests\n",
    "import os\n",
    "import sys\n",
    "import json\n",
    "from tqdm import tqdm\n",
    "\n",
    "BASE_URL = \"https://api.semanticscholar.org/graph/v1/paper/search\"\n",
    "\n",
    "def search_semantic_scholar(query, limit=10):\n",
    "    params = {\n",
    "        \"query\": query,\n",
    "        \"limit\": limit,\n",
    "        \"fields\": \"title,authors,abstract,url,year,externalIds,isOpenAccess,openAccessPdf\"\n",
    "    }\n",
    "    response = requests.get(BASE_URL, params=params)\n",
    "    response.raise_for_status()\n",
    "    return response.json()[\"data\"]\n",
    "\n",
    "def save_metadata(papers, outdir):\n",
    "    metadata_path = os.path.join(outdir, \"papers_metadata.json\")\n",
    "    with open(metadata_path, \"w\") as f:\n",
    "        json.dump(papers, f, indent=2)\n",
    "    print(f\"[+] Saved metadata to {metadata_path}\")\n",
    "\n",
    "def download_pdfs(papers, outdir):\n",
    "    for i, paper in tqdm(enumerate(papers), desc=\"Downloading Papers\"):\n",
    "        pdf_url = paper.get(\"openAccessPdf\", {}).get(\"url\")\n",
    "        if pdf_url:\n",
    "            try:\n",
    "                response = requests.get(pdf_url)\n",
    "                response.raise_for_status()\n",
    "                title = papers[0]['title'].replace(' ', '_').replace('.','_').replace('-','_').replace(',','_').replace(':','_')\n",
    "                filename = f\"{title}.pdf\"\n",
    "                filepath = os.path.join(outdir, filename)\n",
    "                with open(filepath, \"wb\") as f:\n",
    "                    f.write(response.content)\n",
    "                print(f\"[+] Downloaded: {filename}\")\n",
    "            except Exception as e:\n",
    "                print(f\"[!] Failed to download paper {i+1}: {e}\")\n",
    "        else:\n",
    "            print(f\"[!] No open access PDF for paper {i+1}\")\n"
   ]
  },
  {
   "cell_type": "markdown",
   "id": "fb70dcfd-b7ec-4469-930e-193de3c83b1c",
   "metadata": {},
   "source": [
    "## Constants"
   ]
  },
  {
   "cell_type": "code",
   "execution_count": 9,
   "id": "d98c9c6c-7625-4b3c-bb9e-0b51d57496f8",
   "metadata": {},
   "outputs": [],
   "source": [
    "output_dir = \"downloads\" # Loacation where papers will be downloaded to\n",
    "num_papers = 25          # Number of papers per downlowd"
   ]
  },
  {
   "cell_type": "markdown",
   "id": "b633e8d2-15fa-432c-b4ce-984dd4eff49c",
   "metadata": {},
   "source": [
    "## Script"
   ]
  },
  {
   "cell_type": "code",
   "execution_count": 10,
   "id": "c623ae05-749d-48ad-b183-14ed5a824447",
   "metadata": {},
   "outputs": [
    {
     "data": {
      "text/plain": [
       "['Single cell RNA-seq',\n",
       " 'Keloids',\n",
       " 'Biomarkers',\n",
       " 'African American community',\n",
       " 'Relationship']"
      ]
     },
     "execution_count": 10,
     "metadata": {},
     "output_type": "execute_result"
    }
   ],
   "source": [
    "keywords"
   ]
  },
  {
   "cell_type": "code",
   "execution_count": null,
   "id": "207189c3-3be1-4596-8745-d43aa52784b1",
   "metadata": {},
   "outputs": [
    {
     "name": "stderr",
     "output_type": "stream",
     "text": [
      "Keywords:   0%|          | 0/5 [00:00<?, ?it/s]"
     ]
    },
    {
     "name": "stdout",
     "output_type": "stream",
     "text": [
      "[+] Saved metadata to downloads/papers_metadata.json\n"
     ]
    },
    {
     "name": "stderr",
     "output_type": "stream",
     "text": [
      "\n",
      "Downloading Papers: 0it [00:00, ?it/s]\u001b[A\n",
      "Downloading Papers: 1it [00:29, 29.95s/it]\u001b[A"
     ]
    },
    {
     "name": "stdout",
     "output_type": "stream",
     "text": [
      "[+] Downloaded: Normalization_and_variance_stabilization_of_single_cell_RNA_seq_data_using_regularized_negative_binomial_regression.pdf\n"
     ]
    },
    {
     "name": "stderr",
     "output_type": "stream",
     "text": [
      "\n",
      "Downloading Papers: 2it [00:31, 13.17s/it]\u001b[A"
     ]
    },
    {
     "name": "stdout",
     "output_type": "stream",
     "text": [
      "[+] Downloaded: Normalization_and_variance_stabilization_of_single_cell_RNA_seq_data_using_regularized_negative_binomial_regression.pdf\n"
     ]
    },
    {
     "name": "stderr",
     "output_type": "stream",
     "text": [
      "\n",
      "Downloading Papers: 3it [00:36,  9.72s/it]\u001b[A"
     ]
    },
    {
     "name": "stdout",
     "output_type": "stream",
     "text": [
      "[+] Downloaded: Normalization_and_variance_stabilization_of_single_cell_RNA_seq_data_using_regularized_negative_binomial_regression.pdf\n"
     ]
    },
    {
     "name": "stderr",
     "output_type": "stream",
     "text": [
      "\n",
      "Downloading Papers: 4it [00:38,  6.52s/it]\u001b[A"
     ]
    },
    {
     "name": "stdout",
     "output_type": "stream",
     "text": [
      "[+] Downloaded: Normalization_and_variance_stabilization_of_single_cell_RNA_seq_data_using_regularized_negative_binomial_regression.pdf\n"
     ]
    },
    {
     "name": "stderr",
     "output_type": "stream",
     "text": [
      "\n",
      "Downloading Papers: 5it [00:40,  4.77s/it]\u001b[A"
     ]
    },
    {
     "name": "stdout",
     "output_type": "stream",
     "text": [
      "[+] Downloaded: Normalization_and_variance_stabilization_of_single_cell_RNA_seq_data_using_regularized_negative_binomial_regression.pdf\n"
     ]
    },
    {
     "name": "stderr",
     "output_type": "stream",
     "text": [
      "\n",
      "Downloading Papers: 6it [00:56,  8.70s/it]\u001b[A"
     ]
    },
    {
     "name": "stdout",
     "output_type": "stream",
     "text": [
      "[+] Downloaded: Normalization_and_variance_stabilization_of_single_cell_RNA_seq_data_using_regularized_negative_binomial_regression.pdf\n"
     ]
    },
    {
     "name": "stderr",
     "output_type": "stream",
     "text": [
      "\n",
      "Downloading Papers: 7it [00:58,  6.49s/it]\u001b[A"
     ]
    },
    {
     "name": "stdout",
     "output_type": "stream",
     "text": [
      "[+] Downloaded: Normalization_and_variance_stabilization_of_single_cell_RNA_seq_data_using_regularized_negative_binomial_regression.pdf\n"
     ]
    },
    {
     "name": "stderr",
     "output_type": "stream",
     "text": [
      "\n",
      "Downloading Papers: 8it [00:58,  4.50s/it]\u001b[A"
     ]
    },
    {
     "name": "stdout",
     "output_type": "stream",
     "text": [
      "[+] Downloaded: Normalization_and_variance_stabilization_of_single_cell_RNA_seq_data_using_regularized_negative_binomial_regression.pdf\n"
     ]
    },
    {
     "name": "stderr",
     "output_type": "stream",
     "text": [
      "\n",
      "Downloading Papers: 9it [01:00,  3.58s/it]\u001b[A"
     ]
    },
    {
     "name": "stdout",
     "output_type": "stream",
     "text": [
      "[+] Downloaded: Normalization_and_variance_stabilization_of_single_cell_RNA_seq_data_using_regularized_negative_binomial_regression.pdf\n",
      "[!] No open access PDF for paper 10\n"
     ]
    },
    {
     "name": "stderr",
     "output_type": "stream",
     "text": [
      "\n",
      "Downloading Papers: 11it [01:01,  2.21s/it]\u001b[A"
     ]
    },
    {
     "name": "stdout",
     "output_type": "stream",
     "text": [
      "[+] Downloaded: Normalization_and_variance_stabilization_of_single_cell_RNA_seq_data_using_regularized_negative_binomial_regression.pdf\n"
     ]
    },
    {
     "name": "stderr",
     "output_type": "stream",
     "text": [
      "\n",
      "Downloading Papers: 12it [01:03,  2.15s/it]\u001b[A"
     ]
    },
    {
     "name": "stdout",
     "output_type": "stream",
     "text": [
      "[+] Downloaded: Normalization_and_variance_stabilization_of_single_cell_RNA_seq_data_using_regularized_negative_binomial_regression.pdf\n"
     ]
    },
    {
     "name": "stderr",
     "output_type": "stream",
     "text": [
      "\n",
      "Downloading Papers: 13it [01:05,  2.14s/it]\u001b[A"
     ]
    },
    {
     "name": "stdout",
     "output_type": "stream",
     "text": [
      "[+] Downloaded: Normalization_and_variance_stabilization_of_single_cell_RNA_seq_data_using_regularized_negative_binomial_regression.pdf\n"
     ]
    },
    {
     "name": "stderr",
     "output_type": "stream",
     "text": [
      "\n",
      "Downloading Papers: 14it [01:15,  4.24s/it]\u001b[A"
     ]
    },
    {
     "name": "stdout",
     "output_type": "stream",
     "text": [
      "[+] Downloaded: Normalization_and_variance_stabilization_of_single_cell_RNA_seq_data_using_regularized_negative_binomial_regression.pdf\n"
     ]
    },
    {
     "name": "stderr",
     "output_type": "stream",
     "text": [
      "\n",
      "Downloading Papers: 15it [01:27,  6.44s/it]\u001b[A"
     ]
    },
    {
     "name": "stdout",
     "output_type": "stream",
     "text": [
      "[+] Downloaded: Normalization_and_variance_stabilization_of_single_cell_RNA_seq_data_using_regularized_negative_binomial_regression.pdf\n"
     ]
    },
    {
     "name": "stderr",
     "output_type": "stream",
     "text": [
      "\n",
      "Downloading Papers: 16it [01:53, 11.93s/it]\u001b[A"
     ]
    },
    {
     "name": "stdout",
     "output_type": "stream",
     "text": [
      "[+] Downloaded: Normalization_and_variance_stabilization_of_single_cell_RNA_seq_data_using_regularized_negative_binomial_regression.pdf\n"
     ]
    },
    {
     "name": "stderr",
     "output_type": "stream",
     "text": [
      "\n",
      "Downloading Papers: 17it [01:56,  9.36s/it]\u001b[A"
     ]
    },
    {
     "name": "stdout",
     "output_type": "stream",
     "text": [
      "[+] Downloaded: Normalization_and_variance_stabilization_of_single_cell_RNA_seq_data_using_regularized_negative_binomial_regression.pdf\n",
      "[!] No open access PDF for paper 18\n"
     ]
    },
    {
     "name": "stderr",
     "output_type": "stream",
     "text": [
      "\n",
      "Downloading Papers: 19it [01:59,  5.89s/it]\u001b[A"
     ]
    },
    {
     "name": "stdout",
     "output_type": "stream",
     "text": [
      "[+] Downloaded: Normalization_and_variance_stabilization_of_single_cell_RNA_seq_data_using_regularized_negative_binomial_regression.pdf\n"
     ]
    },
    {
     "name": "stderr",
     "output_type": "stream",
     "text": [
      "\n",
      "Downloading Papers: 20it [02:05,  5.97s/it]\u001b[A"
     ]
    },
    {
     "name": "stdout",
     "output_type": "stream",
     "text": [
      "[+] Downloaded: Normalization_and_variance_stabilization_of_single_cell_RNA_seq_data_using_regularized_negative_binomial_regression.pdf\n",
      "[!] No open access PDF for paper 21\n",
      "[!] No open access PDF for paper 22\n"
     ]
    },
    {
     "name": "stderr",
     "output_type": "stream",
     "text": [
      "\n",
      "Downloading Papers: 23it [02:17,  4.91s/it]\u001b[A"
     ]
    },
    {
     "name": "stdout",
     "output_type": "stream",
     "text": [
      "[+] Downloaded: Normalization_and_variance_stabilization_of_single_cell_RNA_seq_data_using_regularized_negative_binomial_regression.pdf\n"
     ]
    },
    {
     "name": "stderr",
     "output_type": "stream",
     "text": [
      "\n",
      "Downloading Papers: 24it [02:21,  4.77s/it]\u001b[A"
     ]
    },
    {
     "name": "stdout",
     "output_type": "stream",
     "text": [
      "[+] Downloaded: Normalization_and_variance_stabilization_of_single_cell_RNA_seq_data_using_regularized_negative_binomial_regression.pdf\n"
     ]
    },
    {
     "name": "stderr",
     "output_type": "stream",
     "text": [
      "\n",
      "Downloading Papers: 25it [02:22,  5.69s/it]\u001b[A\n",
      "Keywords:  20%|██        | 1/5 [02:23<09:34, 143.55s/it]"
     ]
    },
    {
     "name": "stdout",
     "output_type": "stream",
     "text": [
      "[!] Failed to download paper 25: 403 Client Error: Forbidden for url: https://pmc.ncbi.nlm.nih.gov/articles/PMC5465819\n",
      "[+] Saved metadata to downloads/papers_metadata.json\n"
     ]
    },
    {
     "name": "stderr",
     "output_type": "stream",
     "text": [
      "\n",
      "Downloading Papers: 0it [00:00, ?it/s]\u001b[A\n",
      "Downloading Papers: 2it [00:00, 10.72it/s]\u001b[A"
     ]
    },
    {
     "name": "stdout",
     "output_type": "stream",
     "text": [
      "[!] No open access PDF for paper 1\n",
      "[!] Failed to download paper 2: 403 Client Error: Forbidden for url: https://journals.lww.com/10.1097/PRS.0000000000008667\n",
      "[!] No open access PDF for paper 3\n"
     ]
    },
    {
     "name": "stderr",
     "output_type": "stream",
     "text": [
      "\n",
      "Downloading Papers: 4it [00:00,  8.37it/s]\u001b[A"
     ]
    },
    {
     "name": "stdout",
     "output_type": "stream",
     "text": [
      "[!] Failed to download paper 4: 403 Client Error: Forbidden for url: https://pmc.ncbi.nlm.nih.gov/articles/PMC8975835\n"
     ]
    },
    {
     "name": "stderr",
     "output_type": "stream",
     "text": [
      "\n",
      "Downloading Papers: 5it [00:00,  5.54it/s]\u001b[A"
     ]
    },
    {
     "name": "stdout",
     "output_type": "stream",
     "text": [
      "[+] Downloaded: Hypertrophic_Scars_and_Keloids__Advances_in_Treatment_and_Review_of_Established_Therapies.pdf\n"
     ]
    },
    {
     "name": "stderr",
     "output_type": "stream",
     "text": [
      "\n",
      "Downloading Papers: 6it [00:01,  4.77it/s]\u001b[A"
     ]
    },
    {
     "name": "stdout",
     "output_type": "stream",
     "text": [
      "[!] Failed to download paper 6: 403 Client Error: Forbidden for url: https://pmc.ncbi.nlm.nih.gov/articles/PMC9797913\n"
     ]
    },
    {
     "name": "stderr",
     "output_type": "stream",
     "text": [
      "\n",
      "Downloading Papers: 7it [00:01,  4.55it/s]\u001b[A"
     ]
    },
    {
     "name": "stdout",
     "output_type": "stream",
     "text": [
      "[!] Failed to download paper 7: 403 Client Error: Forbidden for url: https://journals.lww.com/10.1097/CM9.0000000000002093\n",
      "[!] No open access PDF for paper 8\n",
      "[!] Failed to download paper 9: 403 Client Error: Forbidden for url: https://onlinelibrary.wiley.com/doi/pdfdirect/10.1111/exd.14121\n"
     ]
    },
    {
     "name": "stderr",
     "output_type": "stream",
     "text": [
      "\n",
      "Downloading Papers: 10it [00:02,  2.61it/s]\u001b[A"
     ]
    },
    {
     "name": "stdout",
     "output_type": "stream",
     "text": [
      "[+] Downloaded: Hypertrophic_Scars_and_Keloids__Advances_in_Treatment_and_Review_of_Established_Therapies.pdf\n"
     ]
    },
    {
     "name": "stderr",
     "output_type": "stream",
     "text": [
      "\n",
      "Downloading Papers: 11it [00:04,  1.69it/s]\u001b[A"
     ]
    },
    {
     "name": "stdout",
     "output_type": "stream",
     "text": [
      "[+] Downloaded: Hypertrophic_Scars_and_Keloids__Advances_in_Treatment_and_Review_of_Established_Therapies.pdf\n"
     ]
    },
    {
     "name": "stderr",
     "output_type": "stream",
     "text": [
      "\n",
      "Downloading Papers: 12it [00:04,  1.92it/s]\u001b[A"
     ]
    },
    {
     "name": "stdout",
     "output_type": "stream",
     "text": [
      "[!] Failed to download paper 12: 403 Client Error: Forbidden for url: https://pmc.ncbi.nlm.nih.gov/articles/PMC7940466\n"
     ]
    },
    {
     "name": "stderr",
     "output_type": "stream",
     "text": [
      "\n",
      "Downloading Papers: 13it [00:05,  1.82it/s]\u001b[A"
     ]
    },
    {
     "name": "stdout",
     "output_type": "stream",
     "text": [
      "[+] Downloaded: Hypertrophic_Scars_and_Keloids__Advances_in_Treatment_and_Review_of_Established_Therapies.pdf\n"
     ]
    },
    {
     "name": "stderr",
     "output_type": "stream",
     "text": [
      "\n",
      "Downloading Papers: 14it [00:06,  1.14it/s]\u001b[A"
     ]
    },
    {
     "name": "stdout",
     "output_type": "stream",
     "text": [
      "[+] Downloaded: Hypertrophic_Scars_and_Keloids__Advances_in_Treatment_and_Review_of_Established_Therapies.pdf\n",
      "[!] Failed to download paper 15: 403 Client Error: Forbidden for url: https://onlinelibrary.wiley.com/doi/pdfdirect/10.1111/exd.14414\n"
     ]
    },
    {
     "name": "stderr",
     "output_type": "stream",
     "text": [
      "\n",
      "Downloading Papers: 16it [00:11,  1.50s/it]\u001b[A"
     ]
    },
    {
     "name": "stdout",
     "output_type": "stream",
     "text": [
      "[+] Downloaded: Hypertrophic_Scars_and_Keloids__Advances_in_Treatment_and_Review_of_Established_Therapies.pdf\n"
     ]
    },
    {
     "name": "stderr",
     "output_type": "stream",
     "text": [
      "\n",
      "Downloading Papers: 17it [00:13,  1.57s/it]\u001b[A"
     ]
    },
    {
     "name": "stdout",
     "output_type": "stream",
     "text": [
      "[+] Downloaded: Hypertrophic_Scars_and_Keloids__Advances_in_Treatment_and_Review_of_Established_Therapies.pdf\n"
     ]
    },
    {
     "name": "stderr",
     "output_type": "stream",
     "text": [
      "\n",
      "Downloading Papers: 18it [00:15,  1.60s/it]\u001b[A"
     ]
    },
    {
     "name": "stdout",
     "output_type": "stream",
     "text": [
      "[+] Downloaded: Hypertrophic_Scars_and_Keloids__Advances_in_Treatment_and_Review_of_Established_Therapies.pdf\n"
     ]
    },
    {
     "name": "stderr",
     "output_type": "stream",
     "text": [
      "\n",
      "Downloading Papers: 19it [00:18,  2.17s/it]\u001b[A"
     ]
    },
    {
     "name": "stdout",
     "output_type": "stream",
     "text": [
      "[+] Downloaded: Hypertrophic_Scars_and_Keloids__Advances_in_Treatment_and_Review_of_Established_Therapies.pdf\n",
      "[!] No open access PDF for paper 20\n"
     ]
    },
    {
     "name": "stderr",
     "output_type": "stream",
     "text": [
      "\n",
      "Downloading Papers: 21it [00:19,  1.31s/it]\u001b[A"
     ]
    },
    {
     "name": "stdout",
     "output_type": "stream",
     "text": [
      "[+] Downloaded: Hypertrophic_Scars_and_Keloids__Advances_in_Treatment_and_Review_of_Established_Therapies.pdf\n"
     ]
    },
    {
     "name": "stderr",
     "output_type": "stream",
     "text": [
      "\n",
      "Downloading Papers: 22it [00:23,  1.94s/it]\u001b[A"
     ]
    },
    {
     "name": "stdout",
     "output_type": "stream",
     "text": [
      "[+] Downloaded: Hypertrophic_Scars_and_Keloids__Advances_in_Treatment_and_Review_of_Established_Therapies.pdf\n"
     ]
    },
    {
     "name": "stderr",
     "output_type": "stream",
     "text": [
      "\n",
      "Downloading Papers: 23it [00:23,  1.60s/it]\u001b[A"
     ]
    },
    {
     "name": "stdout",
     "output_type": "stream",
     "text": [
      "[+] Downloaded: Hypertrophic_Scars_and_Keloids__Advances_in_Treatment_and_Review_of_Established_Therapies.pdf\n"
     ]
    },
    {
     "name": "stderr",
     "output_type": "stream",
     "text": [
      "\n",
      "Downloading Papers: 24it [00:24,  1.33s/it]\u001b[A"
     ]
    },
    {
     "name": "stdout",
     "output_type": "stream",
     "text": [
      "[+] Downloaded: Hypertrophic_Scars_and_Keloids__Advances_in_Treatment_and_Review_of_Established_Therapies.pdf\n"
     ]
    },
    {
     "name": "stderr",
     "output_type": "stream",
     "text": [
      "\n",
      "Downloading Papers: 25it [00:27,  1.10s/it]\u001b[A\n",
      "Keywords:  40%|████      | 2/5 [02:52<03:47, 75.97s/it] "
     ]
    },
    {
     "name": "stdout",
     "output_type": "stream",
     "text": [
      "[+] Downloaded: Hypertrophic_Scars_and_Keloids__Advances_in_Treatment_and_Review_of_Established_Therapies.pdf\n"
     ]
    }
   ],
   "source": [
    "os.makedirs(output_dir, exist_ok=True)\n",
    "keywords = get_keywords_from_query(user_query)\n",
    "for keyword in tqdm(keywords, desc=\"Keywords\"):\n",
    "    papers = search_semantic_scholar(keyword, num_papers)\n",
    "    save_metadata(papers, output_dir)\n",
    "    download_pdfs(papers, output_dir)"
   ]
  },
  {
   "cell_type": "markdown",
   "id": "1a3005de-8796-46ec-9afc-a05a63d5a592",
   "metadata": {},
   "source": [
    "# Build RAG Database"
   ]
  },
  {
   "cell_type": "code",
   "execution_count": null,
   "id": "42ec8850-be34-47ee-93f4-a431880df261",
   "metadata": {},
   "outputs": [],
   "source": []
  },
  {
   "cell_type": "markdown",
   "id": "5bee61d8-2c12-4b44-8bfe-277b23f6bcb2",
   "metadata": {},
   "source": [
    "# Single Cell Analysis"
   ]
  },
  {
   "cell_type": "code",
   "execution_count": null,
   "id": "6c6544d5-1f20-4f79-8778-21289f174674",
   "metadata": {},
   "outputs": [],
   "source": []
  }
 ],
 "metadata": {
  "kernelspec": {
   "display_name": "Python 3 (ipykernel)",
   "language": "python",
   "name": "python3"
  },
  "language_info": {
   "codemirror_mode": {
    "name": "ipython",
    "version": 3
   },
   "file_extension": ".py",
   "mimetype": "text/x-python",
   "name": "python",
   "nbconvert_exporter": "python",
   "pygments_lexer": "ipython3",
   "version": "3.11.7"
  }
 },
 "nbformat": 4,
 "nbformat_minor": 5
}
