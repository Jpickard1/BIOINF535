{
 "cells": [
  {
   "cell_type": "markdown",
   "id": "84efa989-88ef-4183-a613-502947c02de4",
   "metadata": {},
   "source": [
    "# Agent for Single Cell RNAseq Analysis"
   ]
  },
  {
   "cell_type": "markdown",
   "id": "26b43635-b9ea-41ba-b5e6-f794fdfeeb99",
   "metadata": {},
   "source": [
    "# User Inputs"
   ]
  },
  {
   "cell_type": "code",
   "execution_count": 2,
   "id": "47606d3b-2f79-40e5-ae25-7a04bab8d49e",
   "metadata": {},
   "outputs": [],
   "source": [
    "user_query = \"\"\"Analyze this single cell RNA-seq data about Keloids. Identify\n",
    "biomarkers from this dataset and discuss the relationship of these data to the\n",
    "african american community.\"\"\"\n",
    "scrna_data_path = \".../data.h5ad\""
   ]
  },
  {
   "cell_type": "markdown",
   "id": "4779222b-1df3-4e3d-8678-3f31cb6abfbf",
   "metadata": {},
   "source": [
    "# Download Papers"
   ]
  },
  {
   "cell_type": "markdown",
   "id": "5c6cf9b9-4d53-4349-b4bb-25218133538d",
   "metadata": {},
   "source": [
    "## Functions"
   ]
  },
  {
   "cell_type": "code",
   "execution_count": 3,
   "id": "5b4306e2-ae20-4e79-8790-9f1531f917d9",
   "metadata": {},
   "outputs": [],
   "source": [
    "\"\"\"\n",
    "Generate search keywords from a user query using LangChain and OpenAI.\n",
    "\"\"\"\n",
    "\n",
    "from langchain.chat_models import ChatOpenAI\n",
    "from langchain.schema import SystemMessage, HumanMessage\n",
    "import os\n",
    "\n",
    "def get_keywords_from_query(user_query: str, model_name=\"gpt-3.5-turbo\", num_keywords=5) -> list:\n",
    "    llm = ChatOpenAI(model=model_name, temperature=0.5)\n",
    "\n",
    "    system_prompt = (\n",
    "        \"You are an assistant that converts user research questions into a short list of high-quality \"\n",
    "        \"keywords for academic search (e.g., Semantic Scholar).\"\n",
    "    )\n",
    "    user_prompt = (\n",
    "        f\"User query: {user_query}\\n\\n\"\n",
    "        f\"Provide {num_keywords} short, relevant keywords or phrases separated by commas.\"\n",
    "    )\n",
    "\n",
    "    messages = [\n",
    "        SystemMessage(content=system_prompt),\n",
    "        HumanMessage(content=user_prompt)\n",
    "    ]\n",
    "\n",
    "    response = llm(messages)\n",
    "    keyword_string = response.content.strip()\n",
    "\n",
    "    # Split and clean keywords\n",
    "    keywords = [kw.strip() for kw in keyword_string.split(\",\")]\n",
    "    return keywords\n"
   ]
  },
  {
   "cell_type": "code",
   "execution_count": 4,
   "id": "113f1554-ece3-44f7-9428-8d709fdbb10d",
   "metadata": {},
   "outputs": [],
   "source": [
    "\"\"\"\n",
    "Search and download papers from Semantic Scholar.\n",
    "\n",
    "Usage:\n",
    "    python semantic_scholar_search.py \"deep learning biology\" 5 ./output/\n",
    "\"\"\"\n",
    "\n",
    "import requests\n",
    "import os\n",
    "import sys\n",
    "import json\n",
    "from tqdm import tqdm\n",
    "\n",
    "BASE_URL = \"https://api.semanticscholar.org/graph/v1/paper/search\"\n",
    "\n",
    "def search_semantic_scholar(query, limit=10):\n",
    "    params = {\n",
    "        \"query\": query,\n",
    "        \"limit\": limit,\n",
    "        \"fields\": \"title,authors,abstract,url,year,externalIds,isOpenAccess,openAccessPdf\"\n",
    "    }\n",
    "    response = requests.get(BASE_URL, params=params)\n",
    "    response.raise_for_status()\n",
    "    return response.json()[\"data\"]\n",
    "\n",
    "def save_metadata(papers, outdir):\n",
    "    metadata_path = os.path.join(outdir, \"papers_metadata.json\")\n",
    "    with open(metadata_path, \"w\") as f:\n",
    "        json.dump(papers, f, indent=2)\n",
    "    print(f\"[+] Saved metadata to {metadata_path}\")\n",
    "\n",
    "def download_pdfs(papers, outdir):\n",
    "    for i, paper in tqdm(enumerate(papers), desc=\"Downloading Papers\"):\n",
    "        pdf_url = paper.get(\"openAccessPdf\", {}).get(\"url\")\n",
    "        if pdf_url:\n",
    "            try:\n",
    "                response = requests.get(pdf_url)\n",
    "                response.raise_for_status()\n",
    "                title = papers[0]['title'].replace(' ', '_').replace('.','_').replace('-','_').replace(',','_').replace(':','_')\n",
    "                filename = f\"{title}.pdf\"\n",
    "                filepath = os.path.join(outdir, filename)\n",
    "                with open(filepath, \"wb\") as f:\n",
    "                    f.write(response.content)\n",
    "                print(f\"[+] Downloaded: {filename}\")\n",
    "            except Exception as e:\n",
    "                print(f\"[!] Failed to download paper {i+1}: {e}\")\n",
    "        else:\n",
    "            print(f\"[!] No open access PDF for paper {i+1}\")\n"
   ]
  },
  {
   "cell_type": "markdown",
   "id": "fb70dcfd-b7ec-4469-930e-193de3c83b1c",
   "metadata": {},
   "source": [
    "## Constants"
   ]
  },
  {
   "cell_type": "code",
   "execution_count": 9,
   "id": "d98c9c6c-7625-4b3c-bb9e-0b51d57496f8",
   "metadata": {},
   "outputs": [],
   "source": [
    "output_dir = \"downloads\" # Loacation where papers will be downloaded to\n",
    "num_papers = 25          # Number of papers per downlowd"
   ]
  },
  {
   "cell_type": "markdown",
   "id": "b633e8d2-15fa-432c-b4ce-984dd4eff49c",
   "metadata": {},
   "source": [
    "## Script"
   ]
  },
  {
   "cell_type": "code",
   "execution_count": 10,
   "id": "c623ae05-749d-48ad-b183-14ed5a824447",
   "metadata": {},
   "outputs": [
    {
     "data": {
      "text/plain": [
       "['Single cell RNA-seq',\n",
       " 'Keloids',\n",
       " 'Biomarkers',\n",
       " 'African American community',\n",
       " 'Relationship']"
      ]
     },
     "execution_count": 10,
     "metadata": {},
     "output_type": "execute_result"
    }
   ],
   "source": [
    "keywords"
   ]
  },
  {
   "cell_type": "code",
   "execution_count": 12,
   "id": "207189c3-3be1-4596-8745-d43aa52784b1",
   "metadata": {
    "scrolled": true
   },
   "outputs": [
    {
     "name": "stderr",
     "output_type": "stream",
     "text": [
      "Keywords:   0%|          | 0/5 [00:00<?, ?it/s]"
     ]
    },
    {
     "name": "stdout",
     "output_type": "stream",
     "text": [
      "[+] Saved metadata to downloads/papers_metadata.json\n"
     ]
    },
    {
     "name": "stderr",
     "output_type": "stream",
     "text": [
      "\n",
      "Downloading Papers: 0it [00:00, ?it/s]\u001b[A\n",
      "Downloading Papers: 1it [00:29, 29.95s/it]\u001b[A"
     ]
    },
    {
     "name": "stdout",
     "output_type": "stream",
     "text": [
      "[+] Downloaded: Normalization_and_variance_stabilization_of_single_cell_RNA_seq_data_using_regularized_negative_binomial_regression.pdf\n"
     ]
    },
    {
     "name": "stderr",
     "output_type": "stream",
     "text": [
      "\n",
      "Downloading Papers: 2it [00:31, 13.17s/it]\u001b[A"
     ]
    },
    {
     "name": "stdout",
     "output_type": "stream",
     "text": [
      "[+] Downloaded: Normalization_and_variance_stabilization_of_single_cell_RNA_seq_data_using_regularized_negative_binomial_regression.pdf\n"
     ]
    },
    {
     "name": "stderr",
     "output_type": "stream",
     "text": [
      "\n",
      "Downloading Papers: 3it [00:36,  9.72s/it]\u001b[A"
     ]
    },
    {
     "name": "stdout",
     "output_type": "stream",
     "text": [
      "[+] Downloaded: Normalization_and_variance_stabilization_of_single_cell_RNA_seq_data_using_regularized_negative_binomial_regression.pdf\n"
     ]
    },
    {
     "name": "stderr",
     "output_type": "stream",
     "text": [
      "\n",
      "Downloading Papers: 4it [00:38,  6.52s/it]\u001b[A"
     ]
    },
    {
     "name": "stdout",
     "output_type": "stream",
     "text": [
      "[+] Downloaded: Normalization_and_variance_stabilization_of_single_cell_RNA_seq_data_using_regularized_negative_binomial_regression.pdf\n"
     ]
    },
    {
     "name": "stderr",
     "output_type": "stream",
     "text": [
      "\n",
      "Downloading Papers: 5it [00:40,  4.77s/it]\u001b[A"
     ]
    },
    {
     "name": "stdout",
     "output_type": "stream",
     "text": [
      "[+] Downloaded: Normalization_and_variance_stabilization_of_single_cell_RNA_seq_data_using_regularized_negative_binomial_regression.pdf\n"
     ]
    },
    {
     "name": "stderr",
     "output_type": "stream",
     "text": [
      "\n",
      "Downloading Papers: 6it [00:56,  8.70s/it]\u001b[A"
     ]
    },
    {
     "name": "stdout",
     "output_type": "stream",
     "text": [
      "[+] Downloaded: Normalization_and_variance_stabilization_of_single_cell_RNA_seq_data_using_regularized_negative_binomial_regression.pdf\n"
     ]
    },
    {
     "name": "stderr",
     "output_type": "stream",
     "text": [
      "\n",
      "Downloading Papers: 7it [00:58,  6.49s/it]\u001b[A"
     ]
    },
    {
     "name": "stdout",
     "output_type": "stream",
     "text": [
      "[+] Downloaded: Normalization_and_variance_stabilization_of_single_cell_RNA_seq_data_using_regularized_negative_binomial_regression.pdf\n"
     ]
    },
    {
     "name": "stderr",
     "output_type": "stream",
     "text": [
      "\n",
      "Downloading Papers: 8it [00:58,  4.50s/it]\u001b[A"
     ]
    },
    {
     "name": "stdout",
     "output_type": "stream",
     "text": [
      "[+] Downloaded: Normalization_and_variance_stabilization_of_single_cell_RNA_seq_data_using_regularized_negative_binomial_regression.pdf\n"
     ]
    },
    {
     "name": "stderr",
     "output_type": "stream",
     "text": [
      "\n",
      "Downloading Papers: 9it [01:00,  3.58s/it]\u001b[A"
     ]
    },
    {
     "name": "stdout",
     "output_type": "stream",
     "text": [
      "[+] Downloaded: Normalization_and_variance_stabilization_of_single_cell_RNA_seq_data_using_regularized_negative_binomial_regression.pdf\n",
      "[!] No open access PDF for paper 10\n"
     ]
    },
    {
     "name": "stderr",
     "output_type": "stream",
     "text": [
      "\n",
      "Downloading Papers: 11it [01:01,  2.21s/it]\u001b[A"
     ]
    },
    {
     "name": "stdout",
     "output_type": "stream",
     "text": [
      "[+] Downloaded: Normalization_and_variance_stabilization_of_single_cell_RNA_seq_data_using_regularized_negative_binomial_regression.pdf\n"
     ]
    },
    {
     "name": "stderr",
     "output_type": "stream",
     "text": [
      "\n",
      "Downloading Papers: 12it [01:03,  2.15s/it]\u001b[A"
     ]
    },
    {
     "name": "stdout",
     "output_type": "stream",
     "text": [
      "[+] Downloaded: Normalization_and_variance_stabilization_of_single_cell_RNA_seq_data_using_regularized_negative_binomial_regression.pdf\n"
     ]
    },
    {
     "name": "stderr",
     "output_type": "stream",
     "text": [
      "\n",
      "Downloading Papers: 13it [01:05,  2.14s/it]\u001b[A"
     ]
    },
    {
     "name": "stdout",
     "output_type": "stream",
     "text": [
      "[+] Downloaded: Normalization_and_variance_stabilization_of_single_cell_RNA_seq_data_using_regularized_negative_binomial_regression.pdf\n"
     ]
    },
    {
     "name": "stderr",
     "output_type": "stream",
     "text": [
      "\n",
      "Downloading Papers: 14it [01:15,  4.24s/it]\u001b[A"
     ]
    },
    {
     "name": "stdout",
     "output_type": "stream",
     "text": [
      "[+] Downloaded: Normalization_and_variance_stabilization_of_single_cell_RNA_seq_data_using_regularized_negative_binomial_regression.pdf\n"
     ]
    },
    {
     "name": "stderr",
     "output_type": "stream",
     "text": [
      "\n",
      "Downloading Papers: 15it [01:27,  6.44s/it]\u001b[A"
     ]
    },
    {
     "name": "stdout",
     "output_type": "stream",
     "text": [
      "[+] Downloaded: Normalization_and_variance_stabilization_of_single_cell_RNA_seq_data_using_regularized_negative_binomial_regression.pdf\n"
     ]
    },
    {
     "name": "stderr",
     "output_type": "stream",
     "text": [
      "\n",
      "Downloading Papers: 16it [01:53, 11.93s/it]\u001b[A"
     ]
    },
    {
     "name": "stdout",
     "output_type": "stream",
     "text": [
      "[+] Downloaded: Normalization_and_variance_stabilization_of_single_cell_RNA_seq_data_using_regularized_negative_binomial_regression.pdf\n"
     ]
    },
    {
     "name": "stderr",
     "output_type": "stream",
     "text": [
      "\n",
      "Downloading Papers: 17it [01:56,  9.36s/it]\u001b[A"
     ]
    },
    {
     "name": "stdout",
     "output_type": "stream",
     "text": [
      "[+] Downloaded: Normalization_and_variance_stabilization_of_single_cell_RNA_seq_data_using_regularized_negative_binomial_regression.pdf\n",
      "[!] No open access PDF for paper 18\n"
     ]
    },
    {
     "name": "stderr",
     "output_type": "stream",
     "text": [
      "\n",
      "Downloading Papers: 19it [01:59,  5.89s/it]\u001b[A"
     ]
    },
    {
     "name": "stdout",
     "output_type": "stream",
     "text": [
      "[+] Downloaded: Normalization_and_variance_stabilization_of_single_cell_RNA_seq_data_using_regularized_negative_binomial_regression.pdf\n"
     ]
    },
    {
     "name": "stderr",
     "output_type": "stream",
     "text": [
      "\n",
      "Downloading Papers: 20it [02:05,  5.97s/it]\u001b[A"
     ]
    },
    {
     "name": "stdout",
     "output_type": "stream",
     "text": [
      "[+] Downloaded: Normalization_and_variance_stabilization_of_single_cell_RNA_seq_data_using_regularized_negative_binomial_regression.pdf\n",
      "[!] No open access PDF for paper 21\n",
      "[!] No open access PDF for paper 22\n"
     ]
    },
    {
     "name": "stderr",
     "output_type": "stream",
     "text": [
      "\n",
      "Downloading Papers: 23it [02:17,  4.91s/it]\u001b[A"
     ]
    },
    {
     "name": "stdout",
     "output_type": "stream",
     "text": [
      "[+] Downloaded: Normalization_and_variance_stabilization_of_single_cell_RNA_seq_data_using_regularized_negative_binomial_regression.pdf\n"
     ]
    },
    {
     "name": "stderr",
     "output_type": "stream",
     "text": [
      "\n",
      "Downloading Papers: 24it [02:21,  4.77s/it]\u001b[A"
     ]
    },
    {
     "name": "stdout",
     "output_type": "stream",
     "text": [
      "[+] Downloaded: Normalization_and_variance_stabilization_of_single_cell_RNA_seq_data_using_regularized_negative_binomial_regression.pdf\n"
     ]
    },
    {
     "name": "stderr",
     "output_type": "stream",
     "text": [
      "\n",
      "Downloading Papers: 25it [02:22,  5.69s/it]\u001b[A\n",
      "Keywords:  20%|██        | 1/5 [02:23<09:34, 143.55s/it]"
     ]
    },
    {
     "name": "stdout",
     "output_type": "stream",
     "text": [
      "[!] Failed to download paper 25: 403 Client Error: Forbidden for url: https://pmc.ncbi.nlm.nih.gov/articles/PMC5465819\n",
      "[+] Saved metadata to downloads/papers_metadata.json\n"
     ]
    },
    {
     "name": "stderr",
     "output_type": "stream",
     "text": [
      "\n",
      "Downloading Papers: 0it [00:00, ?it/s]\u001b[A\n",
      "Downloading Papers: 2it [00:00, 10.72it/s]\u001b[A"
     ]
    },
    {
     "name": "stdout",
     "output_type": "stream",
     "text": [
      "[!] No open access PDF for paper 1\n",
      "[!] Failed to download paper 2: 403 Client Error: Forbidden for url: https://journals.lww.com/10.1097/PRS.0000000000008667\n",
      "[!] No open access PDF for paper 3\n"
     ]
    },
    {
     "name": "stderr",
     "output_type": "stream",
     "text": [
      "\n",
      "Downloading Papers: 4it [00:00,  8.37it/s]\u001b[A"
     ]
    },
    {
     "name": "stdout",
     "output_type": "stream",
     "text": [
      "[!] Failed to download paper 4: 403 Client Error: Forbidden for url: https://pmc.ncbi.nlm.nih.gov/articles/PMC8975835\n"
     ]
    },
    {
     "name": "stderr",
     "output_type": "stream",
     "text": [
      "\n",
      "Downloading Papers: 5it [00:00,  5.54it/s]\u001b[A"
     ]
    },
    {
     "name": "stdout",
     "output_type": "stream",
     "text": [
      "[+] Downloaded: Hypertrophic_Scars_and_Keloids__Advances_in_Treatment_and_Review_of_Established_Therapies.pdf\n"
     ]
    },
    {
     "name": "stderr",
     "output_type": "stream",
     "text": [
      "\n",
      "Downloading Papers: 6it [00:01,  4.77it/s]\u001b[A"
     ]
    },
    {
     "name": "stdout",
     "output_type": "stream",
     "text": [
      "[!] Failed to download paper 6: 403 Client Error: Forbidden for url: https://pmc.ncbi.nlm.nih.gov/articles/PMC9797913\n"
     ]
    },
    {
     "name": "stderr",
     "output_type": "stream",
     "text": [
      "\n",
      "Downloading Papers: 7it [00:01,  4.55it/s]\u001b[A"
     ]
    },
    {
     "name": "stdout",
     "output_type": "stream",
     "text": [
      "[!] Failed to download paper 7: 403 Client Error: Forbidden for url: https://journals.lww.com/10.1097/CM9.0000000000002093\n",
      "[!] No open access PDF for paper 8\n",
      "[!] Failed to download paper 9: 403 Client Error: Forbidden for url: https://onlinelibrary.wiley.com/doi/pdfdirect/10.1111/exd.14121\n"
     ]
    },
    {
     "name": "stderr",
     "output_type": "stream",
     "text": [
      "\n",
      "Downloading Papers: 10it [00:02,  2.61it/s]\u001b[A"
     ]
    },
    {
     "name": "stdout",
     "output_type": "stream",
     "text": [
      "[+] Downloaded: Hypertrophic_Scars_and_Keloids__Advances_in_Treatment_and_Review_of_Established_Therapies.pdf\n"
     ]
    },
    {
     "name": "stderr",
     "output_type": "stream",
     "text": [
      "\n",
      "Downloading Papers: 11it [00:04,  1.69it/s]\u001b[A"
     ]
    },
    {
     "name": "stdout",
     "output_type": "stream",
     "text": [
      "[+] Downloaded: Hypertrophic_Scars_and_Keloids__Advances_in_Treatment_and_Review_of_Established_Therapies.pdf\n"
     ]
    },
    {
     "name": "stderr",
     "output_type": "stream",
     "text": [
      "\n",
      "Downloading Papers: 12it [00:04,  1.92it/s]\u001b[A"
     ]
    },
    {
     "name": "stdout",
     "output_type": "stream",
     "text": [
      "[!] Failed to download paper 12: 403 Client Error: Forbidden for url: https://pmc.ncbi.nlm.nih.gov/articles/PMC7940466\n"
     ]
    },
    {
     "name": "stderr",
     "output_type": "stream",
     "text": [
      "\n",
      "Downloading Papers: 13it [00:05,  1.82it/s]\u001b[A"
     ]
    },
    {
     "name": "stdout",
     "output_type": "stream",
     "text": [
      "[+] Downloaded: Hypertrophic_Scars_and_Keloids__Advances_in_Treatment_and_Review_of_Established_Therapies.pdf\n"
     ]
    },
    {
     "name": "stderr",
     "output_type": "stream",
     "text": [
      "\n",
      "Downloading Papers: 14it [00:06,  1.14it/s]\u001b[A"
     ]
    },
    {
     "name": "stdout",
     "output_type": "stream",
     "text": [
      "[+] Downloaded: Hypertrophic_Scars_and_Keloids__Advances_in_Treatment_and_Review_of_Established_Therapies.pdf\n",
      "[!] Failed to download paper 15: 403 Client Error: Forbidden for url: https://onlinelibrary.wiley.com/doi/pdfdirect/10.1111/exd.14414\n"
     ]
    },
    {
     "name": "stderr",
     "output_type": "stream",
     "text": [
      "\n",
      "Downloading Papers: 16it [00:11,  1.50s/it]\u001b[A"
     ]
    },
    {
     "name": "stdout",
     "output_type": "stream",
     "text": [
      "[+] Downloaded: Hypertrophic_Scars_and_Keloids__Advances_in_Treatment_and_Review_of_Established_Therapies.pdf\n"
     ]
    },
    {
     "name": "stderr",
     "output_type": "stream",
     "text": [
      "\n",
      "Downloading Papers: 17it [00:13,  1.57s/it]\u001b[A"
     ]
    },
    {
     "name": "stdout",
     "output_type": "stream",
     "text": [
      "[+] Downloaded: Hypertrophic_Scars_and_Keloids__Advances_in_Treatment_and_Review_of_Established_Therapies.pdf\n"
     ]
    },
    {
     "name": "stderr",
     "output_type": "stream",
     "text": [
      "\n",
      "Downloading Papers: 18it [00:15,  1.60s/it]\u001b[A"
     ]
    },
    {
     "name": "stdout",
     "output_type": "stream",
     "text": [
      "[+] Downloaded: Hypertrophic_Scars_and_Keloids__Advances_in_Treatment_and_Review_of_Established_Therapies.pdf\n"
     ]
    },
    {
     "name": "stderr",
     "output_type": "stream",
     "text": [
      "\n",
      "Downloading Papers: 19it [00:18,  2.17s/it]\u001b[A"
     ]
    },
    {
     "name": "stdout",
     "output_type": "stream",
     "text": [
      "[+] Downloaded: Hypertrophic_Scars_and_Keloids__Advances_in_Treatment_and_Review_of_Established_Therapies.pdf\n",
      "[!] No open access PDF for paper 20\n"
     ]
    },
    {
     "name": "stderr",
     "output_type": "stream",
     "text": [
      "\n",
      "Downloading Papers: 21it [00:19,  1.31s/it]\u001b[A"
     ]
    },
    {
     "name": "stdout",
     "output_type": "stream",
     "text": [
      "[+] Downloaded: Hypertrophic_Scars_and_Keloids__Advances_in_Treatment_and_Review_of_Established_Therapies.pdf\n"
     ]
    },
    {
     "name": "stderr",
     "output_type": "stream",
     "text": [
      "\n",
      "Downloading Papers: 22it [00:23,  1.94s/it]\u001b[A"
     ]
    },
    {
     "name": "stdout",
     "output_type": "stream",
     "text": [
      "[+] Downloaded: Hypertrophic_Scars_and_Keloids__Advances_in_Treatment_and_Review_of_Established_Therapies.pdf\n"
     ]
    },
    {
     "name": "stderr",
     "output_type": "stream",
     "text": [
      "\n",
      "Downloading Papers: 23it [00:23,  1.60s/it]\u001b[A"
     ]
    },
    {
     "name": "stdout",
     "output_type": "stream",
     "text": [
      "[+] Downloaded: Hypertrophic_Scars_and_Keloids__Advances_in_Treatment_and_Review_of_Established_Therapies.pdf\n"
     ]
    },
    {
     "name": "stderr",
     "output_type": "stream",
     "text": [
      "\n",
      "Downloading Papers: 24it [00:24,  1.33s/it]\u001b[A"
     ]
    },
    {
     "name": "stdout",
     "output_type": "stream",
     "text": [
      "[+] Downloaded: Hypertrophic_Scars_and_Keloids__Advances_in_Treatment_and_Review_of_Established_Therapies.pdf\n"
     ]
    },
    {
     "name": "stderr",
     "output_type": "stream",
     "text": [
      "\n",
      "Downloading Papers: 25it [00:27,  1.10s/it]\u001b[A\n",
      "Keywords:  40%|████      | 2/5 [02:52<03:47, 75.97s/it] "
     ]
    },
    {
     "name": "stdout",
     "output_type": "stream",
     "text": [
      "[+] Downloaded: Hypertrophic_Scars_and_Keloids__Advances_in_Treatment_and_Review_of_Established_Therapies.pdf\n",
      "[+] Saved metadata to downloads/papers_metadata.json\n"
     ]
    },
    {
     "name": "stderr",
     "output_type": "stream",
     "text": [
      "\n",
      "Downloading Papers: 0it [00:00, ?it/s]\u001b[A\n",
      "Downloading Papers: 1it [00:16, 16.27s/it]\u001b[A"
     ]
    },
    {
     "name": "stdout",
     "output_type": "stream",
     "text": [
      "[+] Downloaded: Tumor_biomarkers_for_diagnosis__prognosis_and_targeted_therapy.pdf\n"
     ]
    },
    {
     "name": "stderr",
     "output_type": "stream",
     "text": [
      "\n",
      "Downloading Papers: 2it [00:23, 10.76s/it]\u001b[A"
     ]
    },
    {
     "name": "stdout",
     "output_type": "stream",
     "text": [
      "[+] Downloaded: Tumor_biomarkers_for_diagnosis__prognosis_and_targeted_therapy.pdf\n"
     ]
    },
    {
     "name": "stderr",
     "output_type": "stream",
     "text": [
      "\n",
      "Downloading Papers: 3it [00:37, 12.34s/it]\u001b[A"
     ]
    },
    {
     "name": "stdout",
     "output_type": "stream",
     "text": [
      "[+] Downloaded: Tumor_biomarkers_for_diagnosis__prognosis_and_targeted_therapy.pdf\n"
     ]
    },
    {
     "name": "stderr",
     "output_type": "stream",
     "text": [
      "\n",
      "Downloading Papers: 4it [00:52, 13.25s/it]\u001b[A"
     ]
    },
    {
     "name": "stdout",
     "output_type": "stream",
     "text": [
      "[+] Downloaded: Tumor_biomarkers_for_diagnosis__prognosis_and_targeted_therapy.pdf\n"
     ]
    },
    {
     "name": "stderr",
     "output_type": "stream",
     "text": [
      "\n",
      "Downloading Papers: 5it [00:52,  8.57s/it]\u001b[A"
     ]
    },
    {
     "name": "stdout",
     "output_type": "stream",
     "text": [
      "[!] Failed to download paper 5: 403 Client Error: Forbidden for url: https://pmc.ncbi.nlm.nih.gov/articles/PMC5381938\n"
     ]
    },
    {
     "name": "stderr",
     "output_type": "stream",
     "text": [
      "\n",
      "Downloading Papers: 6it [00:53,  6.11s/it]\u001b[A"
     ]
    },
    {
     "name": "stdout",
     "output_type": "stream",
     "text": [
      "[+] Downloaded: Tumor_biomarkers_for_diagnosis__prognosis_and_targeted_therapy.pdf\n",
      "[!] No open access PDF for paper 7\n"
     ]
    },
    {
     "name": "stderr",
     "output_type": "stream",
     "text": [
      "\n",
      "Downloading Papers: 8it [00:59,  4.48s/it]\u001b[A"
     ]
    },
    {
     "name": "stdout",
     "output_type": "stream",
     "text": [
      "[+] Downloaded: Tumor_biomarkers_for_diagnosis__prognosis_and_targeted_therapy.pdf\n",
      "[!] No open access PDF for paper 9\n"
     ]
    },
    {
     "name": "stderr",
     "output_type": "stream",
     "text": [
      "\n",
      "Downloading Papers: 10it [01:00,  2.96s/it]\u001b[A"
     ]
    },
    {
     "name": "stdout",
     "output_type": "stream",
     "text": [
      "[+] Downloaded: Tumor_biomarkers_for_diagnosis__prognosis_and_targeted_therapy.pdf\n"
     ]
    },
    {
     "name": "stderr",
     "output_type": "stream",
     "text": [
      "\n",
      "Downloading Papers: 11it [01:01,  2.35s/it]\u001b[A"
     ]
    },
    {
     "name": "stdout",
     "output_type": "stream",
     "text": [
      "[!] Failed to download paper 11: 403 Client Error: Forbidden for url: https://pmc.ncbi.nlm.nih.gov/articles/PMC6705396\n"
     ]
    },
    {
     "name": "stderr",
     "output_type": "stream",
     "text": [
      "\n",
      "Downloading Papers: 12it [01:10,  4.02s/it]\u001b[A"
     ]
    },
    {
     "name": "stdout",
     "output_type": "stream",
     "text": [
      "[+] Downloaded: Tumor_biomarkers_for_diagnosis__prognosis_and_targeted_therapy.pdf\n"
     ]
    },
    {
     "name": "stderr",
     "output_type": "stream",
     "text": [
      "\n",
      "Downloading Papers: 13it [01:28,  7.73s/it]\u001b[A"
     ]
    },
    {
     "name": "stdout",
     "output_type": "stream",
     "text": [
      "[+] Downloaded: Tumor_biomarkers_for_diagnosis__prognosis_and_targeted_therapy.pdf\n"
     ]
    },
    {
     "name": "stderr",
     "output_type": "stream",
     "text": [
      "\n",
      "Downloading Papers: 14it [01:29,  5.81s/it]\u001b[A"
     ]
    },
    {
     "name": "stdout",
     "output_type": "stream",
     "text": [
      "[+] Downloaded: Tumor_biomarkers_for_diagnosis__prognosis_and_targeted_therapy.pdf\n"
     ]
    },
    {
     "name": "stderr",
     "output_type": "stream",
     "text": [
      "\n",
      "Downloading Papers: 15it [01:29,  4.27s/it]\u001b[A"
     ]
    },
    {
     "name": "stdout",
     "output_type": "stream",
     "text": [
      "[!] Failed to download paper 15: 403 Client Error: Forbidden for url: https://pmc.ncbi.nlm.nih.gov/articles/PMC8740483\n"
     ]
    },
    {
     "name": "stderr",
     "output_type": "stream",
     "text": [
      "\n",
      "Downloading Papers: 16it [01:30,  3.40s/it]\u001b[A"
     ]
    },
    {
     "name": "stdout",
     "output_type": "stream",
     "text": [
      "[+] Downloaded: Tumor_biomarkers_for_diagnosis__prognosis_and_targeted_therapy.pdf\n"
     ]
    },
    {
     "name": "stderr",
     "output_type": "stream",
     "text": [
      "\n",
      "Downloading Papers: 17it [01:35,  3.92s/it]\u001b[A"
     ]
    },
    {
     "name": "stdout",
     "output_type": "stream",
     "text": [
      "[+] Downloaded: Tumor_biomarkers_for_diagnosis__prognosis_and_targeted_therapy.pdf\n"
     ]
    },
    {
     "name": "stderr",
     "output_type": "stream",
     "text": [
      "\n",
      "Downloading Papers: 18it [01:36,  3.05s/it]\u001b[A"
     ]
    },
    {
     "name": "stdout",
     "output_type": "stream",
     "text": [
      "[+] Downloaded: Tumor_biomarkers_for_diagnosis__prognosis_and_targeted_therapy.pdf\n"
     ]
    },
    {
     "name": "stderr",
     "output_type": "stream",
     "text": [
      "\n",
      "Downloading Papers: 19it [01:37,  2.23s/it]\u001b[A"
     ]
    },
    {
     "name": "stdout",
     "output_type": "stream",
     "text": [
      "[!] Failed to download paper 19: 403 Client Error: Forbidden for url: https://pmc.ncbi.nlm.nih.gov/articles/PMC8574972\n",
      "[!] No open access PDF for paper 20\n",
      "[!] No open access PDF for paper 21\n",
      "[!] No open access PDF for paper 22\n",
      "[!] No open access PDF for paper 23\n"
     ]
    },
    {
     "name": "stderr",
     "output_type": "stream",
     "text": [
      "\n",
      "Downloading Papers: 24it [01:37,  1.32it/s]\u001b[A"
     ]
    },
    {
     "name": "stdout",
     "output_type": "stream",
     "text": [
      "[!] Failed to download paper 24: 403 Client Error: Forbidden for url: https://pmc.ncbi.nlm.nih.gov/articles/PMC5624035\n"
     ]
    },
    {
     "name": "stderr",
     "output_type": "stream",
     "text": [
      "\n",
      "Downloading Papers: 25it [01:38,  3.93s/it]\u001b[A\n",
      "Keywords:  60%|██████    | 3/5 [04:33<02:54, 87.34s/it]"
     ]
    },
    {
     "name": "stdout",
     "output_type": "stream",
     "text": [
      "[+] Downloaded: Tumor_biomarkers_for_diagnosis__prognosis_and_targeted_therapy.pdf\n",
      "[+] Saved metadata to downloads/papers_metadata.json\n"
     ]
    },
    {
     "name": "stderr",
     "output_type": "stream",
     "text": [
      "\n",
      "Downloading Papers: 0it [00:00, ?it/s]\u001b[A"
     ]
    },
    {
     "name": "stdout",
     "output_type": "stream",
     "text": [
      "[!] No open access PDF for paper 1\n"
     ]
    },
    {
     "name": "stderr",
     "output_type": "stream",
     "text": [
      "\n",
      "Downloading Papers: 2it [00:08,  4.43s/it]\u001b[A"
     ]
    },
    {
     "name": "stdout",
     "output_type": "stream",
     "text": [
      "[+] Downloaded: The_Historical__Psychosocial__and_Cultural_Context_of_Breastfeeding_in_the_African_American_Community_.pdf\n"
     ]
    },
    {
     "name": "stderr",
     "output_type": "stream",
     "text": [
      "\n",
      "Downloading Papers: 3it [00:09,  2.70s/it]\u001b[A"
     ]
    },
    {
     "name": "stdout",
     "output_type": "stream",
     "text": [
      "[!] Failed to download paper 3: 403 Client Error: Forbidden for url: https://pmc.ncbi.nlm.nih.gov/articles/PMC8224540\n",
      "[!] No open access PDF for paper 4\n"
     ]
    },
    {
     "name": "stderr",
     "output_type": "stream",
     "text": [
      "\n",
      "Downloading Papers: 5it [00:10,  1.61s/it]\u001b[A"
     ]
    },
    {
     "name": "stdout",
     "output_type": "stream",
     "text": [
      "[+] Downloaded: The_Historical__Psychosocial__and_Cultural_Context_of_Breastfeeding_in_the_African_American_Community_.pdf\n",
      "[!] No open access PDF for paper 6\n"
     ]
    },
    {
     "name": "stderr",
     "output_type": "stream",
     "text": [
      "\n",
      "Downloading Papers: 7it [00:10,  1.04it/s]\u001b[A"
     ]
    },
    {
     "name": "stdout",
     "output_type": "stream",
     "text": [
      "[!] Failed to download paper 7: 403 Client Error: Forbidden for url: https://pmc.ncbi.nlm.nih.gov/articles/PMC3910040\n"
     ]
    },
    {
     "name": "stderr",
     "output_type": "stream",
     "text": [
      "Downloading Papers: 7it [00:15,  2.16s/it]\n",
      "Keywords:  60%|██████    | 3/5 [04:49<03:12, 96.40s/it]\n",
      "\n",
      "KeyboardInterrupt\n",
      "\n"
     ]
    }
   ],
   "source": [
    "os.makedirs(output_dir, exist_ok=True)\n",
    "keywords = get_keywords_from_query(user_query)\n",
    "for keyword in tqdm(keywords, desc=\"Keywords\"):\n",
    "    papers = search_semantic_scholar(keyword, num_papers)\n",
    "    save_metadata(papers, output_dir)\n",
    "    download_pdfs(papers, output_dir)"
   ]
  },
  {
   "cell_type": "markdown",
   "id": "1a3005de-8796-46ec-9afc-a05a63d5a592",
   "metadata": {},
   "source": [
    "# Build RAG Database"
   ]
  },
  {
   "cell_type": "markdown",
   "id": "8baf9d43-af78-4f01-b6c8-8f40eb549d39",
   "metadata": {},
   "source": [
    "## Functions"
   ]
  },
  {
   "cell_type": "code",
   "execution_count": 13,
   "id": "4fbf8c2d-d3d5-4019-8683-00320af35c2f",
   "metadata": {},
   "outputs": [],
   "source": [
    "import os\n",
    "import json\n",
    "from langchain.embeddings import OpenAIEmbeddings\n",
    "from langchain.vectorstores import Chroma\n",
    "from langchain.document_loaders import PyPDFLoader\n",
    "from langchain.schema import Document\n",
    "from langchain.text_splitter import RecursiveCharacterTextSplitter"
   ]
  },
  {
   "cell_type": "code",
   "execution_count": 14,
   "id": "47354588-fc5f-4da0-9db6-6d585ebaeb6f",
   "metadata": {},
   "outputs": [],
   "source": [
    "def build_and_persist_rag_database(\n",
    "    input_dir: str = \"./papers\",\n",
    "    persist_dir: str = \"./rag_db\",\n",
    "    embedding_model=None,\n",
    "    chunk_size: int = 1000,\n",
    "    chunk_overlap: int = 200,\n",
    "    metadata_filename: str = \"papers_metadata.json\"\n",
    "):\n",
    "    \"\"\"\n",
    "    Load documents from PDFs or metadata, embed them, and persist to disk using Chroma.\n",
    "\n",
    "    Args:\n",
    "        input_dir (str): Directory containing PDFs and/or metadata JSON.\n",
    "        persist_dir (str): Directory to store the persisted vectorstore.\n",
    "        embedding_model: LangChain-compatible embedding model (defaults to OpenAIEmbeddings).\n",
    "        chunk_size (int): Size of text chunks for embedding.\n",
    "        chunk_overlap (int): Overlap between chunks.\n",
    "        metadata_filename (str): Name of the JSON file with paper metadata.\n",
    "\n",
    "    Returns:\n",
    "        vectorstore: The persisted Chroma vectorstore object.\n",
    "    \"\"\"\n",
    "    if embedding_model is None:\n",
    "        embedding_model = OpenAIEmbeddings()\n",
    "\n",
    "    documents = []\n",
    "\n",
    "    # Load PDFs\n",
    "    pdf_files = [f for f in os.listdir(input_dir) if f.endswith(\".pdf\")]\n",
    "    for pdf_file in pdf_files:\n",
    "        path = os.path.join(input_dir, pdf_file)\n",
    "        try:\n",
    "            loader = PyPDFLoader(path)\n",
    "            documents.extend(loader.load())\n",
    "        except Exception as e:\n",
    "            print(f\"[!] Failed to load {pdf_file}: {e}\")\n",
    "\n",
    "    # Load metadata JSON if PDFs not available\n",
    "    metadata_path = os.path.join(input_dir, metadata_filename)\n",
    "    if not documents and os.path.exists(metadata_path):\n",
    "        with open(metadata_path) as f:\n",
    "            paper_data = json.load(f)\n",
    "            for paper in paper_data:\n",
    "                text = f\"{paper['title']}\\n\\n{paper.get('abstract', '')}\"\n",
    "                documents.append(Document(page_content=text, metadata=paper))\n",
    "\n",
    "    if not documents:\n",
    "        raise ValueError(\"No documents found in the specified directory.\")\n",
    "\n",
    "    # Split into chunks\n",
    "    splitter = RecursiveCharacterTextSplitter(chunk_size=chunk_size, chunk_overlap=chunk_overlap)\n",
    "    chunks = splitter.split_documents(documents)\n",
    "\n",
    "    # Build and persist vectorstore\n",
    "    vectorstore = Chroma.from_documents(\n",
    "        documents=chunks,\n",
    "        embedding=embedding_model,\n",
    "        persist_directory=persist_dir\n",
    "    )\n",
    "    vectorstore.persist()\n",
    "    print(f\"[+] Vectorstore persisted to: {persist_dir}\")\n",
    "    return vectorstore"
   ]
  },
  {
   "cell_type": "markdown",
   "id": "61efcd68-ab65-4e63-bb4a-c99da7dbad23",
   "metadata": {},
   "source": [
    "## Constants"
   ]
  },
  {
   "cell_type": "code",
   "execution_count": 15,
   "id": "4967a321-5004-4056-93be-ab1951ead7a2",
   "metadata": {},
   "outputs": [],
   "source": [
    "rag_db_persist_dir = \"rag_db\"\n",
    "chunk_size = 1000\n",
    "chunk_overlap=150"
   ]
  },
  {
   "cell_type": "markdown",
   "id": "26361271-fd2c-42eb-b40c-bf080769a499",
   "metadata": {},
   "source": [
    "## Script"
   ]
  },
  {
   "cell_type": "code",
   "execution_count": 16,
   "id": "7e3ca152-3823-42ca-a448-47b4e59ba71b",
   "metadata": {},
   "outputs": [
    {
     "name": "stderr",
     "output_type": "stream",
     "text": [
      "/tmp/ipykernel_319046/3130743559.py:24: LangChainDeprecationWarning: The class `OpenAIEmbeddings` was deprecated in LangChain 0.0.9 and will be removed in 1.0. An updated version of the class exists in the :class:`~langchain-openai package and should be used instead. To use it run `pip install -U :class:`~langchain-openai` and import as `from :class:`~langchain_openai import OpenAIEmbeddings``.\n",
      "  embedding_model = OpenAIEmbeddings()\n"
     ]
    },
    {
     "name": "stdout",
     "output_type": "stream",
     "text": [
      "[+] Vectorstore persisted to: rag_db\n"
     ]
    },
    {
     "name": "stderr",
     "output_type": "stream",
     "text": [
      "/tmp/ipykernel_319046/3130743559.py:60: LangChainDeprecationWarning: Since Chroma 0.4.x the manual persistence method is no longer supported as docs are automatically persisted.\n",
      "  vectorstore.persist()\n"
     ]
    }
   ],
   "source": [
    "vectorstore = build_and_persist_rag_database(\n",
    "    input_dir=output_dir,\n",
    "    persist_dir=rag_db_persist_dir,\n",
    "    chunk_size=chunk_size,\n",
    "    chunk_overlap=chunk_overlap\n",
    ")"
   ]
  },
  {
   "cell_type": "markdown",
   "id": "c6f52e42-e8d8-4b22-a196-03183a28b73c",
   "metadata": {},
   "source": [
    "## Test it worked"
   ]
  },
  {
   "cell_type": "code",
   "execution_count": 17,
   "id": "32bdd134-fe09-4e6d-a258-95beee5e7706",
   "metadata": {},
   "outputs": [
    {
     "name": "stderr",
     "output_type": "stream",
     "text": [
      "/tmp/ipykernel_319046/609122075.py:6: LangChainDeprecationWarning: The class `Chroma` was deprecated in LangChain 0.2.9 and will be removed in 1.0. An updated version of the class exists in the :class:`~langchain-chroma package and should be used instead. To use it run `pip install -U :class:`~langchain-chroma` and import as `from :class:`~langchain_chroma import Chroma``.\n",
      "  vectorstore = Chroma(persist_directory=persist_dir, embedding_function=embedding_model)\n"
     ]
    }
   ],
   "source": [
    "# Re-initialize the embedding model (must match what was used to build the DB)\n",
    "embedding_model = OpenAIEmbeddings()\n",
    "\n",
    "# Reload from persisted directory\n",
    "persist_dir = \"./rag_db\"\n",
    "vectorstore = Chroma(persist_directory=persist_dir, embedding_function=embedding_model)\n"
   ]
  },
  {
   "cell_type": "code",
   "execution_count": 20,
   "id": "97b22c3a-6c7f-4043-b2ba-2f1c1e0d4836",
   "metadata": {},
   "outputs": [
    {
     "name": "stdout",
     "output_type": "stream",
     "text": [
      "\n",
      "--- Result 1 ---\n",
      "Hypertrophic Scars (HS) and Keloids (K) are the result of abnormal wound healing and scar formation. These \n",
      "pathological scars present as a continuous inflammation and histologically are characterized by fibroblasts pro-liferation, newly formed blood vessels and collagen deposition. HSK are distinguished clinically by the extent of tissue overgrowth with respect to the margins of the original wound. HS typically occur within a few months in areas were scars are under tension, including the stern...\n",
      "\n",
      "--- Result 2 ---\n",
      "2\n",
      "Vol:.(1234567890) Scientific Reports  |        (2020) 10:21694  | https://doi.org/10.1038/s41598-020-78738-9\n",
      "www.nature.com/scientificreports/up to several years following minor trauma, and as well develop in areas such as earlobes, shoulders and chest. \n",
      "Keloids are more often symptomatic, being associated with pain and itching, and can proliferate well beyond the original limits of the  wound\n",
      "1,2. HSK can occur following different injury mechanisms including skin injuries, \n",
      "burns, surgery, in...\n",
      "\n",
      "--- Result 3 ---\n",
      "Aesthet. Plast. Surg.  31, 468–494 (2007).\n",
      " 4. Berman, B., Maderal, A. & Raphael, B. Keloids and hypertrophic scars: pathophysiology, classification, and treatment. Dermatol. \n",
      "Surg.  43(Suppl 1), S3–S18 (2017).\n",
      " 5. Wolfram, D., Tzankov, A., Pülzl, P . & Piza-Katzer, H. Hypertrophic scars and keloids—a review of their pathophysiology, risk factors, and therapeutic management. Dermatol. Surg. 35, 171–181 (2009).\n",
      " 6. Gauglitz, G. G., Korting, H. C., Pavicic, T., Ruzicka, T. & Jeschke, M. G. Hypertr...\n"
     ]
    }
   ],
   "source": [
    "# Test query\n",
    "query = \"tell me about Keloids and community disparities\"\n",
    "results = vectorstore.similarity_search(query, k=3)\n",
    "\n",
    "# Display results\n",
    "for i, doc in enumerate(results):\n",
    "    print(f\"\\n--- Result {i+1} ---\")\n",
    "    print(doc.page_content[:500] + \"...\")\n"
   ]
  },
  {
   "cell_type": "markdown",
   "id": "5bee61d8-2c12-4b44-8bfe-277b23f6bcb2",
   "metadata": {},
   "source": [
    "# Single Cell Analysis"
   ]
  },
  {
   "cell_type": "code",
   "execution_count": null,
   "id": "6c6544d5-1f20-4f79-8778-21289f174674",
   "metadata": {},
   "outputs": [],
   "source": []
  }
 ],
 "metadata": {
  "kernelspec": {
   "display_name": "Python 3 (ipykernel)",
   "language": "python",
   "name": "python3"
  },
  "language_info": {
   "codemirror_mode": {
    "name": "ipython",
    "version": 3
   },
   "file_extension": ".py",
   "mimetype": "text/x-python",
   "name": "python",
   "nbconvert_exporter": "python",
   "pygments_lexer": "ipython3",
   "version": "3.11.7"
  }
 },
 "nbformat": 4,
 "nbformat_minor": 5
}
