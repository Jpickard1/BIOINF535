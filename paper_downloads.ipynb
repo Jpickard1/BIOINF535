{
 "cells": [
  {
   "cell_type": "markdown",
   "id": "6e0babce-ed12-41ab-a8c8-646b3f0ffe12",
   "metadata": {},
   "source": [
    "# Paper Downloads"
   ]
  },
  {
   "cell_type": "code",
   "execution_count": 1,
   "id": "b546f09d-9313-4d9f-bc71-6bccfb47720a",
   "metadata": {},
   "outputs": [],
   "source": [
    "\"\"\"\n",
    "Search and download papers from Semantic Scholar.\n",
    "\n",
    "Usage:\n",
    "    python semantic_scholar_search.py \"deep learning biology\" 5 ./output/\n",
    "\"\"\"\n",
    "\n",
    "import requests\n",
    "import os\n",
    "import sys\n",
    "import json\n",
    "from tqdm import tqdm\n",
    "\n",
    "BASE_URL = \"https://api.semanticscholar.org/graph/v1/paper/search\"\n",
    "\n",
    "def search_semantic_scholar(query, limit=10):\n",
    "    params = {\n",
    "        \"query\": query,\n",
    "        \"limit\": limit,\n",
    "        \"fields\": \"title,authors,abstract,url,year,externalIds,isOpenAccess,openAccessPdf\"\n",
    "    }\n",
    "    response = requests.get(BASE_URL, params=params)\n",
    "    response.raise_for_status()\n",
    "    return response.json()[\"data\"]\n",
    "\n",
    "def save_metadata(papers, outdir):\n",
    "    metadata_path = os.path.join(outdir, \"papers_metadata.json\")\n",
    "    with open(metadata_path, \"w\") as f:\n",
    "        json.dump(papers, f, indent=2)\n",
    "    print(f\"[+] Saved metadata to {metadata_path}\")\n",
    "\n",
    "def download_pdfs(papers, outdir):\n",
    "    for i, paper in tqdm(enumerate(papers), desc=\"Downloading Papers\"):\n",
    "        pdf_url = paper.get(\"openAccessPdf\", {}).get(\"url\")\n",
    "        if pdf_url:\n",
    "            try:\n",
    "                response = requests.get(pdf_url)\n",
    "                response.raise_for_status()\n",
    "                filename = f\"paper_{i+1}.pdf\"\n",
    "                filepath = os.path.join(outdir, filename)\n",
    "                with open(filepath, \"wb\") as f:\n",
    "                    f.write(response.content)\n",
    "                print(f\"[+] Downloaded: {filename}\")\n",
    "            except Exception as e:\n",
    "                print(f\"[!] Failed to download paper {i+1}: {e}\")\n",
    "        else:\n",
    "            print(f\"[!] No open access PDF for paper {i+1}\")\n"
   ]
  },
  {
   "cell_type": "code",
   "execution_count": 8,
   "id": "d565ff4e-65af-49dd-8e70-0559baa4c316",
   "metadata": {},
   "outputs": [
    {
     "data": {
      "text/plain": [
       "'Hypertrophic_Scars_and_Keloids__Advances_in_Treatment_and_Review_of_Established_Therapies'"
      ]
     },
     "execution_count": 8,
     "metadata": {},
     "output_type": "execute_result"
    }
   ],
   "source": [
    "papers[0]['title'].replace(' ', '_').replace('.','_').replace('-','_').replace(',','_').replace(':','_')"
   ]
  },
  {
   "cell_type": "code",
   "execution_count": 2,
   "id": "a8c333b0-5ee3-41f8-b7d1-6ea0e8f67d38",
   "metadata": {
    "scrolled": true
   },
   "outputs": [
    {
     "name": "stdout",
     "output_type": "stream",
     "text": [
      "[+] Saved metadata to downloads/papers_metadata.json\n"
     ]
    },
    {
     "name": "stderr",
     "output_type": "stream",
     "text": [
      "Downloading Papers: 2it [00:00, 10.49it/s]"
     ]
    },
    {
     "name": "stdout",
     "output_type": "stream",
     "text": [
      "[!] No open access PDF for paper 1\n",
      "[!] Failed to download paper 2: 403 Client Error: Forbidden for url: https://journals.lww.com/10.1097/PRS.0000000000008667\n",
      "[!] No open access PDF for paper 3\n"
     ]
    },
    {
     "name": "stderr",
     "output_type": "stream",
     "text": [
      "Downloading Papers: 4it [00:00,  8.23it/s]"
     ]
    },
    {
     "name": "stdout",
     "output_type": "stream",
     "text": [
      "[!] Failed to download paper 4: 403 Client Error: Forbidden for url: https://pmc.ncbi.nlm.nih.gov/articles/PMC8975835\n"
     ]
    },
    {
     "name": "stderr",
     "output_type": "stream",
     "text": [
      "Downloading Papers: 5it [00:01,  3.57it/s]"
     ]
    },
    {
     "name": "stdout",
     "output_type": "stream",
     "text": [
      "[+] Downloaded: paper_5.pdf\n"
     ]
    },
    {
     "name": "stderr",
     "output_type": "stream",
     "text": [
      "Downloading Papers: 6it [00:01,  3.58it/s]"
     ]
    },
    {
     "name": "stdout",
     "output_type": "stream",
     "text": [
      "[!] Failed to download paper 6: 403 Client Error: Forbidden for url: https://pmc.ncbi.nlm.nih.gov/articles/PMC9797913\n"
     ]
    },
    {
     "name": "stderr",
     "output_type": "stream",
     "text": [
      "Downloading Papers: 7it [00:01,  3.85it/s]"
     ]
    },
    {
     "name": "stdout",
     "output_type": "stream",
     "text": [
      "[!] Failed to download paper 7: 403 Client Error: Forbidden for url: https://journals.lww.com/10.1097/CM9.0000000000002093\n",
      "[!] No open access PDF for paper 8\n",
      "[!] Failed to download paper 9: 403 Client Error: Forbidden for url: https://onlinelibrary.wiley.com/doi/pdfdirect/10.1111/exd.14121\n"
     ]
    },
    {
     "name": "stderr",
     "output_type": "stream",
     "text": [
      "Downloading Papers: 10it [00:03,  2.13it/s]"
     ]
    },
    {
     "name": "stdout",
     "output_type": "stream",
     "text": [
      "[+] Downloaded: paper_10.pdf\n"
     ]
    },
    {
     "name": "stderr",
     "output_type": "stream",
     "text": [
      "Downloading Papers: 11it [00:05,  1.32it/s]"
     ]
    },
    {
     "name": "stdout",
     "output_type": "stream",
     "text": [
      "[+] Downloaded: paper_11.pdf\n"
     ]
    },
    {
     "name": "stderr",
     "output_type": "stream",
     "text": [
      "Downloading Papers: 12it [00:05,  1.55it/s]"
     ]
    },
    {
     "name": "stdout",
     "output_type": "stream",
     "text": [
      "[!] Failed to download paper 12: 403 Client Error: Forbidden for url: https://pmc.ncbi.nlm.nih.gov/articles/PMC7940466\n"
     ]
    },
    {
     "name": "stderr",
     "output_type": "stream",
     "text": [
      "Downloading Papers: 13it [00:06,  1.69it/s]"
     ]
    },
    {
     "name": "stdout",
     "output_type": "stream",
     "text": [
      "[+] Downloaded: paper_13.pdf\n"
     ]
    },
    {
     "name": "stderr",
     "output_type": "stream",
     "text": [
      "Downloading Papers: 14it [00:07,  1.11it/s]"
     ]
    },
    {
     "name": "stdout",
     "output_type": "stream",
     "text": [
      "[+] Downloaded: paper_14.pdf\n",
      "[!] Failed to download paper 15: 403 Client Error: Forbidden for url: https://onlinelibrary.wiley.com/doi/pdfdirect/10.1111/exd.14414\n"
     ]
    },
    {
     "name": "stderr",
     "output_type": "stream",
     "text": [
      "Downloading Papers: 16it [00:11,  1.24s/it]"
     ]
    },
    {
     "name": "stdout",
     "output_type": "stream",
     "text": [
      "[+] Downloaded: paper_16.pdf\n"
     ]
    },
    {
     "name": "stderr",
     "output_type": "stream",
     "text": [
      "Downloading Papers: 17it [00:13,  1.44s/it]"
     ]
    },
    {
     "name": "stdout",
     "output_type": "stream",
     "text": [
      "[+] Downloaded: paper_17.pdf\n"
     ]
    },
    {
     "name": "stderr",
     "output_type": "stream",
     "text": [
      "Downloading Papers: 18it [00:15,  1.75s/it]"
     ]
    },
    {
     "name": "stdout",
     "output_type": "stream",
     "text": [
      "[+] Downloaded: paper_18.pdf\n",
      "[!] No open access PDF for paper 19\n"
     ]
    },
    {
     "name": "stderr",
     "output_type": "stream",
     "text": [
      "Downloading Papers: 20it [00:20,  2.06s/it]"
     ]
    },
    {
     "name": "stdout",
     "output_type": "stream",
     "text": [
      "[+] Downloaded: paper_20.pdf\n"
     ]
    },
    {
     "name": "stderr",
     "output_type": "stream",
     "text": [
      "Downloading Papers: 21it [00:22,  1.84s/it]"
     ]
    },
    {
     "name": "stdout",
     "output_type": "stream",
     "text": [
      "[+] Downloaded: paper_21.pdf\n"
     ]
    },
    {
     "name": "stderr",
     "output_type": "stream",
     "text": [
      "Downloading Papers: 22it [00:23,  1.73s/it]"
     ]
    },
    {
     "name": "stdout",
     "output_type": "stream",
     "text": [
      "[+] Downloaded: paper_22.pdf\n"
     ]
    },
    {
     "name": "stderr",
     "output_type": "stream",
     "text": [
      "Downloading Papers: 23it [00:24,  1.47s/it]"
     ]
    },
    {
     "name": "stdout",
     "output_type": "stream",
     "text": [
      "[+] Downloaded: paper_23.pdf\n"
     ]
    },
    {
     "name": "stderr",
     "output_type": "stream",
     "text": [
      "Downloading Papers: 24it [00:24,  1.23s/it]"
     ]
    },
    {
     "name": "stdout",
     "output_type": "stream",
     "text": [
      "[+] Downloaded: paper_24.pdf\n"
     ]
    },
    {
     "name": "stderr",
     "output_type": "stream",
     "text": [
      "Downloading Papers: 25it [00:32,  3.09s/it]"
     ]
    },
    {
     "name": "stdout",
     "output_type": "stream",
     "text": [
      "[+] Downloaded: paper_25.pdf\n",
      "[!] No open access PDF for paper 26\n"
     ]
    },
    {
     "name": "stderr",
     "output_type": "stream",
     "text": [
      "Downloading Papers: 27it [00:35,  2.26s/it]"
     ]
    },
    {
     "name": "stdout",
     "output_type": "stream",
     "text": [
      "[+] Downloaded: paper_27.pdf\n",
      "[!] No open access PDF for paper 28\n"
     ]
    },
    {
     "name": "stderr",
     "output_type": "stream",
     "text": [
      "Downloading Papers: 29it [00:44,  3.22s/it]"
     ]
    },
    {
     "name": "stdout",
     "output_type": "stream",
     "text": [
      "[+] Downloaded: paper_29.pdf\n",
      "[!] No open access PDF for paper 30\n"
     ]
    },
    {
     "name": "stderr",
     "output_type": "stream",
     "text": [
      "Downloading Papers: 31it [00:46,  2.43s/it]"
     ]
    },
    {
     "name": "stdout",
     "output_type": "stream",
     "text": [
      "[+] Downloaded: paper_31.pdf\n",
      "[!] No open access PDF for paper 32\n"
     ]
    },
    {
     "name": "stderr",
     "output_type": "stream",
     "text": [
      "Downloading Papers: 34it [00:48,  1.63s/it]"
     ]
    },
    {
     "name": "stdout",
     "output_type": "stream",
     "text": [
      "[+] Downloaded: paper_33.pdf\n",
      "[!] Failed to download paper 34: 403 Client Error: Forbidden for url: https://journals.lww.com/10.1097/GOX.0000000000002582\n"
     ]
    },
    {
     "name": "stderr",
     "output_type": "stream",
     "text": [
      "Downloading Papers: 35it [00:51,  1.91s/it]"
     ]
    },
    {
     "name": "stdout",
     "output_type": "stream",
     "text": [
      "[+] Downloaded: paper_35.pdf\n",
      "[!] No open access PDF for paper 36\n",
      "[!] Failed to download paper 37: 403 Client Error: Forbidden for url: https://onlinelibrary.wiley.com/doi/pdf/10.1111/jocd.12828\n",
      "[!] No open access PDF for paper 38\n",
      "[!] No open access PDF for paper 39\n"
     ]
    },
    {
     "name": "stderr",
     "output_type": "stream",
     "text": [
      "Downloading Papers: 40it [00:52,  1.28it/s]"
     ]
    },
    {
     "name": "stdout",
     "output_type": "stream",
     "text": [
      "[!] Failed to download paper 40: 403 Client Error: Forbidden for url: https://journals.lww.com/01720096-201903000-00015\n"
     ]
    },
    {
     "name": "stderr",
     "output_type": "stream",
     "text": [
      "Downloading Papers: 41it [00:52,  1.37it/s]"
     ]
    },
    {
     "name": "stdout",
     "output_type": "stream",
     "text": [
      "[!] Failed to download paper 41: 403 Client Error: Forbidden for url: https://oamjms.eu/index.php/mjms/article/view/oamjms.2019.099\n"
     ]
    },
    {
     "name": "stderr",
     "output_type": "stream",
     "text": [
      "Downloading Papers: 42it [00:54,  1.11it/s]"
     ]
    },
    {
     "name": "stdout",
     "output_type": "stream",
     "text": [
      "[+] Downloaded: paper_42.pdf\n"
     ]
    },
    {
     "name": "stderr",
     "output_type": "stream",
     "text": [
      "Downloading Papers: 43it [00:55,  1.04it/s]"
     ]
    },
    {
     "name": "stdout",
     "output_type": "stream",
     "text": [
      "[+] Downloaded: paper_43.pdf\n",
      "[!] No open access PDF for paper 44\n",
      "[!] No open access PDF for paper 45\n",
      "[!] No open access PDF for paper 46\n"
     ]
    },
    {
     "name": "stderr",
     "output_type": "stream",
     "text": [
      "Downloading Papers: 48it [00:55,  2.33it/s]"
     ]
    },
    {
     "name": "stdout",
     "output_type": "stream",
     "text": [
      "[!] Failed to download paper 47: 403 Client Error: Forbidden for url: https://pmc.ncbi.nlm.nih.gov/articles/PMC7949502\n",
      "[!] Failed to download paper 48: 403 Client Error: Forbidden for url: https://www.karger.com/Article/Pdf/491924\n"
     ]
    },
    {
     "name": "stderr",
     "output_type": "stream",
     "text": [
      "Downloading Papers: 49it [00:57,  1.63it/s]"
     ]
    },
    {
     "name": "stdout",
     "output_type": "stream",
     "text": [
      "[+] Downloaded: paper_49.pdf\n",
      "[!] No open access PDF for paper 50\n"
     ]
    },
    {
     "name": "stderr",
     "output_type": "stream",
     "text": [
      "Downloading Papers: 51it [00:57,  2.23it/s]"
     ]
    },
    {
     "name": "stdout",
     "output_type": "stream",
     "text": [
      "[+] Downloaded: paper_51.pdf\n",
      "[!] No open access PDF for paper 52\n"
     ]
    },
    {
     "name": "stderr",
     "output_type": "stream",
     "text": [
      "Downloading Papers: 53it [00:59,  1.46it/s]"
     ]
    },
    {
     "name": "stdout",
     "output_type": "stream",
     "text": [
      "[+] Downloaded: paper_53.pdf\n"
     ]
    },
    {
     "name": "stderr",
     "output_type": "stream",
     "text": [
      "Downloading Papers: 54it [01:03,  1.27s/it]"
     ]
    },
    {
     "name": "stdout",
     "output_type": "stream",
     "text": [
      "[+] Downloaded: paper_54.pdf\n"
     ]
    },
    {
     "name": "stderr",
     "output_type": "stream",
     "text": [
      "Downloading Papers: 55it [01:06,  1.60s/it]"
     ]
    },
    {
     "name": "stdout",
     "output_type": "stream",
     "text": [
      "[+] Downloaded: paper_55.pdf\n"
     ]
    },
    {
     "name": "stderr",
     "output_type": "stream",
     "text": [
      "Downloading Papers: 56it [01:06,  1.33s/it]"
     ]
    },
    {
     "name": "stdout",
     "output_type": "stream",
     "text": [
      "[!] Failed to download paper 56: 403 Client Error: Forbidden for url: https://journals.lww.com/00029330-201707200-00012\n",
      "[!] No open access PDF for paper 57\n",
      "[!] No open access PDF for paper 58\n",
      "[!] No open access PDF for paper 59\n",
      "[!] No open access PDF for paper 60\n"
     ]
    },
    {
     "name": "stderr",
     "output_type": "stream",
     "text": [
      "Downloading Papers: 61it [01:10,  1.07it/s]"
     ]
    },
    {
     "name": "stdout",
     "output_type": "stream",
     "text": [
      "[+] Downloaded: paper_61.pdf\n"
     ]
    },
    {
     "name": "stderr",
     "output_type": "stream",
     "text": [
      "Downloading Papers: 62it [01:12,  1.06s/it]"
     ]
    },
    {
     "name": "stdout",
     "output_type": "stream",
     "text": [
      "[+] Downloaded: paper_62.pdf\n"
     ]
    },
    {
     "name": "stderr",
     "output_type": "stream",
     "text": [
      "Downloading Papers: 65it [01:12,  1.51it/s]"
     ]
    },
    {
     "name": "stdout",
     "output_type": "stream",
     "text": [
      "[+] Downloaded: paper_63.pdf\n",
      "[!] No open access PDF for paper 64\n",
      "[!] Failed to download paper 65: 403 Client Error: Forbidden for url: https://downloads.hindawi.com/archive/2016/5162394.pdf\n",
      "[!] No open access PDF for paper 66\n"
     ]
    },
    {
     "name": "stderr",
     "output_type": "stream",
     "text": [
      "Downloading Papers: 67it [01:16,  1.01s/it]"
     ]
    },
    {
     "name": "stdout",
     "output_type": "stream",
     "text": [
      "[+] Downloaded: paper_67.pdf\n",
      "[!] No open access PDF for paper 68\n"
     ]
    },
    {
     "name": "stderr",
     "output_type": "stream",
     "text": [
      "Downloading Papers: 69it [01:16,  1.28it/s]"
     ]
    },
    {
     "name": "stdout",
     "output_type": "stream",
     "text": [
      "[+] Downloaded: paper_69.pdf\n",
      "[!] No open access PDF for paper 70\n",
      "[!] No open access PDF for paper 71\n",
      "[!] Failed to download paper 72: 403 Client Error: Forbidden for url: https://onlinelibrary.wiley.com/doi/pdfdirect/10.1111/1346-8138.14110\n"
     ]
    },
    {
     "name": "stderr",
     "output_type": "stream",
     "text": [
      "Downloading Papers: 73it [01:24,  1.29s/it]"
     ]
    },
    {
     "name": "stdout",
     "output_type": "stream",
     "text": [
      "[+] Downloaded: paper_73.pdf\n",
      "[!] No open access PDF for paper 74\n"
     ]
    },
    {
     "name": "stderr",
     "output_type": "stream",
     "text": [
      "Downloading Papers: 75it [01:24,  1.00it/s]"
     ]
    },
    {
     "name": "stdout",
     "output_type": "stream",
     "text": [
      "[!] Failed to download paper 75: 403 Client Error: Forbidden for url: https://pmc.ncbi.nlm.nih.gov/articles/PMC7949688\n"
     ]
    },
    {
     "name": "stderr",
     "output_type": "stream",
     "text": [
      "Downloading Papers: 76it [01:24,  1.13it/s]"
     ]
    },
    {
     "name": "stdout",
     "output_type": "stream",
     "text": [
      "[!] Failed to download paper 76: 403 Client Error: Forbidden for url: https://journals.lww.com/01720096-201705000-00021\n"
     ]
    },
    {
     "name": "stderr",
     "output_type": "stream",
     "text": [
      "Downloading Papers: 77it [01:31,  1.94s/it]"
     ]
    },
    {
     "name": "stdout",
     "output_type": "stream",
     "text": [
      "[+] Downloaded: paper_77.pdf\n"
     ]
    },
    {
     "name": "stderr",
     "output_type": "stream",
     "text": [
      "Downloading Papers: 78it [01:37,  2.76s/it]"
     ]
    },
    {
     "name": "stdout",
     "output_type": "stream",
     "text": [
      "[+] Downloaded: paper_78.pdf\n",
      "[!] No open access PDF for paper 79\n",
      "[!] No open access PDF for paper 80\n",
      "[!] No open access PDF for paper 81\n",
      "[!] No open access PDF for paper 82\n",
      "[!] No open access PDF for paper 83\n",
      "[!] Failed to download paper 84: 403 Client Error: Forbidden for url: https://downloads.hindawi.com/journals/bmri/2016/5893481.pdf\n",
      "[!] No open access PDF for paper 85\n",
      "[!] No open access PDF for paper 86\n",
      "[!] No open access PDF for paper 87\n"
     ]
    },
    {
     "name": "stderr",
     "output_type": "stream",
     "text": [
      "Downloading Papers: 88it [01:37,  1.36it/s]"
     ]
    },
    {
     "name": "stdout",
     "output_type": "stream",
     "text": [
      "[!] Failed to download paper 88: 403 Client Error: Forbidden for url: https://pmc.ncbi.nlm.nih.gov/articles/PMC7950168\n"
     ]
    },
    {
     "name": "stderr",
     "output_type": "stream",
     "text": [
      "Downloading Papers: 89it [01:38,  1.30it/s]"
     ]
    },
    {
     "name": "stdout",
     "output_type": "stream",
     "text": [
      "[+] Downloaded: paper_89.pdf\n",
      "[!] No open access PDF for paper 90\n",
      "[!] No open access PDF for paper 91\n"
     ]
    },
    {
     "name": "stderr",
     "output_type": "stream",
     "text": [
      "Downloading Papers: 92it [01:39,  1.75it/s]"
     ]
    },
    {
     "name": "stdout",
     "output_type": "stream",
     "text": [
      "[!] Failed to download paper 92: 403 Client Error: Forbidden for url: https://pmc.ncbi.nlm.nih.gov/articles/PMC7949878\n",
      "[!] No open access PDF for paper 93\n",
      "[!] No open access PDF for paper 94\n"
     ]
    },
    {
     "name": "stderr",
     "output_type": "stream",
     "text": [
      "Downloading Papers: 95it [01:40,  2.10it/s]"
     ]
    },
    {
     "name": "stdout",
     "output_type": "stream",
     "text": [
      "[!] Failed to download paper 95: 403 Client Error: Forbidden for url: https://journals.lww.com/01720096-201506000-00014\n",
      "[!] No open access PDF for paper 96\n",
      "[!] No open access PDF for paper 97\n",
      "[!] No open access PDF for paper 98\n"
     ]
    },
    {
     "name": "stderr",
     "output_type": "stream",
     "text": [
      "Downloading Papers: 99it [01:41,  2.27it/s]"
     ]
    },
    {
     "name": "stdout",
     "output_type": "stream",
     "text": [
      "[+] Downloaded: paper_99.pdf\n"
     ]
    },
    {
     "name": "stderr",
     "output_type": "stream",
     "text": [
      "Downloading Papers: 100it [01:42,  1.03s/it]"
     ]
    },
    {
     "name": "stdout",
     "output_type": "stream",
     "text": [
      "[+] Downloaded: paper_100.pdf\n"
     ]
    },
    {
     "name": "stderr",
     "output_type": "stream",
     "text": [
      "\n"
     ]
    }
   ],
   "source": [
    "output_dir = \"downloads\"\n",
    "query = \"keloids\"\n",
    "num_papers = 100\n",
    "os.makedirs(output_dir, exist_ok=True)\n",
    "papers = search_semantic_scholar(query, num_papers)\n",
    "save_metadata(papers, output_dir)\n",
    "download_pdfs(papers, output_dir)"
   ]
  },
  {
   "cell_type": "code",
   "execution_count": 4,
   "id": "a4c6fc50-7ad9-4bad-ac01-d12d9e3fad2c",
   "metadata": {},
   "outputs": [
    {
     "name": "stdout",
     "output_type": "stream",
     "text": [
      "[+] Saved metadata to downloads/papers_metadata.json\n"
     ]
    }
   ],
   "source": [
    "save_metadata(papers, output_dir)"
   ]
  },
  {
   "cell_type": "code",
   "execution_count": 5,
   "id": "3cc9e96c-3432-4155-9833-291423e4fb9d",
   "metadata": {},
   "outputs": [
    {
     "name": "stdout",
     "output_type": "stream",
     "text": [
      "[!] No open access PDF for paper 1\n",
      "[!] Failed to download paper 2: 403 Client Error: Forbidden for url: https://journals.lww.com/10.1097/PRS.0000000000008667\n",
      "[!] No open access PDF for paper 3\n",
      "[!] Failed to download paper 4: 403 Client Error: Forbidden for url: https://pmc.ncbi.nlm.nih.gov/articles/PMC8975835\n",
      "[+] Downloaded: paper_5.pdf\n",
      "[!] Failed to download paper 6: 403 Client Error: Forbidden for url: https://pmc.ncbi.nlm.nih.gov/articles/PMC9797913\n",
      "[!] Failed to download paper 7: 403 Client Error: Forbidden for url: https://journals.lww.com/10.1097/CM9.0000000000002093\n",
      "[!] No open access PDF for paper 8\n",
      "[!] Failed to download paper 9: 403 Client Error: Forbidden for url: https://onlinelibrary.wiley.com/doi/pdfdirect/10.1111/exd.14121\n",
      "[+] Downloaded: paper_10.pdf\n"
     ]
    }
   ],
   "source": [
    "download_pdfs(papers, output_dir)"
   ]
  },
  {
   "cell_type": "code",
   "execution_count": null,
   "id": "629a9319-eec8-45ba-9c82-b7838e33ffd5",
   "metadata": {},
   "outputs": [],
   "source": [
    "def main():\n",
    "    if len(sys.argv) != 4:\n",
    "        print(\"Usage: python semantic_scholar_search.py \\\"<query>\\\" <num_papers> <output_dir>\")\n",
    "        sys.exit(1)\n",
    "\n",
    "    query = sys.argv[1]\n",
    "    num_papers = int(sys.argv[2])\n",
    "    output_dir = sys.argv[3]\n",
    "\n",
    "    os.makedirs(output_dir, exist_ok=True)\n",
    "    papers = search_semantic_scholar(query, num_papers)\n",
    "    save_metadata(papers, output_dir)\n",
    "    download_pdfs(papers, output_dir)\n",
    "\n",
    "if __name__ == \"__main__\":\n",
    "    main()\n"
   ]
  }
 ],
 "metadata": {
  "kernelspec": {
   "display_name": "Python 3 (ipykernel)",
   "language": "python",
   "name": "python3"
  },
  "language_info": {
   "codemirror_mode": {
    "name": "ipython",
    "version": 3
   },
   "file_extension": ".py",
   "mimetype": "text/x-python",
   "name": "python",
   "nbconvert_exporter": "python",
   "pygments_lexer": "ipython3",
   "version": "3.11.7"
  }
 },
 "nbformat": 4,
 "nbformat_minor": 5
}
